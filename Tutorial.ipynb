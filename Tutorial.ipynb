{
 "cells": [
  {
   "cell_type": "markdown",
   "metadata": {},
   "source": [
    "<div class=\"alert alert-block alert-warning\">Some parts of this tutorial may not work properly when viewing the tutorial on github. (In particular plotting.) To get the most out of this tutorial, consider running the tutorial locally in your own clone of the repository as explained in the [README](https://github.com/katelaan/sloth/blob/master/README.md). This will also allow you to modify the code examples.</div>"
   ]
  },
  {
   "cell_type": "markdown",
   "metadata": {},
   "source": [
    "# `sloth` Tutorial\n",
    "\n",
    "`sloth` is a solver for the separation logic $\\mathbf{SL}_\\mathsf{data}^{*}$. `sloth` comes both with a command-line interface (CLI) and with a Python API. This tutorial focuses on the use of the API, but also gives an overview of the SMT-LIB extension that serves as the input format for the CLI.\n",
    "\n",
    "I assume that you have seen separation logic before, though not necessarily $\\mathbf{SL}_\\mathsf{data}^{*}$. I will explain some more unusual features of $\\mathbf{SL}_\\mathsf{data}^{*}$ as we go along."
   ]
  },
  {
   "cell_type": "markdown",
   "metadata": {},
   "source": [
    "## The `sloth` Python API: Create Formulas, Solve Formulas, and Visualize Models\n",
    "\n",
    "The `sloth` API allows you to build $\\mathbf{SL}_\\mathsf{data}^{*}$ formulas and combine them with `Z3` expressions as built through `Z3`'s Python API.\n",
    "\n",
    "We begin by importing some useful functions from `Z3` as well as the `sloth` API."
   ]
  },
  {
   "cell_type": "code",
   "execution_count": 1,
   "metadata": {},
   "outputs": [],
   "source": [
    "from z3 import And, Or, Not, Ints\n",
    "from sloth import *"
   ]
  },
  {
   "cell_type": "markdown",
   "metadata": {},
   "source": [
    "The easiest way to understand $\\mathbf{SL}_\\mathsf{data}^{*}$ and `sloth` is to build $\\mathbf{SL}_\\mathsf{data}^{*}$ formulas via the API, check them for satisfiability and inspect the models that z3 finds. Let's begin with the equivalent API call for the $\\mathbf{SL}_\\mathsf{data}^{*}$ formula $\\mathsf{list}(x)$, a null-terminated list rooted in `x`."
   ]
  },
  {
   "cell_type": "code",
   "execution_count": 2,
   "metadata": {},
   "outputs": [
    {
     "data": {
      "text/plain": [
       "sl.list(x)"
      ]
     },
     "execution_count": 2,
     "metadata": {},
     "output_type": "execute_result"
    }
   ],
   "source": [
    "sl.list('x')"
   ]
  },
  {
   "cell_type": "markdown",
   "metadata": {},
   "source": [
    "As you can see, we prefix the `list` call with `sl.` Notice that the quotes around `x` are gone in the output. This is because the function call has returned a `Z3.ExprRef` instance. I will explain later why we reuse `Z3`'s expressions in our API. But let's first do something with the above formula.\n",
    "    "
   ]
  },
  {
   "cell_type": "code",
   "execution_count": 3,
   "metadata": {},
   "outputs": [
    {
     "data": {
      "text/plain": [
       "True"
      ]
     },
     "execution_count": 3,
     "metadata": {},
     "output_type": "execute_result"
    }
   ],
   "source": [
    "is_sat(sl.list('x'))"
   ]
  },
  {
   "cell_type": "code",
   "execution_count": 4,
   "metadata": {},
   "outputs": [
    {
     "data": {
      "text/plain": [
       "Model [\n",
       "  Struct sl.list [\n",
       "    locs = Integers(0, 1:[x])\n",
       "    null = 0\n",
       "    next = 1->0\n",
       "    data = undefined\n",
       "    footprints:\n",
       "    _Xdata=[1], _Xnext=[1]\n",
       "  ]\n",
       "  Data [undefined]\n",
       "]"
      ]
     },
     "execution_count": 4,
     "metadata": {},
     "output_type": "execute_result"
    }
   ],
   "source": [
    "model(sl.list('x'))"
   ]
  },
  {
   "cell_type": "markdown",
   "metadata": {},
   "source": [
    "The formula is satisfiable and `sloth` has found a model: A list of length 1 from x to null.\n",
    "\n",
    "Let's examine a few more features: Allocating individual pointers, list segments, and the combination via the separating conjunction:"
   ]
  },
  {
   "cell_type": "code",
   "execution_count": 5,
   "metadata": {},
   "outputs": [
    {
     "data": {
      "text/plain": [
       "Model [\n",
       "  Struct sl.list [\n",
       "    locs = Integers(0:[y], 1:[x], 3:[sl.list.null])\n",
       "    null = 3\n",
       "    next = 0->3, 1->0\n",
       "    data = undefined\n",
       "    footprints:\n",
       "    _Xnext=[0, 1], _Xdata=[1]\n",
       "  ]\n",
       "  Data [undefined]\n",
       "]"
      ]
     },
     "execution_count": 5,
     "metadata": {},
     "output_type": "execute_result"
    }
   ],
   "source": [
    "m = model(sl.sepcon(sl.list.seg('x', 'y'), sl.list.next('y', sl.list.null))); m"
   ]
  },
  {
   "cell_type": "markdown",
   "metadata": {},
   "source": [
    "Observe that `x` and `y` are interpreted as different locations, since they are both allocated and separated by a separating conjunction. We can use the API to visualize the model:"
   ]
  },
  {
   "cell_type": "code",
   "execution_count": 6,
   "metadata": {},
   "outputs": [
    {
     "data": {
      "text/html": [
       "<script>requirejs.config({paths: { 'plotly': ['https://cdn.plot.ly/plotly-latest.min']},});if(!window.Plotly) {{require(['plotly'],function(plotly) {window.Plotly=plotly;});}}</script>"
      ],
      "text/vnd.plotly.v1+html": [
       "<script>requirejs.config({paths: { 'plotly': ['https://cdn.plot.ly/plotly-latest.min']},});if(!window.Plotly) {{require(['plotly'],function(plotly) {window.Plotly=plotly;});}}</script>"
      ]
     },
     "metadata": {},
     "output_type": "display_data"
    },
    {
     "data": {
      "application/vnd.plotly.v1+json": {
       "data": [
        {
         "hoverinfo": "none",
         "line": {
          "color": "red",
          "width": 2
         },
         "mode": "lines+text",
         "text": "next",
         "textposition": "top",
         "type": "scatter",
         "x": [
          0.06607547762427966,
          -0.73348113059393,
          null,
          0.9339245223757205,
          0.2830377388121399,
          null
         ],
         "y": [
          -0.013133117995945479,
          -0.2235697437916282,
          null,
          0.30684840371946775,
          0.06686226243290783,
          null
         ]
        },
        {
         "hoverinfo": "none",
         "line": {
          "color": "red",
          "width": 7
         },
         "mode": "lines",
         "type": "scatter",
         "x": [
          -0.73348113059393,
          -1,
          null,
          0.2830377388121399,
          0.06607547762427966,
          null
         ],
         "y": [
          -0.2235697437916282,
          -0.2937152857235224,
          null,
          0.06686226243290783,
          -0.013133117995945479,
          null
         ]
        },
        {
         "hoverinfo": "text",
         "marker": {
          "color": "rgb(127,127,255)",
          "line": {
           "color": "rgb(50,50,50)",
           "width": 2
          },
          "size": 25,
          "symbol": "dot"
         },
         "mode": "markers+text",
         "text": [
          "y",
          "x",
          "sl.list.null"
         ],
         "textposition": "top",
         "type": "scatter",
         "x": [
          0.06607547762427966,
          0.9339245223757205,
          -1
         ],
         "y": [
          -0.013133117995945479,
          0.30684840371946775,
          -0.2937152857235224
         ]
        }
       ],
       "layout": {
        "font": {
         "size": 12
        },
        "hovermode": "closest",
        "showlegend": false,
        "title": "Model",
        "xaxis": {
         "showgrid": false,
         "showticklabels": false,
         "zeroline": false
        },
        "yaxis": {
         "showgrid": false,
         "showticklabels": false,
         "zeroline": false
        }
       }
      },
      "text/html": [
       "<div id=\"dbfb7de1-3471-470c-b7c0-065b68170e99\" style=\"height: 525px; width: 100%;\" class=\"plotly-graph-div\"></div><script type=\"text/javascript\">require([\"plotly\"], function(Plotly) { window.PLOTLYENV=window.PLOTLYENV || {};window.PLOTLYENV.BASE_URL=\"https://plot.ly\";Plotly.newPlot(\"dbfb7de1-3471-470c-b7c0-065b68170e99\", [{\"text\": \"next\", \"y\": [-0.013133117995945479, -0.2235697437916282, null, 0.30684840371946775, 0.06686226243290783, null], \"hoverinfo\": \"none\", \"textposition\": \"top\", \"line\": {\"width\": 2, \"color\": \"red\"}, \"type\": \"scatter\", \"mode\": \"lines+text\", \"x\": [0.06607547762427966, -0.73348113059393, null, 0.9339245223757205, 0.2830377388121399, null]}, {\"y\": [-0.2235697437916282, -0.2937152857235224, null, 0.06686226243290783, -0.013133117995945479, null], \"hoverinfo\": \"none\", \"line\": {\"width\": 7, \"color\": \"red\"}, \"type\": \"scatter\", \"mode\": \"lines\", \"x\": [-0.73348113059393, -1.0, null, 0.2830377388121399, 0.06607547762427966, null]}, {\"text\": [\"y\", \"x\", \"sl.list.null\"], \"y\": [-0.013133117995945479, 0.30684840371946775, -0.2937152857235224], \"hoverinfo\": \"text\", \"textposition\": \"top\", \"mode\": \"markers+text\", \"type\": \"scatter\", \"marker\": {\"color\": \"rgb(127,127,255)\", \"symbol\": \"dot\", \"size\": 25, \"line\": {\"width\": 2, \"color\": \"rgb(50,50,50)\"}}, \"x\": [0.06607547762427966, 0.9339245223757205, -1.0]}], {\"title\": \"Model\", \"hovermode\": \"closest\", \"showlegend\": false, \"font\": {\"size\": 12}, \"yaxis\": {\"zeroline\": false, \"showticklabels\": false, \"showgrid\": false}, \"xaxis\": {\"zeroline\": false, \"showticklabels\": false, \"showgrid\": false}}, {\"showLink\": true, \"linkText\": \"Export to plot.ly\"})});</script>"
      ],
      "text/vnd.plotly.v1+html": [
       "<div id=\"dbfb7de1-3471-470c-b7c0-065b68170e99\" style=\"height: 525px; width: 100%;\" class=\"plotly-graph-div\"></div><script type=\"text/javascript\">require([\"plotly\"], function(Plotly) { window.PLOTLYENV=window.PLOTLYENV || {};window.PLOTLYENV.BASE_URL=\"https://plot.ly\";Plotly.newPlot(\"dbfb7de1-3471-470c-b7c0-065b68170e99\", [{\"text\": \"next\", \"y\": [-0.013133117995945479, -0.2235697437916282, null, 0.30684840371946775, 0.06686226243290783, null], \"hoverinfo\": \"none\", \"textposition\": \"top\", \"line\": {\"width\": 2, \"color\": \"red\"}, \"type\": \"scatter\", \"mode\": \"lines+text\", \"x\": [0.06607547762427966, -0.73348113059393, null, 0.9339245223757205, 0.2830377388121399, null]}, {\"y\": [-0.2235697437916282, -0.2937152857235224, null, 0.06686226243290783, -0.013133117995945479, null], \"hoverinfo\": \"none\", \"line\": {\"width\": 7, \"color\": \"red\"}, \"type\": \"scatter\", \"mode\": \"lines\", \"x\": [-0.73348113059393, -1.0, null, 0.2830377388121399, 0.06607547762427966, null]}, {\"text\": [\"y\", \"x\", \"sl.list.null\"], \"y\": [-0.013133117995945479, 0.30684840371946775, -0.2937152857235224], \"hoverinfo\": \"text\", \"textposition\": \"top\", \"mode\": \"markers+text\", \"type\": \"scatter\", \"marker\": {\"color\": \"rgb(127,127,255)\", \"symbol\": \"dot\", \"size\": 25, \"line\": {\"width\": 2, \"color\": \"rgb(50,50,50)\"}}, \"x\": [0.06607547762427966, 0.9339245223757205, -1.0]}], {\"title\": \"Model\", \"hovermode\": \"closest\", \"showlegend\": false, \"font\": {\"size\": 12}, \"yaxis\": {\"zeroline\": false, \"showticklabels\": false, \"showgrid\": false}, \"xaxis\": {\"zeroline\": false, \"showticklabels\": false, \"showgrid\": false}}, {\"showLink\": true, \"linkText\": \"Export to plot.ly\"})});</script>"
      ]
     },
     "metadata": {},
     "output_type": "display_data"
    }
   ],
   "source": [
    "iplot(m)"
   ]
  },
  {
   "cell_type": "markdown",
   "metadata": {},
   "source": [
    "<div class=\"alert alert-block alert-warning\">If you don't see the visualization, you're probably viewing the tutorial on github rather than locally. Consider following the steps in the [README](https://github.com/katelaan/sloth/blob/master/README.md) to run the tutorial locally. This will also allow you to modify the code examples.</div>"
   ]
  },
  {
   "cell_type": "markdown",
   "metadata": {},
   "source": [
    "$\\SLstar$ also supports trees and tree segments. For example, we can define a tree segment rooted in `t` with two non-null leaves `u` and `v` that have backpointers to the root originating in leaves `u` and `v`. The `.seg2` suffix of the tree predicate call denotes a tree segment with 2 stop nodes."
   ]
  },
  {
   "cell_type": "code",
   "execution_count": 7,
   "metadata": {},
   "outputs": [
    {
     "data": {
      "text/plain": [
       "Model [\n",
       "  Struct sl.tree [\n",
       "    locs = Integers(0, 1:[u], 2:[v], 3, 4, 5, 6:[t])\n",
       "    null = 0\n",
       "    right = 2->6, 3->0, 4->3, 5->4, 6->5\n",
       "    left = 1->6, 3->2, 4->0, 5->0, 6->1\n",
       "    data = undefined\n",
       "    footprints:\n",
       "    _Xright=[2, 3, 4, 5, 6], _Xleft=[1, 3, 4, 5, 6], _Xdata=[3, 4, 5, 6]\n",
       "  ]\n",
       "  Data [undefined]\n",
       "]"
      ]
     },
     "execution_count": 7,
     "metadata": {},
     "output_type": "execute_result"
    }
   ],
   "source": [
    "model(sl.sepcon(sl.tree.seg2('t', 'u', 'v'), sl.tree.left('u', 't'), sl.tree.right('v', 't')))"
   ]
  },
  {
   "cell_type": "markdown",
   "metadata": {},
   "source": [
    "In this manner, we can define cycles as well as bounded sharing in the heap, even though both $\\ls$ and $\\tree$ predicates themselves always describe acyclic structures.\n",
    "\n",
    "$\\SLstar$ also supports universal data constraints. But before we go on, let's allocate a few appropriately-sorted variables to spare ourselves some typing for the rest of the tutorial."
   ]
  },
  {
   "cell_type": "code",
   "execution_count": 8,
   "metadata": {},
   "outputs": [],
   "source": [
    "t, u, v = sl.tree.locs('t u v')\n",
    "x, y, z, w = sl.list.locs('x y z w')\n",
    "d, e, f, g = Ints('d e f g')"
   ]
  },
  {
   "cell_type": "markdown",
   "metadata": {},
   "source": [
    "Now let's specify sorted lists rooted in `x`! In $\\mathbf{SL}_\\mathsf{data}^{*}$, we write this as $\\mathsf{list}(x, (\\textsf{n}, \\alpha < \\beta))$. Intuitively, the data predicate $\\alpha < \\beta$ holds for all locations in the list rooted in `x`. $\\alpha$ and $\\beta$ are special variables that range over the data stored in the list locations. In the above example, the data predicate specifies that for all locations $\\ell_1$ containing data value $\\alpha$ and $\\ell_2$ containing data value $\\beta$, if $\\ell_2$ is reachable from $\\ell_1$ by first taking an $\\textsf{n}$-pointer, then $\\alpha < \\beta$ holds.\n",
    "\n",
    "While this is somewhat complicated, the idea is very simple: Look at the list. Fix two arbitrary locations. Then the one later in the list stores a larger data value than the one earlier in the list. In other words, the list is sorted.\n",
    "\n",
    "In `sloth`, we can specify the sorted list with a very similar syntax. Note the additional `dpred`, though. This signifies that we're defining a data predicate rather than an ordinary list predicate. The `.next` corresponds to the $\\textsf{n}$ in $\\ls(x, (\\textsf{n}, \\alpha < \\beta))$. (It will become clear why it makes sense to specify a field when we're defining data predicates for trees.)"
   ]
  },
  {
   "cell_type": "code",
   "execution_count": 9,
   "metadata": {},
   "outputs": [
    {
     "data": {
      "text/plain": [
       "Model [\n",
       "  Struct sl.list [\n",
       "    locs = Integers(0, 1:[x])\n",
       "    null = 0\n",
       "    next = 1->0\n",
       "    data = undefined\n",
       "    footprints:\n",
       "    _Xnext=[1], _Xdata=[1]\n",
       "  ]\n",
       "  Data [undefined]\n",
       "]"
      ]
     },
     "execution_count": 9,
     "metadata": {},
     "output_type": "execute_result"
    }
   ],
   "source": [
    "sorted_list = sl.list.dpred.next(sl.alpha < sl.beta, x)\n",
    "model(sorted_list)"
   ]
  },
  {
   "cell_type": "markdown",
   "metadata": {},
   "source": [
    "Hurray, `sloth` found a sorted list! Which contains exactly one element! As you can see, Z3 did not even define the data function (`data = undefined`). This sometimes happens when the truth value of the formula does not depend on the interpretation of a function. This is the case here: No matter the data it contains, a list of length 1 is indeed sorted.\n",
    "\n",
    "So let's make things more interesting and force a minimum length. We will use an auxiliary function that makes it less cumbersome to specify data structures of fixed size."
   ]
  },
  {
   "cell_type": "code",
   "execution_count": 10,
   "metadata": {},
   "outputs": [
    {
     "data": {
      "text/plain": [
       "sl.sepcon(sl.sepcon(sl.sepcon(sl.sepcon(sl.list.next(x, a1),\n",
       "                                        sl.list.next(a1, a2)),\n",
       "                              sl.sepcon(sl.list.next(a2, a3),\n",
       "                                        sl.list.next(a3, a4))),\n",
       "                    sl.sepcon(sl.sepcon(sl.list.next(a4, a5),\n",
       "                                        sl.list.next(a5, a6)),\n",
       "                              sl.sepcon(sl.list.next(a6, a7),\n",
       "                                        sl.list.next(a7,\n",
       "                                        sl.list.null)))),\n",
       "          sl.sepcon(sl.sepcon(sl.sepcon(sl.list.data(x, d0),\n",
       "                                        sl.list.data(a1, d1)),\n",
       "                              sl.sepcon(sl.list.data(a2, d2),\n",
       "                                        sl.list.data(a3, d3))),\n",
       "                    sl.sepcon(sl.sepcon(sl.list.data(a4, d4),\n",
       "                                        sl.list.data(a5, d5)),\n",
       "                              sl.sepcon(sl.list.data(a6, d6),\n",
       "                                        sl.list.data(a7, d7)))))"
      ]
     },
     "execution_count": 10,
     "metadata": {},
     "output_type": "execute_result"
    }
   ],
   "source": [
    "from sloth.slbuilders import list_of_length\n",
    "length8 = list_of_length(8, x, sl.list.null); length8"
   ]
  },
  {
   "cell_type": "markdown",
   "metadata": {},
   "source": [
    "It would have been kind of annoying to write that by hand, wouldn't it?\n",
    "\n",
    "Next we simply conjoin `length8` and `sorted_list`. This is where it is really useful that the `sloth` API constructs `Z3` expression references: We can use all the features of the Z3 API together with our SL assertions. You can construct the conjunction of two $\\mathbf{SL}_\\mathsf{data}^{*}$ formulas by calling `Z3`'s `And` function."
   ]
  },
  {
   "cell_type": "code",
   "execution_count": 11,
   "metadata": {},
   "outputs": [
    {
     "data": {
      "text/plain": [
       "Model [\n",
       "  Struct sl.list [\n",
       "    locs = Integers(7:[x], 15:[a1], 16:[a2], 17:[a3], 18:[a4], 19:[a5], 20:[a6], 21:[a7], 22:[sl.list.null])\n",
       "    null = 22\n",
       "    next = 7->15, 15->16, 16->17, 17->18, 18->19, 19->20, 20->21, 21->22\n",
       "    data = 7->-5, 15->-4, 16->-3, 17->-2, 18->-1, 19->0, 20->1, 21->2\n",
       "    footprints:\n",
       "    _Xdata=[7, 15, 16, 17, 18, 19, 20, 21], _Xnext=[7, 15, 16, 17, 18, 19, 20\n",
       "    21]\n",
       "  ]\n",
       "  Data [\n",
       "    d0=-5, d1=-4, d2=-3, d3=-2, d4=-1, d5=0, d6=1, d7=2\n",
       "  ]\n",
       "]"
      ]
     },
     "execution_count": 11,
     "metadata": {},
     "output_type": "execute_result"
    }
   ],
   "source": [
    "sorted_length8 = And(sorted_list, length8)\n",
    "m = model(sorted_length8); m"
   ]
  },
  {
   "cell_type": "markdown",
   "metadata": {},
   "source": [
    "Let's plot the model to make it easier to figure out what's going on here!"
   ]
  },
  {
   "cell_type": "code",
   "execution_count": 12,
   "metadata": {},
   "outputs": [
    {
     "data": {
      "application/vnd.plotly.v1+json": {
       "data": [
        {
         "hoverinfo": "none",
         "line": {
          "color": "red",
          "width": 2
         },
         "mode": "lines+text",
         "text": "next",
         "textposition": "top",
         "type": "scatter",
         "x": [
          0.5907813166519733,
          0.425445438866592,
          null,
          0.3703334796047982,
          0.1295468693222359,
          null,
          0.04928466589471516,
          -0.12626069742390353,
          null,
          -0.18477581853010977,
          -0.2892874536432939,
          null,
          -0.32412466534768863,
          -0.5238601525648248,
          null,
          -0.5904386483038702,
          -0.8976096620759675,
          null,
          0.5323924126279841,
          0.5505085462086444,
          null,
          0.5565472574021979,
          0.5822228018395295,
          null
         ],
         "y": [
          0.07679634684293006,
          0.1981438846028266,
          null,
          0.23859306385612541,
          0.23446480471960804,
          null,
          0.2330887183407689,
          0.1264948398311026,
          null,
          0.09096354699454713,
          -0.03902223181879226,
          null,
          -0.08235082475657206,
          -0.03820785742820228,
          null,
          -0.02349353498541235,
          0.07006118040479102,
          null,
          -0.4481689920204813,
          -0.2520480553601939,
          null,
          -0.18667440980676472,
          0.010928657680506354,
          null
         ]
        },
        {
         "hoverinfo": "none",
         "line": {
          "color": "red",
          "width": 7
         },
         "mode": "lines",
         "type": "scatter",
         "x": [
          0.425445438866592,
          0.3703334796047982,
          null,
          0.1295468693222359,
          0.04928466589471516,
          null,
          -0.12626069742390353,
          -0.18477581853010977,
          null,
          -0.2892874536432939,
          -0.32412466534768863,
          null,
          -0.5238601525648248,
          -0.5904386483038702,
          null,
          -0.8976096620759675,
          -1,
          null,
          0.5505085462086444,
          0.5565472574021979,
          null,
          0.5822228018395295,
          0.5907813166519733,
          null
         ],
         "y": [
          0.1981438846028266,
          0.23859306385612541,
          null,
          0.23446480471960804,
          0.2330887183407689,
          null,
          0.1264948398311026,
          0.09096354699454713,
          null,
          -0.03902223181879226,
          -0.08235082475657206,
          null,
          -0.03820785742820228,
          -0.02349353498541235,
          null,
          0.07006118040479102,
          0.10124608553485881,
          null,
          -0.2520480553601939,
          -0.18667440980676472,
          null,
          0.010928657680506354,
          0.07679634684293006,
          null
         ]
        },
        {
         "hoverinfo": "text",
         "marker": {
          "color": "rgb(127,127,255)",
          "line": {
           "color": "rgb(50,50,50)",
           "width": 2
          },
          "size": 25,
          "symbol": "dot"
         },
         "mode": "markers+text",
         "text": [
          "-3 / a2",
          "-2 / a3",
          "-1 / a4",
          "0 / a5",
          "1 / a6",
          "2 / a7",
          "sl.list.null",
          "-5 / x",
          "-4 / a1"
         ],
         "textposition": "top",
         "type": "scatter",
         "x": [
          0.5907813166519733,
          0.3703334796047982,
          0.04928466589471516,
          -0.18477581853010977,
          -0.32412466534768863,
          -0.5904386483038702,
          -1,
          0.5323924126279841,
          0.5565472574021979
         ],
         "y": [
          0.07679634684293006,
          0.23859306385612541,
          0.2330887183407689,
          0.09096354699454713,
          -0.08235082475657206,
          -0.02349353498541235,
          0.10124608553485881,
          -0.4481689920204813,
          -0.18667440980676472
         ]
        }
       ],
       "layout": {
        "font": {
         "size": 12
        },
        "hovermode": "closest",
        "showlegend": false,
        "title": "Model",
        "xaxis": {
         "showgrid": false,
         "showticklabels": false,
         "zeroline": false
        },
        "yaxis": {
         "showgrid": false,
         "showticklabels": false,
         "zeroline": false
        }
       }
      },
      "text/html": [
       "<div id=\"f62e486c-a287-427f-b105-baf30c7622af\" style=\"height: 525px; width: 100%;\" class=\"plotly-graph-div\"></div><script type=\"text/javascript\">require([\"plotly\"], function(Plotly) { window.PLOTLYENV=window.PLOTLYENV || {};window.PLOTLYENV.BASE_URL=\"https://plot.ly\";Plotly.newPlot(\"f62e486c-a287-427f-b105-baf30c7622af\", [{\"text\": \"next\", \"y\": [0.07679634684293006, 0.1981438846028266, null, 0.23859306385612541, 0.23446480471960804, null, 0.2330887183407689, 0.1264948398311026, null, 0.09096354699454713, -0.03902223181879226, null, -0.08235082475657206, -0.03820785742820228, null, -0.02349353498541235, 0.07006118040479102, null, -0.4481689920204813, -0.2520480553601939, null, -0.18667440980676472, 0.010928657680506354, null], \"hoverinfo\": \"none\", \"textposition\": \"top\", \"line\": {\"width\": 2, \"color\": \"red\"}, \"type\": \"scatter\", \"mode\": \"lines+text\", \"x\": [0.5907813166519733, 0.425445438866592, null, 0.3703334796047982, 0.1295468693222359, null, 0.04928466589471516, -0.12626069742390353, null, -0.18477581853010977, -0.2892874536432939, null, -0.32412466534768863, -0.5238601525648248, null, -0.5904386483038702, -0.8976096620759675, null, 0.5323924126279841, 0.5505085462086444, null, 0.5565472574021979, 0.5822228018395295, null]}, {\"y\": [0.1981438846028266, 0.23859306385612541, null, 0.23446480471960804, 0.2330887183407689, null, 0.1264948398311026, 0.09096354699454713, null, -0.03902223181879226, -0.08235082475657206, null, -0.03820785742820228, -0.02349353498541235, null, 0.07006118040479102, 0.10124608553485881, null, -0.2520480553601939, -0.18667440980676472, null, 0.010928657680506354, 0.07679634684293006, null], \"hoverinfo\": \"none\", \"line\": {\"width\": 7, \"color\": \"red\"}, \"type\": \"scatter\", \"mode\": \"lines\", \"x\": [0.425445438866592, 0.3703334796047982, null, 0.1295468693222359, 0.04928466589471516, null, -0.12626069742390353, -0.18477581853010977, null, -0.2892874536432939, -0.32412466534768863, null, -0.5238601525648248, -0.5904386483038702, null, -0.8976096620759675, -1.0, null, 0.5505085462086444, 0.5565472574021979, null, 0.5822228018395295, 0.5907813166519733, null]}, {\"text\": [\"-3 / a2\", \"-2 / a3\", \"-1 / a4\", \"0 / a5\", \"1 / a6\", \"2 / a7\", \"sl.list.null\", \"-5 / x\", \"-4 / a1\"], \"y\": [0.07679634684293006, 0.23859306385612541, 0.2330887183407689, 0.09096354699454713, -0.08235082475657206, -0.02349353498541235, 0.10124608553485881, -0.4481689920204813, -0.18667440980676472], \"hoverinfo\": \"text\", \"textposition\": \"top\", \"mode\": \"markers+text\", \"type\": \"scatter\", \"marker\": {\"color\": \"rgb(127,127,255)\", \"symbol\": \"dot\", \"size\": 25, \"line\": {\"width\": 2, \"color\": \"rgb(50,50,50)\"}}, \"x\": [0.5907813166519733, 0.3703334796047982, 0.04928466589471516, -0.18477581853010977, -0.32412466534768863, -0.5904386483038702, -1.0, 0.5323924126279841, 0.5565472574021979]}], {\"title\": \"Model\", \"hovermode\": \"closest\", \"showlegend\": false, \"font\": {\"size\": 12}, \"yaxis\": {\"zeroline\": false, \"showticklabels\": false, \"showgrid\": false}, \"xaxis\": {\"zeroline\": false, \"showticklabels\": false, \"showgrid\": false}}, {\"showLink\": true, \"linkText\": \"Export to plot.ly\"})});</script>"
      ],
      "text/vnd.plotly.v1+html": [
       "<div id=\"f62e486c-a287-427f-b105-baf30c7622af\" style=\"height: 525px; width: 100%;\" class=\"plotly-graph-div\"></div><script type=\"text/javascript\">require([\"plotly\"], function(Plotly) { window.PLOTLYENV=window.PLOTLYENV || {};window.PLOTLYENV.BASE_URL=\"https://plot.ly\";Plotly.newPlot(\"f62e486c-a287-427f-b105-baf30c7622af\", [{\"text\": \"next\", \"y\": [0.07679634684293006, 0.1981438846028266, null, 0.23859306385612541, 0.23446480471960804, null, 0.2330887183407689, 0.1264948398311026, null, 0.09096354699454713, -0.03902223181879226, null, -0.08235082475657206, -0.03820785742820228, null, -0.02349353498541235, 0.07006118040479102, null, -0.4481689920204813, -0.2520480553601939, null, -0.18667440980676472, 0.010928657680506354, null], \"hoverinfo\": \"none\", \"textposition\": \"top\", \"line\": {\"width\": 2, \"color\": \"red\"}, \"type\": \"scatter\", \"mode\": \"lines+text\", \"x\": [0.5907813166519733, 0.425445438866592, null, 0.3703334796047982, 0.1295468693222359, null, 0.04928466589471516, -0.12626069742390353, null, -0.18477581853010977, -0.2892874536432939, null, -0.32412466534768863, -0.5238601525648248, null, -0.5904386483038702, -0.8976096620759675, null, 0.5323924126279841, 0.5505085462086444, null, 0.5565472574021979, 0.5822228018395295, null]}, {\"y\": [0.1981438846028266, 0.23859306385612541, null, 0.23446480471960804, 0.2330887183407689, null, 0.1264948398311026, 0.09096354699454713, null, -0.03902223181879226, -0.08235082475657206, null, -0.03820785742820228, -0.02349353498541235, null, 0.07006118040479102, 0.10124608553485881, null, -0.2520480553601939, -0.18667440980676472, null, 0.010928657680506354, 0.07679634684293006, null], \"hoverinfo\": \"none\", \"line\": {\"width\": 7, \"color\": \"red\"}, \"type\": \"scatter\", \"mode\": \"lines\", \"x\": [0.425445438866592, 0.3703334796047982, null, 0.1295468693222359, 0.04928466589471516, null, -0.12626069742390353, -0.18477581853010977, null, -0.2892874536432939, -0.32412466534768863, null, -0.5238601525648248, -0.5904386483038702, null, -0.8976096620759675, -1.0, null, 0.5505085462086444, 0.5565472574021979, null, 0.5822228018395295, 0.5907813166519733, null]}, {\"text\": [\"-3 / a2\", \"-2 / a3\", \"-1 / a4\", \"0 / a5\", \"1 / a6\", \"2 / a7\", \"sl.list.null\", \"-5 / x\", \"-4 / a1\"], \"y\": [0.07679634684293006, 0.23859306385612541, 0.2330887183407689, 0.09096354699454713, -0.08235082475657206, -0.02349353498541235, 0.10124608553485881, -0.4481689920204813, -0.18667440980676472], \"hoverinfo\": \"text\", \"textposition\": \"top\", \"mode\": \"markers+text\", \"type\": \"scatter\", \"marker\": {\"color\": \"rgb(127,127,255)\", \"symbol\": \"dot\", \"size\": 25, \"line\": {\"width\": 2, \"color\": \"rgb(50,50,50)\"}}, \"x\": [0.5907813166519733, 0.3703334796047982, 0.04928466589471516, -0.18477581853010977, -0.32412466534768863, -0.5904386483038702, -1.0, 0.5323924126279841, 0.5565472574021979]}], {\"title\": \"Model\", \"hovermode\": \"closest\", \"showlegend\": false, \"font\": {\"size\": 12}, \"yaxis\": {\"zeroline\": false, \"showticklabels\": false, \"showgrid\": false}, \"xaxis\": {\"zeroline\": false, \"showticklabels\": false, \"showgrid\": false}}, {\"showLink\": true, \"linkText\": \"Export to plot.ly\"})});</script>"
      ]
     },
     "metadata": {},
     "output_type": "display_data"
    }
   ],
   "source": [
    "iplot(m)"
   ]
  },
  {
   "cell_type": "markdown",
   "metadata": {},
   "source": [
    "As you can see, the data stored in the nodes really are sorted.\n",
    "\n",
    "The per-field data predicates are really useful when we want to specify properties of trees. For example, the $\\SLstar$ formula $\\mathsf{tree}(t, \\{(\\mathsf{l}, \\alpha > \\beta), (\\mathsf{r}, \\alpha < \\beta)\\}$ specifies a binary search tree: Whenever I get to a location by first taking the left ($\\mathsf{l}$) field, the data value gets smaller; and whenever I go right first, the data value gets larger.\n",
    "\n",
    "Let's express this in the `sloth` API. We need to assert the predicates separately. I.e., we say that the heap contains both a tree where the first predicate holds and a tree where the second predicate holds. $\\mathbf{SL}_\\mathsf{data}^{*}$ semantics of conjunction forces that the footprints of these trees coincide, so the predicates in fact hold in the same tree! To get an interesting model, we again force a minimal size by conjoining a formula that allocates a few nodes. "
   ]
  },
  {
   "cell_type": "code",
   "execution_count": 13,
   "metadata": {},
   "outputs": [
    {
     "data": {
      "text/plain": [
       "Model [\n",
       "  Struct sl.tree [\n",
       "    locs = Integers(6:[a1], 7:[a2], 8:[a3], 9:[a4], 10:[a5], 11:[sl.tree.null], 12:[t])\n",
       "    null = 11\n",
       "    right = 6->9, 7->11, 8->11, 9->11, 10->11, 12->7\n",
       "    left = 6->8, 7->10, 8->11, 9->11, 10->11, 12->6\n",
       "    data = 6->-3, 7->1, 8->-4, 9->-2, 10->0, 12->-1\n",
       "    footprints:\n",
       "    _Xleft=[6, 7, 8, 9, 10, 12], _Xdata=[6, 7, 8, 9, 10, 12], _Xright=[6, 7, 8\n",
       "    9, 10, 12]\n",
       "  ]\n",
       "  Data [\n",
       "    d0=-1, d1=-3, d2=1, d3=-4, d4=-2, d5=0\n",
       "  ]\n",
       "]"
      ]
     },
     "execution_count": 13,
     "metadata": {},
     "output_type": "execute_result"
    }
   ],
   "source": [
    "from sloth.slbuilders import tree_of_size\n",
    "size5 = tree_of_size(6, t)\n",
    "binary_search_tree = And(sl.tree.dpred.left(sl.alpha > sl.beta, t),\n",
    "                        sl.tree.dpred.right(sl.alpha < sl.beta, t))\n",
    "m = model(And(size5, binary_search_tree)); m"
   ]
  },
  {
   "cell_type": "code",
   "execution_count": 14,
   "metadata": {},
   "outputs": [
    {
     "data": {
      "application/vnd.plotly.v1+json": {
       "data": [
        {
         "hoverinfo": "none",
         "line": {
          "color": "red",
          "width": 2
         },
         "mode": "lines+text",
         "text": "right",
         "textposition": "top",
         "type": "scatter",
         "x": [
          0.15632863998059476,
          -0.2047671588824717,
          null,
          -0.440627169239354,
          0.2219011829197603,
          null,
          1,
          0.5820579752295987,
          null,
          -0.32513242517016055,
          0.2507748689370585,
          null,
          -0.1554103060226618,
          -0.36932295343518096,
          null
         ],
         "y": [
          0.07244760690798151,
          -0.5529318928317927,
          null,
          0.2981429459193201,
          -0.2734370988369891,
          null,
          0.12187954973969563,
          -0.3175029478818952,
          null,
          -0.761391726078384,
          -0.538320766836415,
          null,
          0.819454392995598,
          0.4284708076883896,
          null
         ]
        },
        {
         "hoverinfo": "none",
         "line": {
          "color": "red",
          "width": 7
         },
         "mode": "lines",
         "type": "scatter",
         "x": [
          -0.2047671588824717,
          -0.32513242517016055,
          null,
          0.2219011829197603,
          0.4427439669727983,
          null,
          0.5820579752295987,
          0.4427439669727983,
          null,
          0.2507748689370585,
          0.4427439669727983,
          null,
          -0.36932295343518096,
          -0.440627169239354,
          null
         ],
         "y": [
          -0.5529318928317927,
          -0.761391726078384,
          null,
          -0.2734370988369891,
          -0.4639637804224254,
          null,
          -0.3175029478818952,
          -0.4639637804224254,
          null,
          -0.538320766836415,
          -0.4639637804224254,
          null,
          0.4284708076883896,
          0.2981429459193201,
          null
         ]
        },
        {
         "hoverinfo": "none",
         "line": {
          "color": "green",
          "width": 2
         },
         "mode": "lines+text",
         "text": "left",
         "textposition": "top",
         "type": "scatter",
         "x": [
          0.15632863998059476,
          0.7890821599951487,
          null,
          -0.440627169239354,
          -0.6185838222007528,
          null,
          -0.6779027065212191,
          0.16258229859929385,
          null,
          -0.1554103060226618,
          0.07839390347978065,
          null
         ],
         "y": [
          0.07244760690798151,
          0.1095215640317671,
          null,
          0.2981429459193201,
          0.009608994683489858,
          null,
          -0.08656898906178692,
          -0.3696150825822657,
          null,
          0.819454392995598,
          0.2591993034298856,
          null
         ]
        },
        {
         "hoverinfo": "none",
         "line": {
          "color": "green",
          "width": 7
         },
         "mode": "lines",
         "type": "scatter",
         "x": [
          0.7890821599951487,
          1,
          null,
          -0.6185838222007528,
          -0.6779027065212191,
          null,
          0.16258229859929385,
          0.4427439669727983,
          null,
          0.07839390347978065,
          0.15632863998059476,
          null
         ],
         "y": [
          0.1095215640317671,
          0.12187954973969563,
          null,
          0.009608994683489858,
          -0.08656898906178692,
          null,
          -0.3696150825822657,
          -0.4639637804224254,
          null,
          0.2591993034298856,
          0.07244760690798151,
          null
         ]
        },
        {
         "hoverinfo": "text",
         "marker": {
          "color": "rgb(127,127,255)",
          "line": {
           "color": "rgb(50,50,50)",
           "width": 2
          },
          "size": 25,
          "symbol": "dot"
         },
         "mode": "markers+text",
         "text": [
          "-3 / a1",
          "1 / a2",
          "-4 / a3",
          "-2 / a4",
          "0 / a5",
          "sl.tree.null",
          "-1 / t"
         ],
         "textposition": "top",
         "type": "scatter",
         "x": [
          0.15632863998059476,
          -0.440627169239354,
          1,
          -0.32513242517016055,
          -0.6779027065212191,
          0.4427439669727983,
          -0.1554103060226618
         ],
         "y": [
          0.07244760690798151,
          0.2981429459193201,
          0.12187954973969563,
          -0.761391726078384,
          -0.08656898906178692,
          -0.4639637804224254,
          0.819454392995598
         ]
        }
       ],
       "layout": {
        "font": {
         "size": 12
        },
        "hovermode": "closest",
        "showlegend": false,
        "title": "Model",
        "xaxis": {
         "showgrid": false,
         "showticklabels": false,
         "zeroline": false
        },
        "yaxis": {
         "showgrid": false,
         "showticklabels": false,
         "zeroline": false
        }
       }
      },
      "text/html": [
       "<div id=\"cb15aa9d-2446-459e-9654-b6bf77395430\" style=\"height: 525px; width: 100%;\" class=\"plotly-graph-div\"></div><script type=\"text/javascript\">require([\"plotly\"], function(Plotly) { window.PLOTLYENV=window.PLOTLYENV || {};window.PLOTLYENV.BASE_URL=\"https://plot.ly\";Plotly.newPlot(\"cb15aa9d-2446-459e-9654-b6bf77395430\", [{\"text\": \"right\", \"y\": [0.07244760690798151, -0.5529318928317927, null, 0.2981429459193201, -0.2734370988369891, null, 0.12187954973969563, -0.3175029478818952, null, -0.761391726078384, -0.538320766836415, null, 0.819454392995598, 0.4284708076883896, null], \"hoverinfo\": \"none\", \"textposition\": \"top\", \"line\": {\"width\": 2, \"color\": \"red\"}, \"type\": \"scatter\", \"mode\": \"lines+text\", \"x\": [0.15632863998059476, -0.2047671588824717, null, -0.440627169239354, 0.2219011829197603, null, 1.0, 0.5820579752295987, null, -0.32513242517016055, 0.2507748689370585, null, -0.1554103060226618, -0.36932295343518096, null]}, {\"y\": [-0.5529318928317927, -0.761391726078384, null, -0.2734370988369891, -0.4639637804224254, null, -0.3175029478818952, -0.4639637804224254, null, -0.538320766836415, -0.4639637804224254, null, 0.4284708076883896, 0.2981429459193201, null], \"hoverinfo\": \"none\", \"line\": {\"width\": 7, \"color\": \"red\"}, \"type\": \"scatter\", \"mode\": \"lines\", \"x\": [-0.2047671588824717, -0.32513242517016055, null, 0.2219011829197603, 0.4427439669727983, null, 0.5820579752295987, 0.4427439669727983, null, 0.2507748689370585, 0.4427439669727983, null, -0.36932295343518096, -0.440627169239354, null]}, {\"text\": \"left\", \"y\": [0.07244760690798151, 0.1095215640317671, null, 0.2981429459193201, 0.009608994683489858, null, -0.08656898906178692, -0.3696150825822657, null, 0.819454392995598, 0.2591993034298856, null], \"hoverinfo\": \"none\", \"textposition\": \"top\", \"line\": {\"width\": 2, \"color\": \"green\"}, \"type\": \"scatter\", \"mode\": \"lines+text\", \"x\": [0.15632863998059476, 0.7890821599951487, null, -0.440627169239354, -0.6185838222007528, null, -0.6779027065212191, 0.16258229859929385, null, -0.1554103060226618, 0.07839390347978065, null]}, {\"y\": [0.1095215640317671, 0.12187954973969563, null, 0.009608994683489858, -0.08656898906178692, null, -0.3696150825822657, -0.4639637804224254, null, 0.2591993034298856, 0.07244760690798151, null], \"hoverinfo\": \"none\", \"line\": {\"width\": 7, \"color\": \"green\"}, \"type\": \"scatter\", \"mode\": \"lines\", \"x\": [0.7890821599951487, 1.0, null, -0.6185838222007528, -0.6779027065212191, null, 0.16258229859929385, 0.4427439669727983, null, 0.07839390347978065, 0.15632863998059476, null]}, {\"text\": [\"-3 / a1\", \"1 / a2\", \"-4 / a3\", \"-2 / a4\", \"0 / a5\", \"sl.tree.null\", \"-1 / t\"], \"y\": [0.07244760690798151, 0.2981429459193201, 0.12187954973969563, -0.761391726078384, -0.08656898906178692, -0.4639637804224254, 0.819454392995598], \"hoverinfo\": \"text\", \"textposition\": \"top\", \"mode\": \"markers+text\", \"type\": \"scatter\", \"marker\": {\"color\": \"rgb(127,127,255)\", \"symbol\": \"dot\", \"size\": 25, \"line\": {\"width\": 2, \"color\": \"rgb(50,50,50)\"}}, \"x\": [0.15632863998059476, -0.440627169239354, 1.0, -0.32513242517016055, -0.6779027065212191, 0.4427439669727983, -0.1554103060226618]}], {\"title\": \"Model\", \"hovermode\": \"closest\", \"showlegend\": false, \"font\": {\"size\": 12}, \"yaxis\": {\"zeroline\": false, \"showticklabels\": false, \"showgrid\": false}, \"xaxis\": {\"zeroline\": false, \"showticklabels\": false, \"showgrid\": false}}, {\"showLink\": true, \"linkText\": \"Export to plot.ly\"})});</script>"
      ],
      "text/vnd.plotly.v1+html": [
       "<div id=\"cb15aa9d-2446-459e-9654-b6bf77395430\" style=\"height: 525px; width: 100%;\" class=\"plotly-graph-div\"></div><script type=\"text/javascript\">require([\"plotly\"], function(Plotly) { window.PLOTLYENV=window.PLOTLYENV || {};window.PLOTLYENV.BASE_URL=\"https://plot.ly\";Plotly.newPlot(\"cb15aa9d-2446-459e-9654-b6bf77395430\", [{\"text\": \"right\", \"y\": [0.07244760690798151, -0.5529318928317927, null, 0.2981429459193201, -0.2734370988369891, null, 0.12187954973969563, -0.3175029478818952, null, -0.761391726078384, -0.538320766836415, null, 0.819454392995598, 0.4284708076883896, null], \"hoverinfo\": \"none\", \"textposition\": \"top\", \"line\": {\"width\": 2, \"color\": \"red\"}, \"type\": \"scatter\", \"mode\": \"lines+text\", \"x\": [0.15632863998059476, -0.2047671588824717, null, -0.440627169239354, 0.2219011829197603, null, 1.0, 0.5820579752295987, null, -0.32513242517016055, 0.2507748689370585, null, -0.1554103060226618, -0.36932295343518096, null]}, {\"y\": [-0.5529318928317927, -0.761391726078384, null, -0.2734370988369891, -0.4639637804224254, null, -0.3175029478818952, -0.4639637804224254, null, -0.538320766836415, -0.4639637804224254, null, 0.4284708076883896, 0.2981429459193201, null], \"hoverinfo\": \"none\", \"line\": {\"width\": 7, \"color\": \"red\"}, \"type\": \"scatter\", \"mode\": \"lines\", \"x\": [-0.2047671588824717, -0.32513242517016055, null, 0.2219011829197603, 0.4427439669727983, null, 0.5820579752295987, 0.4427439669727983, null, 0.2507748689370585, 0.4427439669727983, null, -0.36932295343518096, -0.440627169239354, null]}, {\"text\": \"left\", \"y\": [0.07244760690798151, 0.1095215640317671, null, 0.2981429459193201, 0.009608994683489858, null, -0.08656898906178692, -0.3696150825822657, null, 0.819454392995598, 0.2591993034298856, null], \"hoverinfo\": \"none\", \"textposition\": \"top\", \"line\": {\"width\": 2, \"color\": \"green\"}, \"type\": \"scatter\", \"mode\": \"lines+text\", \"x\": [0.15632863998059476, 0.7890821599951487, null, -0.440627169239354, -0.6185838222007528, null, -0.6779027065212191, 0.16258229859929385, null, -0.1554103060226618, 0.07839390347978065, null]}, {\"y\": [0.1095215640317671, 0.12187954973969563, null, 0.009608994683489858, -0.08656898906178692, null, -0.3696150825822657, -0.4639637804224254, null, 0.2591993034298856, 0.07244760690798151, null], \"hoverinfo\": \"none\", \"line\": {\"width\": 7, \"color\": \"green\"}, \"type\": \"scatter\", \"mode\": \"lines\", \"x\": [0.7890821599951487, 1.0, null, -0.6185838222007528, -0.6779027065212191, null, 0.16258229859929385, 0.4427439669727983, null, 0.07839390347978065, 0.15632863998059476, null]}, {\"text\": [\"-3 / a1\", \"1 / a2\", \"-4 / a3\", \"-2 / a4\", \"0 / a5\", \"sl.tree.null\", \"-1 / t\"], \"y\": [0.07244760690798151, 0.2981429459193201, 0.12187954973969563, -0.761391726078384, -0.08656898906178692, -0.4639637804224254, 0.819454392995598], \"hoverinfo\": \"text\", \"textposition\": \"top\", \"mode\": \"markers+text\", \"type\": \"scatter\", \"marker\": {\"color\": \"rgb(127,127,255)\", \"symbol\": \"dot\", \"size\": 25, \"line\": {\"width\": 2, \"color\": \"rgb(50,50,50)\"}}, \"x\": [0.15632863998059476, -0.440627169239354, 1.0, -0.32513242517016055, -0.6779027065212191, 0.4427439669727983, -0.1554103060226618]}], {\"title\": \"Model\", \"hovermode\": \"closest\", \"showlegend\": false, \"font\": {\"size\": 12}, \"yaxis\": {\"zeroline\": false, \"showticklabels\": false, \"showgrid\": false}, \"xaxis\": {\"zeroline\": false, \"showticklabels\": false, \"showgrid\": false}}, {\"showLink\": true, \"linkText\": \"Export to plot.ly\"})});</script>"
      ]
     },
     "metadata": {},
     "output_type": "display_data"
    }
   ],
   "source": [
    "iplot(m)"
   ]
  },
  {
   "cell_type": "markdown",
   "metadata": {},
   "source": [
    "## The Command-Line Interface & the `sloth` Input Format\n",
    "\n",
    "CLI input files use a custom extension of SMT-LIB. Let's look at an example. (The `benchmark` function looks for the file `overlaid-four-nodes.smt2` in the (subdirectories of the) `benchmarks` folder of the repository. `show` reads the file and dumps its contents to stdout.)"
   ]
  },
  {
   "cell_type": "code",
   "execution_count": 15,
   "metadata": {},
   "outputs": [
    {
     "data": {
      "text/plain": [
       "'benchmarks/list-boolean-closure/overlaid-four-nodes.smt2'"
      ]
     },
     "execution_count": 15,
     "metadata": {},
     "output_type": "execute_result"
    }
   ],
   "source": [
    "benchmark('overlaid-four-nodes.smt2')"
   ]
  },
  {
   "cell_type": "code",
   "execution_count": 16,
   "metadata": {},
   "outputs": [
    {
     "name": "stdout",
     "output_type": "stream",
     "text": [
      "(declare-const x sl.list.loc)\n",
      "(declare-const y sl.list.loc)\n",
      "(declare-const z sl.list.loc)\n",
      "(declare-const w sl.list.loc)\n",
      "(declare-const d Int)\n",
      "(declare-const e Int)\n",
      "(declare-const f Int)\n",
      "(declare-const g Int)\n",
      "(assert (and (sl.list x)\n",
      "             (sl.sepcon (sl.sepcon (sl.list.dpointsto x y d)\n",
      "                              (sl.list.dpointsto y z e))\n",
      "                   (sl.sepcon (sl.list.dpointsto z w f)\n",
      "                              (sl.list.dpointsto w sl.list.null g)))))\n",
      "\n"
     ]
    }
   ],
   "source": [
    "show(benchmark('overlaid-four-nodes.smt2'))"
   ]
  },
  {
   "cell_type": "markdown",
   "metadata": {},
   "source": [
    "Let's go through this example in detail.\n",
    "\n",
    "- All sorts, functions etc. in our custom extension begin with the prefix `sl.`, usually followed by the data structure to which they apply, e.g. `list` or `tree`.\n",
    "- As usual in SMT-LIB, all variables used must be declared before their use\n",
    "- List locations are declared to be of sort `sl.list.loc`; tree locations of sort `sl.tree.loc`\n",
    "- We assert a classical conjunction using the standard SMT-LIB `and`\n",
    "- We assert that the heap consists (exclusively) of a list starting in a, `(sl.list a)`\n",
    "- We assert that in the same heap (`and`), there are four separate allocated list nodes. Each node has a `next` and a `data` field. For example, `(sl.list.dpointsto a b e)` says that `a` is allocated, its next pointer is referenced by `b` and it's data field contains the value of the integer variable `e`.\n",
    "\n",
    "You can invoke `sloth` on the benchmark by calling\n",
    "\n",
    "```\n",
    "$ ./sloth.sh benchmarks/list-boolean-closure/overlaid-four-nodes.smt2\n",
    "```\n",
    "\n",
    "But you can also parse the benchmark via the API:"
   ]
  },
  {
   "cell_type": "code",
   "execution_count": 17,
   "metadata": {},
   "outputs": [
    {
     "data": {
      "text/plain": [
       "ParseResult(expr=And(sl.list(x),\n",
       "    sl.sepcon(sl.sepcon(sl.list.dpointsto(x, y, d),\n",
       "                        sl.list.dpointsto(y, z, e)),\n",
       "              sl.sepcon(sl.list.dpointsto(z, w, f),\n",
       "                        sl.list.dpointsto(w,\n",
       "                                        sl.list.null,\n",
       "                                        g)))), backend=Integer locations & lambdas)"
      ]
     },
     "execution_count": 17,
     "metadata": {},
     "output_type": "execute_result"
    }
   ],
   "source": [
    "expr = parse(benchmark('overlaid-four-nodes.smt2')); expr"
   ]
  },
  {
   "cell_type": "markdown",
   "metadata": {},
   "source": [
    "Ignore the part about the `backend`. What matters for now is that the parse result can serve as input for `encode`, `model`, `iplot` etc. just like any expression created via the API!"
   ]
  },
  {
   "cell_type": "code",
   "execution_count": 18,
   "metadata": {},
   "outputs": [
    {
     "data": {
      "application/vnd.plotly.v1+json": {
       "data": [
        {
         "hoverinfo": "none",
         "line": {
          "color": "red",
          "width": 2
         },
         "mode": "lines+text",
         "text": "next",
         "textposition": "top",
         "type": "scatter",
         "x": [
          0.6847532806013387,
          0.7753162211757862,
          null,
          0.8055038680339354,
          0.2920211937381477,
          null,
          0.12086030230621848,
          -0.6876790832867137,
          null,
          -0.957192211817691,
          -0.729741982297274,
          null
         ],
         "y": [
          -1,
          -0.25318606451071557,
          null,
          -0.0042480860142873455,
          0.47911843184849184,
          null,
          0.6402406044694182,
          0.5777582999047892,
          null,
          0.5569308650499128,
          -0.005459821366303852,
          null
         ]
        },
        {
         "hoverinfo": "none",
         "line": {
          "color": "red",
          "width": 7
         },
         "mode": "lines",
         "type": "scatter",
         "x": [
          0.7753162211757862,
          0.8055038680339354,
          null,
          0.2920211937381477,
          0.12086030230621848,
          null,
          -0.6876790832867137,
          -0.957192211817691,
          null,
          -0.729741982297274,
          -0.6539252391238017,
          null
         ],
         "y": [
          -0.25318606451071557,
          -0.0042480860142873455,
          null,
          0.47911843184849184,
          0.6402406044694182,
          null,
          0.5777582999047892,
          0.5569308650499128,
          null,
          -0.005459821366303852,
          -0.19292338350504268,
          null
         ]
        },
        {
         "hoverinfo": "text",
         "marker": {
          "color": "rgb(127,127,255)",
          "line": {
           "color": "rgb(50,50,50)",
           "width": 2
          },
          "size": 25,
          "symbol": "dot"
         },
         "mode": "markers+text",
         "text": [
          "2 / x",
          "4 / y",
          "6 / z",
          "8 / w",
          "sl.list.null"
         ],
         "textposition": "top",
         "type": "scatter",
         "x": [
          0.6847532806013387,
          0.8055038680339354,
          0.12086030230621848,
          -0.957192211817691,
          -0.6539252391238017
         ],
         "y": [
          -1,
          -0.0042480860142873455,
          0.6402406044694182,
          0.5569308650499128,
          -0.19292338350504268
         ]
        }
       ],
       "layout": {
        "font": {
         "size": 12
        },
        "hovermode": "closest",
        "showlegend": false,
        "title": "Model",
        "xaxis": {
         "showgrid": false,
         "showticklabels": false,
         "zeroline": false
        },
        "yaxis": {
         "showgrid": false,
         "showticklabels": false,
         "zeroline": false
        }
       }
      },
      "text/html": [
       "<div id=\"3b3ac0b7-d56a-4a17-a49f-328f1359f528\" style=\"height: 525px; width: 100%;\" class=\"plotly-graph-div\"></div><script type=\"text/javascript\">require([\"plotly\"], function(Plotly) { window.PLOTLYENV=window.PLOTLYENV || {};window.PLOTLYENV.BASE_URL=\"https://plot.ly\";Plotly.newPlot(\"3b3ac0b7-d56a-4a17-a49f-328f1359f528\", [{\"text\": \"next\", \"y\": [-1.0, -0.25318606451071557, null, -0.0042480860142873455, 0.47911843184849184, null, 0.6402406044694182, 0.5777582999047892, null, 0.5569308650499128, -0.005459821366303852, null], \"hoverinfo\": \"none\", \"textposition\": \"top\", \"line\": {\"width\": 2, \"color\": \"red\"}, \"type\": \"scatter\", \"mode\": \"lines+text\", \"x\": [0.6847532806013387, 0.7753162211757862, null, 0.8055038680339354, 0.2920211937381477, null, 0.12086030230621848, -0.6876790832867137, null, -0.957192211817691, -0.729741982297274, null]}, {\"y\": [-0.25318606451071557, -0.0042480860142873455, null, 0.47911843184849184, 0.6402406044694182, null, 0.5777582999047892, 0.5569308650499128, null, -0.005459821366303852, -0.19292338350504268, null], \"hoverinfo\": \"none\", \"line\": {\"width\": 7, \"color\": \"red\"}, \"type\": \"scatter\", \"mode\": \"lines\", \"x\": [0.7753162211757862, 0.8055038680339354, null, 0.2920211937381477, 0.12086030230621848, null, -0.6876790832867137, -0.957192211817691, null, -0.729741982297274, -0.6539252391238017, null]}, {\"text\": [\"2 / x\", \"4 / y\", \"6 / z\", \"8 / w\", \"sl.list.null\"], \"y\": [-1.0, -0.0042480860142873455, 0.6402406044694182, 0.5569308650499128, -0.19292338350504268], \"hoverinfo\": \"text\", \"textposition\": \"top\", \"mode\": \"markers+text\", \"type\": \"scatter\", \"marker\": {\"color\": \"rgb(127,127,255)\", \"symbol\": \"dot\", \"size\": 25, \"line\": {\"width\": 2, \"color\": \"rgb(50,50,50)\"}}, \"x\": [0.6847532806013387, 0.8055038680339354, 0.12086030230621848, -0.957192211817691, -0.6539252391238017]}], {\"title\": \"Model\", \"hovermode\": \"closest\", \"showlegend\": false, \"font\": {\"size\": 12}, \"yaxis\": {\"zeroline\": false, \"showticklabels\": false, \"showgrid\": false}, \"xaxis\": {\"zeroline\": false, \"showticklabels\": false, \"showgrid\": false}}, {\"showLink\": true, \"linkText\": \"Export to plot.ly\"})});</script>"
      ],
      "text/vnd.plotly.v1+html": [
       "<div id=\"3b3ac0b7-d56a-4a17-a49f-328f1359f528\" style=\"height: 525px; width: 100%;\" class=\"plotly-graph-div\"></div><script type=\"text/javascript\">require([\"plotly\"], function(Plotly) { window.PLOTLYENV=window.PLOTLYENV || {};window.PLOTLYENV.BASE_URL=\"https://plot.ly\";Plotly.newPlot(\"3b3ac0b7-d56a-4a17-a49f-328f1359f528\", [{\"text\": \"next\", \"y\": [-1.0, -0.25318606451071557, null, -0.0042480860142873455, 0.47911843184849184, null, 0.6402406044694182, 0.5777582999047892, null, 0.5569308650499128, -0.005459821366303852, null], \"hoverinfo\": \"none\", \"textposition\": \"top\", \"line\": {\"width\": 2, \"color\": \"red\"}, \"type\": \"scatter\", \"mode\": \"lines+text\", \"x\": [0.6847532806013387, 0.7753162211757862, null, 0.8055038680339354, 0.2920211937381477, null, 0.12086030230621848, -0.6876790832867137, null, -0.957192211817691, -0.729741982297274, null]}, {\"y\": [-0.25318606451071557, -0.0042480860142873455, null, 0.47911843184849184, 0.6402406044694182, null, 0.5777582999047892, 0.5569308650499128, null, -0.005459821366303852, -0.19292338350504268, null], \"hoverinfo\": \"none\", \"line\": {\"width\": 7, \"color\": \"red\"}, \"type\": \"scatter\", \"mode\": \"lines\", \"x\": [0.7753162211757862, 0.8055038680339354, null, 0.2920211937381477, 0.12086030230621848, null, -0.6876790832867137, -0.957192211817691, null, -0.729741982297274, -0.6539252391238017, null]}, {\"text\": [\"2 / x\", \"4 / y\", \"6 / z\", \"8 / w\", \"sl.list.null\"], \"y\": [-1.0, -0.0042480860142873455, 0.6402406044694182, 0.5569308650499128, -0.19292338350504268], \"hoverinfo\": \"text\", \"textposition\": \"top\", \"mode\": \"markers+text\", \"type\": \"scatter\", \"marker\": {\"color\": \"rgb(127,127,255)\", \"symbol\": \"dot\", \"size\": 25, \"line\": {\"width\": 2, \"color\": \"rgb(50,50,50)\"}}, \"x\": [0.6847532806013387, 0.8055038680339354, 0.12086030230621848, -0.957192211817691, -0.6539252391238017]}], {\"title\": \"Model\", \"hovermode\": \"closest\", \"showlegend\": false, \"font\": {\"size\": 12}, \"yaxis\": {\"zeroline\": false, \"showticklabels\": false, \"showgrid\": false}, \"xaxis\": {\"zeroline\": false, \"showticklabels\": false, \"showgrid\": false}}, {\"showLink\": true, \"linkText\": \"Export to plot.ly\"})});</script>"
      ]
     },
     "metadata": {},
     "output_type": "display_data"
    }
   ],
   "source": [
    "iplot(model(expr))"
   ]
  },
  {
   "cell_type": "markdown",
   "metadata": {},
   "source": [
    "Currently, no full specification of the input language exists. The best way to understand the language is to have a look at benchmarks that interest you. As we saw above, you can simply load them into your Python session."
   ]
  },
  {
   "cell_type": "code",
   "execution_count": 19,
   "metadata": {},
   "outputs": [
    {
     "data": {
      "text/plain": [
       "Model [\n",
       "  Struct sl.list [\n",
       "    locs = Integers(0:[x], 1:[y], 3:[z], 5:[w], 7:[sl.list.null])\n",
       "    null = 7\n",
       "    next = 0->1, 1->3, 3->5, 5->7\n",
       "    data = 0->2, 1->4, 3->6, 5->8\n",
       "    footprints:\n",
       "    _Xnext=[0, 1, 3, 5], _Xdata=[0, 1, 3, 5]\n",
       "  ]\n",
       "  Data [\n",
       "    d=2, e=4, f=6, g=8\n",
       "  ]\n",
       "]"
      ]
     },
     "execution_count": 19,
     "metadata": {},
     "output_type": "execute_result"
    }
   ],
   "source": [
    "expr = parse(benchmark('overlaid-four-nodes.smt2'))\n",
    "m = solve(expr); m"
   ]
  },
  {
   "cell_type": "markdown",
   "metadata": {},
   "source": [
    "## Advanced Features of the `sloth` API"
   ]
  },
  {
   "cell_type": "markdown",
   "metadata": {},
   "source": [
    "### Graph Representations\n",
    "Model plotting is based on a graph representation of the SMT model. The graph representation may be easier to understand than the result of `model` calls. You don't have to plot the model to get a hold of it:"
   ]
  },
  {
   "cell_type": "code",
   "execution_count": 20,
   "metadata": {},
   "outputs": [
    {
     "data": {
      "text/plain": [
       "Graph({0, 1, 3, 5, 7}, {(0, 'data'): 2, (0, 'next'): 1, (1, 'data'): 4, (1, 'next'): 3, (3, 'data'): 6, (3, 'next'): 5, (5, 'data'): 8, (5, 'next'): 7}, {'sl.list.null': 7, 'w': 5, 'x': 0, 'y': 1, 'z': 3}, {'d': 2, 'e': 4, 'f': 6, 'g': 8})"
      ]
     },
     "execution_count": 20,
     "metadata": {},
     "output_type": "execute_result"
    }
   ],
   "source": [
    "gm = model_to_graph(m); gm"
   ]
  },
  {
   "cell_type": "markdown",
   "metadata": {},
   "source": [
    "Graph models have a rich API themselves. This can further aid understanding the model. Here are some examples:"
   ]
  },
  {
   "cell_type": "code",
   "execution_count": 21,
   "metadata": {},
   "outputs": [
    {
     "data": {
      "text/plain": [
       "{'1.) The next-pointer of x is allocated': True,\n",
       " '2.) x points to the following location': 0,\n",
       " '3.) The next and data pointers of x point to': [1, 2],\n",
       " '4.) w is reachable from x': True,\n",
       " '5.) z is reachable from w': False}"
      ]
     },
     "execution_count": 21,
     "metadata": {},
     "output_type": "execute_result"
    }
   ],
   "source": [
    "{'1.) The next-pointer of x is allocated' : gm.is_alloced('x', 'next'),\n",
    "  '2.) x points to the following location' : gm.resolve('x'),\n",
    "  '3.) The next and data pointers of x point to' : gm.successors('x', ['next', 'data']), \n",
    "  '4.) w is reachable from x' : gm.reach(['next'], 'x', 'w'),\n",
    "  '5.) z is reachable from w' : gm.reach(['next'], 'w', 'z')\n",
    "}"
   ]
  },
  {
   "cell_type": "markdown",
   "metadata": {},
   "source": [
    "### Inspect the Encoding\n",
    "\n",
    "It's possible to look at the SMT encoding that `sloth` generates. It contains comments, but is both large and complicated, so without studying the IJCAR paper, you will likely have a large time understanding what's going on."
   ]
  },
  {
   "cell_type": "code",
   "execution_count": 22,
   "metadata": {},
   "outputs": [
    {
     "name": "stdout",
     "output_type": "stream",
     "text": [
      "(declare-fun _X () (Array Int Bool))\n",
      "(declare-fun _Xdata () (Array Int Bool))\n",
      "(declare-fun _Xnext () (Array Int Bool))\n",
      "(declare-fun _Y1data () (Array Int Bool))\n",
      "(declare-fun _Y1next () (Array Int Bool))\n",
      "(declare-fun _Z () (Array Int Bool))\n",
      "(declare-fun _x0 () Int)\n",
      "(declare-fun _x1 () Int)\n",
      "(declare-fun _x2 () Int)\n",
      "(declare-fun sl.list.null () Int)\n",
      "(declare-fun x () Int)\n",
      "(declare-fun y () Int)\n",
      "(declare-fun _r_1 (Int Int) Bool)\n",
      "(declare-fun _r_2 (Int Int) Bool)\n",
      "(declare-fun _r_3 (Int Int) Bool)\n",
      "(declare-fun sl.list.data (Int) Int)\n",
      "(declare-fun sl.list.next (Int) Int)\n",
      "(assert\n",
      "  (and\n",
      "    ;; ***** A (bound: 3) *****\n",
      "    (and\n",
      "      ;; Placing (sl.list.seg x y) in the global context\n",
      "      (and\n",
      "        ;; Structural encoding of list(x, [y]) of size 3 with data constraints None\n",
      "        (and\n",
      "          ;; structure: _Z : SET(Int) is an acyclic data structure rooted in x\n",
      "          (and\n",
      "            ;; The root is in _Z : SET(Int)\n",
      "            (=>\n",
      "              (not\n",
      "                ;; x is a stop node\n",
      "                (or \n",
      "                  (= x sl.list.null)\n",
      "                  (= x y))\n",
      "              )\n",
      "              (select _Z x)\n",
      "            )\n",
      "            ;; oneparent: Every non-null nodes has at most one incoming pointer\n",
      "            (and\n",
      "              ;; If two nodes share a successor it's null\n",
      "              (and\n",
      "                (implies \n",
      "                  (and \n",
      "                    (select _Z _x0)\n",
      "                    (select _Z _x1)\n",
      "                    (not (= _x0 _x1)))\n",
      "                  (implies \n",
      "                    (= \n",
      "                      (sl.list.next _x0)\n",
      "                      (sl.list.next _x1))\n",
      "                    (= \n",
      "                      (sl.list.next _x0)\n",
      "                      sl.list.null)))\n",
      "                (implies \n",
      "                  (and \n",
      "                    (select _Z _x0)\n",
      "                    (select _Z _x2)\n",
      "                    (not (= _x0 _x2)))\n",
      "                  (implies \n",
      "                    (= \n",
      "                      (sl.list.next _x0)\n",
      "                      (sl.list.next _x2))\n",
      "                    (= \n",
      "                      (sl.list.next _x0)\n",
      "                      sl.list.null)))\n",
      "                (implies \n",
      "                  (and \n",
      "                    (select _Z _x1)\n",
      "                    (select _Z _x2)\n",
      "                    (not (= _x1 _x2)))\n",
      "                  (implies \n",
      "                    (= \n",
      "                      (sl.list.next _x1)\n",
      "                      (sl.list.next _x2))\n",
      "                    (= \n",
      "                      (sl.list.next _x1)\n",
      "                      sl.list.null)))\n",
      "              )\n",
      "            )\n",
      "            ;; There is no cycle from the root to the root\n",
      "            (not\n",
      "              (_r_3 x x)\n",
      "            )\n",
      "          )\n",
      "          ;; The root x and stop points [y] aren't allocated in other structs\n",
      "          (and\n",
      "            true\n",
      "          )\n",
      "          ;; stops^sl.list: Combined stop node constraints\n",
      "          (and\n",
      "            ;; Stop nodes are pairwise different\n",
      "            (and\n",
      "              true\n",
      "            )\n",
      "            ;; If the root is a stop node, it's equal to all stop nodes\n",
      "            (=>\n",
      "              ;; x is a stop node\n",
      "              (or \n",
      "                (= x sl.list.null)\n",
      "                (= x y))\n",
      "              (and (= x y))\n",
      "            )\n",
      "            ;; If the root isn't a stop node then all stop nodes occur\n",
      "            (=>\n",
      "              (not\n",
      "                ;; x is a stop node\n",
      "                (or \n",
      "                  (= x sl.list.null)\n",
      "                  (= x y))\n",
      "              )\n",
      "              ;; All stop nodes occur\n",
      "              (and\n",
      "                ;; If the list is non-empty, it contains the node y\n",
      "                (or\n",
      "                  ;; _x0 is alloced and one of its descendants is node y\n",
      "                  (and\n",
      "                    (select _Z _x0)\n",
      "                    ;; y is a ['next']-successor of _x0\n",
      "                    (or\n",
      "                      (= \n",
      "                        (sl.list.next _x0)\n",
      "                        y)\n",
      "                    )\n",
      "                  )\n",
      "                  ;; _x1 is alloced and one of its descendants is node y\n",
      "                  (and\n",
      "                    (select _Z _x1)\n",
      "                    ;; y is a ['next']-successor of _x1\n",
      "                    (or\n",
      "                      (= \n",
      "                        (sl.list.next _x1)\n",
      "                        y)\n",
      "                    )\n",
      "                  )\n",
      "                  ;; _x2 is alloced and one of its descendants is node y\n",
      "                  (and\n",
      "                    (select _Z _x2)\n",
      "                    ;; y is a ['next']-successor of _x2\n",
      "                    (or\n",
      "                      (= \n",
      "                        (sl.list.next _x2)\n",
      "                        y)\n",
      "                    )\n",
      "                  )\n",
      "                )\n",
      "              )\n",
      "            )\n",
      "            ;; All leaves are stop nodes\n",
      "            (and\n",
      "              ;; If the next-successor of _x0 isn't alloced it's a stop node\n",
      "              (=>\n",
      "                (and \n",
      "                  (select _Z _x0)\n",
      "                  (not \n",
      "                    (select \n",
      "                      _Z\n",
      "                      (sl.list.next _x0))))\n",
      "                ;; sl.list.next(_x0) is a stop node\n",
      "                (or \n",
      "                  (= \n",
      "                    (sl.list.next _x0)\n",
      "                    sl.list.null)\n",
      "                  (= \n",
      "                    (sl.list.next _x0)\n",
      "                    y))\n",
      "              )\n",
      "              ;; If the next-successor of _x1 isn't alloced it's a stop node\n",
      "              (=>\n",
      "                (and \n",
      "                  (select _Z _x1)\n",
      "                  (not \n",
      "                    (select \n",
      "                      _Z\n",
      "                      (sl.list.next _x1))))\n",
      "                ;; sl.list.next(_x1) is a stop node\n",
      "                (or \n",
      "                  (= \n",
      "                    (sl.list.next _x1)\n",
      "                    sl.list.null)\n",
      "                  (= \n",
      "                    (sl.list.next _x1)\n",
      "                    y))\n",
      "              )\n",
      "              ;; If the next-successor of _x2 isn't alloced it's a stop node\n",
      "              (=>\n",
      "                (and \n",
      "                  (select _Z _x2)\n",
      "                  (not \n",
      "                    (select \n",
      "                      _Z\n",
      "                      (sl.list.next _x2))))\n",
      "                ;; sl.list.next(_x2) is a stop node\n",
      "                (or \n",
      "                  (= \n",
      "                    (sl.list.next _x2)\n",
      "                    sl.list.null)\n",
      "                  (= \n",
      "                    (sl.list.next _x2)\n",
      "                    y))\n",
      "              )\n",
      "            )\n",
      "          )\n",
      "        )\n",
      "        ;; Connecting spatial formula to global constraint\n",
      "        (and\n",
      "          (= _Y1data _Xdata)\n",
      "          (= _Y1next _Xnext)\n",
      "        )\n",
      "      )\n",
      "    )\n",
      "    ;; ***** B (bound: 3) *****\n",
      "    (and\n",
      "      ;; Footprint encoding of list(x, [y]) of size 3\n",
      "      (and\n",
      "        ;; Define reachability predicates\n",
      "        (and\n",
      "          ;; Interpret _r_1 as 1-step reachability\n",
      "          (and\n",
      "            ;; 1-step reachability from _x0 to _x0\n",
      "            (=\n",
      "              (_r_1 _x0 _x0)\n",
      "              (and\n",
      "                (select _Z _x0)\n",
      "                (not\n",
      "                  ;; _x0 is a stop node\n",
      "                  (or \n",
      "                    (= _x0 sl.list.null)\n",
      "                    (= _x0 y))\n",
      "                )\n",
      "                ;; _x0 is a ['next']-successor of _x0\n",
      "                (or\n",
      "                  (= \n",
      "                    (sl.list.next _x0)\n",
      "                    _x0)\n",
      "                )\n",
      "              )\n",
      "            )\n",
      "            ;; 1-step reachability from _x0 to _x1\n",
      "            (=\n",
      "              (_r_1 _x0 _x1)\n",
      "              (and\n",
      "                (select _Z _x0)\n",
      "                (not\n",
      "                  ;; _x1 is a stop node\n",
      "                  (or \n",
      "                    (= _x1 sl.list.null)\n",
      "                    (= _x1 y))\n",
      "                )\n",
      "                ;; _x1 is a ['next']-successor of _x0\n",
      "                (or\n",
      "                  (= \n",
      "                    (sl.list.next _x0)\n",
      "                    _x1)\n",
      "                )\n",
      "              )\n",
      "            )\n",
      "            ;; 1-step reachability from _x0 to _x2\n",
      "            (=\n",
      "              (_r_1 _x0 _x2)\n",
      "              (and\n",
      "                (select _Z _x0)\n",
      "                (not\n",
      "                  ;; _x2 is a stop node\n",
      "                  (or \n",
      "                    (= _x2 sl.list.null)\n",
      "                    (= _x2 y))\n",
      "                )\n",
      "                ;; _x2 is a ['next']-successor of _x0\n",
      "                (or\n",
      "                  (= \n",
      "                    (sl.list.next _x0)\n",
      "                    _x2)\n",
      "                )\n",
      "              )\n",
      "            )\n",
      "            ;; 1-step reachability from _x1 to _x0\n",
      "            (=\n",
      "              (_r_1 _x1 _x0)\n",
      "              (and\n",
      "                (select _Z _x1)\n",
      "                (not\n",
      "                  ;; _x0 is a stop node\n",
      "                  (or \n",
      "                    (= _x0 sl.list.null)\n",
      "                    (= _x0 y))\n",
      "                )\n",
      "                ;; _x0 is a ['next']-successor of _x1\n",
      "                (or\n",
      "                  (= \n",
      "                    (sl.list.next _x1)\n",
      "                    _x0)\n",
      "                )\n",
      "              )\n",
      "            )\n",
      "            ;; 1-step reachability from _x1 to _x1\n",
      "            (=\n",
      "              (_r_1 _x1 _x1)\n",
      "              (and\n",
      "                (select _Z _x1)\n",
      "                (not\n",
      "                  ;; _x1 is a stop node\n",
      "                  (or \n",
      "                    (= _x1 sl.list.null)\n",
      "                    (= _x1 y))\n",
      "                )\n",
      "                ;; _x1 is a ['next']-successor of _x1\n",
      "                (or\n",
      "                  (= \n",
      "                    (sl.list.next _x1)\n",
      "                    _x1)\n",
      "                )\n",
      "              )\n",
      "            )\n",
      "            ;; 1-step reachability from _x1 to _x2\n",
      "            (=\n",
      "              (_r_1 _x1 _x2)\n",
      "              (and\n",
      "                (select _Z _x1)\n",
      "                (not\n",
      "                  ;; _x2 is a stop node\n",
      "                  (or \n",
      "                    (= _x2 sl.list.null)\n",
      "                    (= _x2 y))\n",
      "                )\n",
      "                ;; _x2 is a ['next']-successor of _x1\n",
      "                (or\n",
      "                  (= \n",
      "                    (sl.list.next _x1)\n",
      "                    _x2)\n",
      "                )\n",
      "              )\n",
      "            )\n",
      "            ;; 1-step reachability from _x2 to _x0\n",
      "            (=\n",
      "              (_r_1 _x2 _x0)\n",
      "              (and\n",
      "                (select _Z _x2)\n",
      "                (not\n",
      "                  ;; _x0 is a stop node\n",
      "                  (or \n",
      "                    (= _x0 sl.list.null)\n",
      "                    (= _x0 y))\n",
      "                )\n",
      "                ;; _x0 is a ['next']-successor of _x2\n",
      "                (or\n",
      "                  (= \n",
      "                    (sl.list.next _x2)\n",
      "                    _x0)\n",
      "                )\n",
      "              )\n",
      "            )\n",
      "            ;; 1-step reachability from _x2 to _x1\n",
      "            (=\n",
      "              (_r_1 _x2 _x1)\n",
      "              (and\n",
      "                (select _Z _x2)\n",
      "                (not\n",
      "                  ;; _x1 is a stop node\n",
      "                  (or \n",
      "                    (= _x1 sl.list.null)\n",
      "                    (= _x1 y))\n",
      "                )\n",
      "                ;; _x1 is a ['next']-successor of _x2\n",
      "                (or\n",
      "                  (= \n",
      "                    (sl.list.next _x2)\n",
      "                    _x1)\n",
      "                )\n",
      "              )\n",
      "            )\n",
      "            ;; 1-step reachability from _x2 to _x2\n",
      "            (=\n",
      "              (_r_1 _x2 _x2)\n",
      "              (and\n",
      "                (select _Z _x2)\n",
      "                (not\n",
      "                  ;; _x2 is a stop node\n",
      "                  (or \n",
      "                    (= _x2 sl.list.null)\n",
      "                    (= _x2 y))\n",
      "                )\n",
      "                ;; _x2 is a ['next']-successor of _x2\n",
      "                (or\n",
      "                  (= \n",
      "                    (sl.list.next _x2)\n",
      "                    _x2)\n",
      "                )\n",
      "              )\n",
      "            )\n",
      "          )\n",
      "          ;; Interpret _r_2 as 2-step reachability\n",
      "          (and\n",
      "            ;; 2-step reachability from _x0 to _x0\n",
      "            (=\n",
      "              (_r_2 _x0 _x0)\n",
      "              (or \n",
      "                (_r_1 _x0 _x0)\n",
      "                (or \n",
      "                  (and \n",
      "                    (_r_1 _x0 _x0)\n",
      "                    (_r_1 _x0 _x0))\n",
      "                  (and \n",
      "                    (_r_1 _x0 _x1)\n",
      "                    (_r_1 _x1 _x0))\n",
      "                  (and \n",
      "                    (_r_1 _x0 _x2)\n",
      "                    (_r_1 _x2 _x0))))\n",
      "            )\n",
      "            ;; 2-step reachability from _x0 to _x1\n",
      "            (=\n",
      "              (_r_2 _x0 _x1)\n",
      "              (or \n",
      "                (_r_1 _x0 _x1)\n",
      "                (or \n",
      "                  (and \n",
      "                    (_r_1 _x0 _x0)\n",
      "                    (_r_1 _x0 _x1))\n",
      "                  (and \n",
      "                    (_r_1 _x0 _x1)\n",
      "                    (_r_1 _x1 _x1))\n",
      "                  (and \n",
      "                    (_r_1 _x0 _x2)\n",
      "                    (_r_1 _x2 _x1))))\n",
      "            )\n",
      "            ;; 2-step reachability from _x0 to _x2\n",
      "            (=\n",
      "              (_r_2 _x0 _x2)\n",
      "              (or \n",
      "                (_r_1 _x0 _x2)\n",
      "                (or \n",
      "                  (and \n",
      "                    (_r_1 _x0 _x0)\n",
      "                    (_r_1 _x0 _x2))\n",
      "                  (and \n",
      "                    (_r_1 _x0 _x1)\n",
      "                    (_r_1 _x1 _x2))\n",
      "                  (and \n",
      "                    (_r_1 _x0 _x2)\n",
      "                    (_r_1 _x2 _x2))))\n",
      "            )\n",
      "            ;; 2-step reachability from _x1 to _x0\n",
      "            (=\n",
      "              (_r_2 _x1 _x0)\n",
      "              (or \n",
      "                (_r_1 _x1 _x0)\n",
      "                (or \n",
      "                  (and \n",
      "                    (_r_1 _x1 _x0)\n",
      "                    (_r_1 _x0 _x0))\n",
      "                  (and \n",
      "                    (_r_1 _x1 _x1)\n",
      "                    (_r_1 _x1 _x0))\n",
      "                  (and \n",
      "                    (_r_1 _x1 _x2)\n",
      "                    (_r_1 _x2 _x0))))\n",
      "            )\n",
      "            ;; 2-step reachability from _x1 to _x1\n",
      "            (=\n",
      "              (_r_2 _x1 _x1)\n",
      "              (or \n",
      "                (_r_1 _x1 _x1)\n",
      "                (or \n",
      "                  (and \n",
      "                    (_r_1 _x1 _x0)\n",
      "                    (_r_1 _x0 _x1))\n",
      "                  (and \n",
      "                    (_r_1 _x1 _x1)\n",
      "                    (_r_1 _x1 _x1))\n",
      "                  (and \n",
      "                    (_r_1 _x1 _x2)\n",
      "                    (_r_1 _x2 _x1))))\n",
      "            )\n",
      "            ;; 2-step reachability from _x1 to _x2\n",
      "            (=\n",
      "              (_r_2 _x1 _x2)\n",
      "              (or \n",
      "                (_r_1 _x1 _x2)\n",
      "                (or \n",
      "                  (and \n",
      "                    (_r_1 _x1 _x0)\n",
      "                    (_r_1 _x0 _x2))\n",
      "                  (and \n",
      "                    (_r_1 _x1 _x1)\n",
      "                    (_r_1 _x1 _x2))\n",
      "                  (and \n",
      "                    (_r_1 _x1 _x2)\n",
      "                    (_r_1 _x2 _x2))))\n",
      "            )\n",
      "            ;; 2-step reachability from _x2 to _x0\n",
      "            (=\n",
      "              (_r_2 _x2 _x0)\n",
      "              (or \n",
      "                (_r_1 _x2 _x0)\n",
      "                (or \n",
      "                  (and \n",
      "                    (_r_1 _x2 _x0)\n",
      "                    (_r_1 _x0 _x0))\n",
      "                  (and \n",
      "                    (_r_1 _x2 _x1)\n",
      "                    (_r_1 _x1 _x0))\n",
      "                  (and \n",
      "                    (_r_1 _x2 _x2)\n",
      "                    (_r_1 _x2 _x0))))\n",
      "            )\n",
      "            ;; 2-step reachability from _x2 to _x1\n",
      "            (=\n",
      "              (_r_2 _x2 _x1)\n",
      "              (or \n",
      "                (_r_1 _x2 _x1)\n",
      "                (or \n",
      "                  (and \n",
      "                    (_r_1 _x2 _x0)\n",
      "                    (_r_1 _x0 _x1))\n",
      "                  (and \n",
      "                    (_r_1 _x2 _x1)\n",
      "                    (_r_1 _x1 _x1))\n",
      "                  (and \n",
      "                    (_r_1 _x2 _x2)\n",
      "                    (_r_1 _x2 _x1))))\n",
      "            )\n",
      "            ;; 2-step reachability from _x2 to _x2\n",
      "            (=\n",
      "              (_r_2 _x2 _x2)\n",
      "              (or \n",
      "                (_r_1 _x2 _x2)\n",
      "                (or \n",
      "                  (and \n",
      "                    (_r_1 _x2 _x0)\n",
      "                    (_r_1 _x0 _x2))\n",
      "                  (and \n",
      "                    (_r_1 _x2 _x1)\n",
      "                    (_r_1 _x1 _x2))\n",
      "                  (and \n",
      "                    (_r_1 _x2 _x2)\n",
      "                    (_r_1 _x2 _x2))))\n",
      "            )\n",
      "          )\n",
      "          ;; Interpret _r_3 as 3-step reachability\n",
      "          (and\n",
      "            ;; 3-step reachability from _x0 to _x0\n",
      "            (=\n",
      "              (_r_3 _x0 _x0)\n",
      "              (or \n",
      "                (_r_2 _x0 _x0)\n",
      "                (or \n",
      "                  (and \n",
      "                    (_r_2 _x0 _x0)\n",
      "                    (_r_1 _x0 _x0))\n",
      "                  (and \n",
      "                    (_r_2 _x0 _x1)\n",
      "                    (_r_1 _x1 _x0))\n",
      "                  (and \n",
      "                    (_r_2 _x0 _x2)\n",
      "                    (_r_1 _x2 _x0))))\n",
      "            )\n",
      "            ;; 3-step reachability from _x0 to _x1\n",
      "            (=\n",
      "              (_r_3 _x0 _x1)\n",
      "              (or \n",
      "                (_r_2 _x0 _x1)\n",
      "                (or \n",
      "                  (and \n",
      "                    (_r_2 _x0 _x0)\n",
      "                    (_r_1 _x0 _x1))\n",
      "                  (and \n",
      "                    (_r_2 _x0 _x1)\n",
      "                    (_r_1 _x1 _x1))\n",
      "                  (and \n",
      "                    (_r_2 _x0 _x2)\n",
      "                    (_r_1 _x2 _x1))))\n",
      "            )\n",
      "            ;; 3-step reachability from _x0 to _x2\n",
      "            (=\n",
      "              (_r_3 _x0 _x2)\n",
      "              (or \n",
      "                (_r_2 _x0 _x2)\n",
      "                (or \n",
      "                  (and \n",
      "                    (_r_2 _x0 _x0)\n",
      "                    (_r_1 _x0 _x2))\n",
      "                  (and \n",
      "                    (_r_2 _x0 _x1)\n",
      "                    (_r_1 _x1 _x2))\n",
      "                  (and \n",
      "                    (_r_2 _x0 _x2)\n",
      "                    (_r_1 _x2 _x2))))\n",
      "            )\n",
      "            ;; 3-step reachability from _x1 to _x0\n",
      "            (=\n",
      "              (_r_3 _x1 _x0)\n",
      "              (or \n",
      "                (_r_2 _x1 _x0)\n",
      "                (or \n",
      "                  (and \n",
      "                    (_r_2 _x1 _x0)\n",
      "                    (_r_1 _x0 _x0))\n",
      "                  (and \n",
      "                    (_r_2 _x1 _x1)\n",
      "                    (_r_1 _x1 _x0))\n",
      "                  (and \n",
      "                    (_r_2 _x1 _x2)\n",
      "                    (_r_1 _x2 _x0))))\n",
      "            )\n",
      "            ;; 3-step reachability from _x1 to _x1\n",
      "            (=\n",
      "              (_r_3 _x1 _x1)\n",
      "              (or \n",
      "                (_r_2 _x1 _x1)\n",
      "                (or \n",
      "                  (and \n",
      "                    (_r_2 _x1 _x0)\n",
      "                    (_r_1 _x0 _x1))\n",
      "                  (and \n",
      "                    (_r_2 _x1 _x1)\n",
      "                    (_r_1 _x1 _x1))\n",
      "                  (and \n",
      "                    (_r_2 _x1 _x2)\n",
      "                    (_r_1 _x2 _x1))))\n",
      "            )\n",
      "            ;; 3-step reachability from _x1 to _x2\n",
      "            (=\n",
      "              (_r_3 _x1 _x2)\n",
      "              (or \n",
      "                (_r_2 _x1 _x2)\n",
      "                (or \n",
      "                  (and \n",
      "                    (_r_2 _x1 _x0)\n",
      "                    (_r_1 _x0 _x2))\n",
      "                  (and \n",
      "                    (_r_2 _x1 _x1)\n",
      "                    (_r_1 _x1 _x2))\n",
      "                  (and \n",
      "                    (_r_2 _x1 _x2)\n",
      "                    (_r_1 _x2 _x2))))\n",
      "            )\n",
      "            ;; 3-step reachability from _x2 to _x0\n",
      "            (=\n",
      "              (_r_3 _x2 _x0)\n",
      "              (or \n",
      "                (_r_2 _x2 _x0)\n",
      "                (or \n",
      "                  (and \n",
      "                    (_r_2 _x2 _x0)\n",
      "                    (_r_1 _x0 _x0))\n",
      "                  (and \n",
      "                    (_r_2 _x2 _x1)\n",
      "                    (_r_1 _x1 _x0))\n",
      "                  (and \n",
      "                    (_r_2 _x2 _x2)\n",
      "                    (_r_1 _x2 _x0))))\n",
      "            )\n",
      "            ;; 3-step reachability from _x2 to _x1\n",
      "            (=\n",
      "              (_r_3 _x2 _x1)\n",
      "              (or \n",
      "                (_r_2 _x2 _x1)\n",
      "                (or \n",
      "                  (and \n",
      "                    (_r_2 _x2 _x0)\n",
      "                    (_r_1 _x0 _x1))\n",
      "                  (and \n",
      "                    (_r_2 _x2 _x1)\n",
      "                    (_r_1 _x1 _x1))\n",
      "                  (and \n",
      "                    (_r_2 _x2 _x2)\n",
      "                    (_r_1 _x2 _x1))))\n",
      "            )\n",
      "            ;; 3-step reachability from _x2 to _x2\n",
      "            (=\n",
      "              (_r_3 _x2 _x2)\n",
      "              (or \n",
      "                (_r_2 _x2 _x2)\n",
      "                (or \n",
      "                  (and \n",
      "                    (_r_2 _x2 _x0)\n",
      "                    (_r_1 _x0 _x2))\n",
      "                  (and \n",
      "                    (_r_2 _x2 _x1)\n",
      "                    (_r_1 _x1 _x2))\n",
      "                  (and \n",
      "                    (_r_2 _x2 _x2)\n",
      "                    (_r_1 _x2 _x2))))\n",
      "            )\n",
      "          )\n",
      "        )\n",
      "        ;; footprint: Define the set _Z : SET(Int) for root x and nodes _x0,...,_x2\n",
      "        (and\n",
      "          ;; _Z : SET(Int) is a subset of {_x0,...,_x2}\n",
      "          (= \n",
      "            ((_ map implies) \n",
      "              _Z\n",
      "              (store \n",
      "                (store \n",
      "                  (store \n",
      "                    ((as const (Array Int Bool)) false)\n",
      "                    _x0\n",
      "                    true)\n",
      "                  _x1\n",
      "                  true)\n",
      "                _x2\n",
      "                true))\n",
      "            ((as const (Array Int Bool)) true))\n",
      "          ;; Define when _Z : SET(Int) is empty\n",
      "          (=>\n",
      "            ;; The root is such that _Z : SET(Int) must be empty\n",
      "            (or\n",
      "              ;; x is a stop node\n",
      "              (or \n",
      "                (= x sl.list.null)\n",
      "                (= x y))\n",
      "              (and \n",
      "                (not (= _x0 x))\n",
      "                (not (= _x1 x))\n",
      "                (not (= _x2 x)))\n",
      "            )\n",
      "            (= \n",
      "              _Z\n",
      "              ((as const (Array Int Bool)) false))\n",
      "          )\n",
      "          ;; If the root is allocated, _Z : SET(Int) contains exactly what's reachable from the root\n",
      "          (=>\n",
      "            (not\n",
      "              ;; The root is such that _Z : SET(Int) must be empty\n",
      "              (or\n",
      "                ;; x is a stop node\n",
      "                (or \n",
      "                  (= x sl.list.null)\n",
      "                  (= x y))\n",
      "                (and \n",
      "                  (not (= _x0 x))\n",
      "                  (not (= _x1 x))\n",
      "                  (not (= _x2 x)))\n",
      "              )\n",
      "            )\n",
      "            ;; Everything in _Z : SET(Int) is reachable from the root x\n",
      "            (and\n",
      "              (=\n",
      "                (select _Z _x0)\n",
      "                (or \n",
      "                  (= x _x0)\n",
      "                  (_r_3 x _x0))\n",
      "              )\n",
      "              (=\n",
      "                (select _Z _x1)\n",
      "                (or \n",
      "                  (= x _x1)\n",
      "                  (_r_3 x _x1))\n",
      "              )\n",
      "              (=\n",
      "                (select _Z _x2)\n",
      "                (or \n",
      "                  (= x _x2)\n",
      "                  (_r_3 x _x2))\n",
      "              )\n",
      "            )\n",
      "          )\n",
      "        )\n",
      "        ;; defineY: _Z : SET(Int) equals the footprint parameters _Y1 for sl.list\n",
      "        (and\n",
      "          ;; All sl.list footprints equal _Z : SET(Int)\n",
      "          (and\n",
      "            (= _Z _Y1data)\n",
      "            (= _Z _Y1next)\n",
      "          )\n",
      "        )\n",
      "        ;; The predicate root is among _x0..._x2\n",
      "        (select \n",
      "          (store \n",
      "            (store \n",
      "              (store \n",
      "                ((as const (Array Int Bool)) false)\n",
      "                _x0\n",
      "                true)\n",
      "              _x1\n",
      "              true)\n",
      "            _x2\n",
      "            true)\n",
      "          x)\n",
      "      )\n",
      "    )\n",
      "    ;; Delta_SL(3)\n",
      "    (and\n",
      "      ;; Global FP is the union of all field FPs\n",
      "      (= \n",
      "        _X\n",
      "        ((_ map or) _Xdata _Xnext))\n",
      "      ;; Global FP is subset of {x_1,...x_n}\n",
      "      (= \n",
      "        ((_ map implies) \n",
      "          _X\n",
      "          (store \n",
      "            (store \n",
      "              (store \n",
      "                ((as const (Array Int Bool)) false)\n",
      "                _x0\n",
      "                true)\n",
      "              _x1\n",
      "              true)\n",
      "            _x2\n",
      "            true))\n",
      "        ((as const (Array Int Bool)) true))\n",
      "      ;; Null is not allocated\n",
      "      (not \n",
      "        (select _X sl.list.null))\n",
      "    )\n",
      "  )\n",
      ")\n",
      "(check-sat)\n",
      "(get-model)\n",
      "\n"
     ]
    }
   ],
   "source": [
    "z3input = encode(sl.list.seg(x, y))\n",
    "print(z3input.to_smt2_string())"
   ]
  },
  {
   "cell_type": "markdown",
   "metadata": {},
   "source": [
    "It's perhaps more useful to write the encoding to a file that you can inspect in an editor and also directly feed to `Z3` if you like."
   ]
  },
  {
   "cell_type": "code",
   "execution_count": 23,
   "metadata": {},
   "outputs": [
    {
     "name": "stdout",
     "output_type": "stream",
     "text": [
      "Wrote encoding to \"encoding.smt2\".\n"
     ]
    }
   ],
   "source": [
    "z3input.to_file('encoding.smt2', verbose = True)"
   ]
  }
 ],
 "metadata": {
  "kernelspec": {
   "display_name": "Python 3",
   "language": "python",
   "name": "python3"
  },
  "language_info": {
   "codemirror_mode": {
    "name": "ipython",
    "version": 3
   },
   "file_extension": ".py",
   "mimetype": "text/x-python",
   "name": "python",
   "nbconvert_exporter": "python",
   "pygments_lexer": "ipython3",
   "version": "3.5.2"
  }
 },
 "nbformat": 4,
 "nbformat_minor": 2
}
