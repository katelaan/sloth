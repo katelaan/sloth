{
 "cells": [
  {
   "cell_type": "markdown",
   "metadata": {},
   "source": [
    "<div class=\"alert alert-block alert-warning\">Some parts of this tutorial may not work properly when viewing the tutorial on github. (In particular plotting.) To get the most out of this tutorial, consider running the tutorial locally in your own clone of the repository as explained in the [README](https://github.com/katelaan/sloth/blob/master/README.md). This will also allow you to modify the code examples.</div>"
   ]
  },
  {
   "cell_type": "markdown",
   "metadata": {},
   "source": [
    "# `sloth` Tutorial\n",
    "\n",
    "`sloth` is a solver for the separation logic $\\mathbf{SL}_\\mathsf{data}^{*}$. `sloth` comes both with a command-line interface (CLI) and with a Python API. This tutorial focuses on the use of the API, but also gives an overview of the SMT-LIB extension that serves as the input format for the CLI.\n",
    "\n",
    "I assume that you have seen separation logic before, though not necessarily $\\mathbf{SL}_\\mathsf{data}^{*}$. I will explain some more unusual features of $\\mathbf{SL}_\\mathsf{data}^{*}$ as we go along."
   ]
  },
  {
   "cell_type": "markdown",
   "metadata": {},
   "source": [
    "## The `sloth` Python API: Create Formulas, Solve Formulas, and Visualize Models\n",
    "\n",
    "The `sloth` API allows you to build $\\mathbf{SL}_\\mathsf{data}^{*}$ formulas and combine them with `Z3` expressions as built through `Z3`'s Python API.\n",
    "\n",
    "We begin by importing some useful functions from `Z3` as well as the `sloth` API."
   ]
  },
  {
   "cell_type": "code",
   "execution_count": 1,
   "metadata": {},
   "outputs": [],
   "source": [
    "from z3 import And, Or, Not, Ints\n",
    "from sloth import *"
   ]
  },
  {
   "cell_type": "markdown",
   "metadata": {},
   "source": [
    "The easiest way to understand $\\mathbf{SL}_\\mathsf{data}^{*}$ and `sloth` is to build $\\mathbf{SL}_\\mathsf{data}^{*}$ formulas via the API, check them for satisfiability and inspect the models that z3 finds. Let's begin with the equivalent API call for the $\\mathbf{SL}_\\mathsf{data}^{*}$ formula $\\mathsf{list}(x)$, a null-terminated list rooted in `x`."
   ]
  },
  {
   "cell_type": "code",
   "execution_count": 2,
   "metadata": {},
   "outputs": [
    {
     "data": {
      "text/plain": [
       "sl.list(x)"
      ]
     },
     "execution_count": 2,
     "metadata": {},
     "output_type": "execute_result"
    }
   ],
   "source": [
    "sl.list('x')"
   ]
  },
  {
   "cell_type": "markdown",
   "metadata": {},
   "source": [
    "As you can see, we prefix the `list` call with `sl.` Notice that the quotes around `x` are gone in the output. This is because the function call has returned a `Z3.ExprRef` instance. I will explain later why we reuse `Z3`'s expressions in our API. But let's first do something with the above formula.\n",
    "    "
   ]
  },
  {
   "cell_type": "code",
   "execution_count": 3,
   "metadata": {},
   "outputs": [
    {
     "data": {
      "text/plain": [
       "True"
      ]
     },
     "execution_count": 3,
     "metadata": {},
     "output_type": "execute_result"
    }
   ],
   "source": [
    "is_sat(sl.list('x'))"
   ]
  },
  {
   "cell_type": "code",
   "execution_count": 4,
   "metadata": {},
   "outputs": [
    {
     "data": {
      "text/plain": [
       "Model [\n",
       "  Struct sl.list [\n",
       "    locs = Integers(0, 1:[x])\n",
       "    null = 0\n",
       "    data = undefined\n",
       "    next = 1->0\n",
       "    footprints:\n",
       "    _Xnext=[1], _Xdata=[1]\n",
       "  ]\n",
       "  Data [undefined]\n",
       "]"
      ]
     },
     "execution_count": 4,
     "metadata": {},
     "output_type": "execute_result"
    }
   ],
   "source": [
    "model(sl.list('x'))"
   ]
  },
  {
   "cell_type": "markdown",
   "metadata": {},
   "source": [
    "The formula is satisfiable and `sloth` has found a model: A list of length 1 from x to null.\n",
    "\n",
    "Let's examine a few more features: Allocating individual pointers, list segments, and the combination via the separating conjunction:"
   ]
  },
  {
   "cell_type": "code",
   "execution_count": 5,
   "metadata": {},
   "outputs": [
    {
     "data": {
      "text/plain": [
       "Model [\n",
       "  Struct sl.list [\n",
       "    locs = Integers(0:[y], 1:[x], 3:[sl.list.null])\n",
       "    null = 3\n",
       "    data = undefined\n",
       "    next = 0->3, 1->0\n",
       "    footprints:\n",
       "    _Xnext=[0, 1], _Xdata=[1]\n",
       "  ]\n",
       "  Data [undefined]\n",
       "]"
      ]
     },
     "execution_count": 5,
     "metadata": {},
     "output_type": "execute_result"
    }
   ],
   "source": [
    "m = model(sl.sepcon(sl.list.seg('x', 'y'), sl.list.next('y', sl.list.null))); m"
   ]
  },
  {
   "cell_type": "markdown",
   "metadata": {},
   "source": [
    "Observe that `x` and `y` are interpreted as different locations, since they are both allocated and separated by a separating conjunction. We can use the API to visualize the model:"
   ]
  },
  {
   "cell_type": "code",
   "execution_count": 6,
   "metadata": {},
   "outputs": [
    {
     "data": {
      "text/html": [
       "<script>requirejs.config({paths: { 'plotly': ['https://cdn.plot.ly/plotly-latest.min']},});if(!window.Plotly) {{require(['plotly'],function(plotly) {window.Plotly=plotly;});}}</script>"
      ],
      "text/vnd.plotly.v1+html": [
       "<script>requirejs.config({paths: { 'plotly': ['https://cdn.plot.ly/plotly-latest.min']},});if(!window.Plotly) {{require(['plotly'],function(plotly) {window.Plotly=plotly;});}}</script>"
      ]
     },
     "metadata": {},
     "output_type": "display_data"
    },
    {
     "data": {
      "application/vnd.plotly.v1+json": {
       "data": [
        {
         "hoverinfo": "none",
         "line": {
          "color": "red",
          "width": 2
         },
         "mode": "lines+text",
         "text": "next",
         "textposition": "top",
         "type": "scatter",
         "x": [
          0.06000274716569615,
          -0.7349993132085758,
          null,
          0.9399972528343036,
          0.28000137358284805,
          null
         ],
         "y": [
          -0.037853900398551375,
          -0.05294297979343408,
          null,
          0.09582657332361316,
          -0.004433781968010253,
          null
         ]
        },
        {
         "hoverinfo": "none",
         "line": {
          "color": "red",
          "width": 7
         },
         "mode": "lines",
         "type": "scatter",
         "x": [
          -0.7349993132085758,
          -1,
          null,
          0.28000137358284805,
          0.06000274716569615,
          null
         ],
         "y": [
          -0.05294297979343408,
          -0.05797267292506165,
          null,
          -0.004433781968010253,
          -0.037853900398551375,
          null
         ]
        },
        {
         "hoverinfo": "text",
         "marker": {
          "color": "rgb(127,127,255)",
          "line": {
           "color": "rgb(50,50,50)",
           "width": 2
          },
          "size": 25,
          "symbol": "dot"
         },
         "mode": "markers+text",
         "text": [
          "y",
          "x",
          "sl.list.null"
         ],
         "textposition": "top",
         "type": "scatter",
         "x": [
          0.06000274716569615,
          0.9399972528343036,
          -1
         ],
         "y": [
          -0.037853900398551375,
          0.09582657332361316,
          -0.05797267292506165
         ]
        }
       ],
       "layout": {
        "font": {
         "size": 12
        },
        "hovermode": "closest",
        "showlegend": false,
        "title": "Model",
        "xaxis": {
         "showgrid": false,
         "showticklabels": false,
         "zeroline": false
        },
        "yaxis": {
         "showgrid": false,
         "showticklabels": false,
         "zeroline": false
        }
       }
      },
      "text/html": [
       "<div id=\"42db70cb-8299-4b20-8980-3639594daa5b\" style=\"height: 525px; width: 100%;\" class=\"plotly-graph-div\"></div><script type=\"text/javascript\">require([\"plotly\"], function(Plotly) { window.PLOTLYENV=window.PLOTLYENV || {};window.PLOTLYENV.BASE_URL=\"https://plot.ly\";Plotly.newPlot(\"42db70cb-8299-4b20-8980-3639594daa5b\", [{\"text\": \"next\", \"type\": \"scatter\", \"y\": [-0.037853900398551375, -0.05294297979343408, null, 0.09582657332361316, -0.004433781968010253, null], \"line\": {\"width\": 2, \"color\": \"red\"}, \"mode\": \"lines+text\", \"hoverinfo\": \"none\", \"x\": [0.06000274716569615, -0.7349993132085758, null, 0.9399972528343036, 0.28000137358284805, null], \"textposition\": \"top\"}, {\"type\": \"scatter\", \"y\": [-0.05294297979343408, -0.05797267292506165, null, -0.004433781968010253, -0.037853900398551375, null], \"line\": {\"width\": 7, \"color\": \"red\"}, \"mode\": \"lines\", \"hoverinfo\": \"none\", \"x\": [-0.7349993132085758, -1.0, null, 0.28000137358284805, 0.06000274716569615, null]}, {\"text\": [\"y\", \"x\", \"sl.list.null\"], \"type\": \"scatter\", \"y\": [-0.037853900398551375, 0.09582657332361316, -0.05797267292506165], \"marker\": {\"line\": {\"width\": 2, \"color\": \"rgb(50,50,50)\"}, \"symbol\": \"dot\", \"size\": 25, \"color\": \"rgb(127,127,255)\"}, \"mode\": \"markers+text\", \"hoverinfo\": \"text\", \"x\": [0.06000274716569615, 0.9399972528343036, -1.0], \"textposition\": \"top\"}], {\"xaxis\": {\"zeroline\": false, \"showticklabels\": false, \"showgrid\": false}, \"hovermode\": \"closest\", \"yaxis\": {\"zeroline\": false, \"showticklabels\": false, \"showgrid\": false}, \"font\": {\"size\": 12}, \"title\": \"Model\", \"showlegend\": false}, {\"linkText\": \"Export to plot.ly\", \"showLink\": true})});</script>"
      ],
      "text/vnd.plotly.v1+html": [
       "<div id=\"42db70cb-8299-4b20-8980-3639594daa5b\" style=\"height: 525px; width: 100%;\" class=\"plotly-graph-div\"></div><script type=\"text/javascript\">require([\"plotly\"], function(Plotly) { window.PLOTLYENV=window.PLOTLYENV || {};window.PLOTLYENV.BASE_URL=\"https://plot.ly\";Plotly.newPlot(\"42db70cb-8299-4b20-8980-3639594daa5b\", [{\"text\": \"next\", \"type\": \"scatter\", \"y\": [-0.037853900398551375, -0.05294297979343408, null, 0.09582657332361316, -0.004433781968010253, null], \"line\": {\"width\": 2, \"color\": \"red\"}, \"mode\": \"lines+text\", \"hoverinfo\": \"none\", \"x\": [0.06000274716569615, -0.7349993132085758, null, 0.9399972528343036, 0.28000137358284805, null], \"textposition\": \"top\"}, {\"type\": \"scatter\", \"y\": [-0.05294297979343408, -0.05797267292506165, null, -0.004433781968010253, -0.037853900398551375, null], \"line\": {\"width\": 7, \"color\": \"red\"}, \"mode\": \"lines\", \"hoverinfo\": \"none\", \"x\": [-0.7349993132085758, -1.0, null, 0.28000137358284805, 0.06000274716569615, null]}, {\"text\": [\"y\", \"x\", \"sl.list.null\"], \"type\": \"scatter\", \"y\": [-0.037853900398551375, 0.09582657332361316, -0.05797267292506165], \"marker\": {\"line\": {\"width\": 2, \"color\": \"rgb(50,50,50)\"}, \"symbol\": \"dot\", \"size\": 25, \"color\": \"rgb(127,127,255)\"}, \"mode\": \"markers+text\", \"hoverinfo\": \"text\", \"x\": [0.06000274716569615, 0.9399972528343036, -1.0], \"textposition\": \"top\"}], {\"xaxis\": {\"zeroline\": false, \"showticklabels\": false, \"showgrid\": false}, \"hovermode\": \"closest\", \"yaxis\": {\"zeroline\": false, \"showticklabels\": false, \"showgrid\": false}, \"font\": {\"size\": 12}, \"title\": \"Model\", \"showlegend\": false}, {\"linkText\": \"Export to plot.ly\", \"showLink\": true})});</script>"
      ]
     },
     "metadata": {},
     "output_type": "display_data"
    }
   ],
   "source": [
    "iplot(m)"
   ]
  },
  {
   "cell_type": "markdown",
   "metadata": {},
   "source": [
    "<div class=\"alert alert-block alert-warning\">If you don't see the visualization, you're probably viewing the tutorial on github rather than locally. Consider following the steps in the [README](https://github.com/katelaan/sloth/blob/master/README.md) to run the tutorial locally. This will also allow you to modify the code examples.</div>"
   ]
  },
  {
   "cell_type": "markdown",
   "metadata": {},
   "source": [
    "$\\mathbf{SL}_\\mathsf{data}^{*}$ also supports trees and tree segments. For example, we can define a tree segment rooted in `t` with two non-null leaves `u` and `v` that have backpointers to the root originating in leaves `u` and `v`. The `.seg2` suffix of the tree predicate call denotes a tree segment with 2 stop nodes."
   ]
  },
  {
   "cell_type": "code",
   "execution_count": 7,
   "metadata": {},
   "outputs": [
    {
     "data": {
      "text/plain": [
       "Model [\n",
       "  Struct sl.tree [\n",
       "    locs = Integers(0, 1:[u], 2:[v], 3, 4, 5, 6:[t])\n",
       "    null = 0\n",
       "    right = 2->6, 3->0, 4->3, 5->4, 6->5\n",
       "    left = 1->6, 3->2, 4->0, 5->0, 6->1\n",
       "    data = undefined\n",
       "    footprints:\n",
       "    _Xleft=[1, 3, 4, 5, 6], _Xright=[2, 3, 4, 5, 6], _Xdata=[3, 4, 5, 6]\n",
       "  ]\n",
       "  Data [undefined]\n",
       "]"
      ]
     },
     "execution_count": 7,
     "metadata": {},
     "output_type": "execute_result"
    }
   ],
   "source": [
    "model(sl.sepcon(sl.tree.seg2('t', 'u', 'v'), sl.tree.left('u', 't'), sl.tree.right('v', 't')))"
   ]
  },
  {
   "cell_type": "markdown",
   "metadata": {},
   "source": [
    "In this manner, we can define cycles as well as bounded sharing in the heap, even though both $\\ls$ and $\\tree$ predicates themselves always describe acyclic structures.\n",
    "\n",
    "$\\mathbf{SL}_\\mathsf{data}^{*}$ formulas can also constrain the data stored in data structures by means of universal data constraints. But before we look at that, let's allocate a few appropriately-sorted variables to spare ourselves some typing for the rest of the tutorial."
   ]
  },
  {
   "cell_type": "code",
   "execution_count": 8,
   "metadata": {},
   "outputs": [],
   "source": [
    "t, u, v = sl.tree.locs('t u v')\n",
    "x, y, z, w = sl.list.locs('x y z w')\n",
    "d, e, f, g = Ints('d e f g')"
   ]
  },
  {
   "cell_type": "markdown",
   "metadata": {},
   "source": [
    "Now let's specify sorted lists rooted in `x`! In $\\mathbf{SL}_\\mathsf{data}^{*}$, we write this as $\\mathsf{list}(x, (\\textsf{n}, \\alpha < \\beta))$. Intuitively, the data predicate $\\alpha < \\beta$ holds for all locations in the list rooted in `x`. $\\alpha$ and $\\beta$ are special variables that range over the data stored in the list locations. In the above example, the data predicate specifies that for all locations $\\ell_1$ containing data value $\\alpha$ and $\\ell_2$ containing data value $\\beta$, if $\\ell_2$ is reachable from $\\ell_1$ by first taking an $\\textsf{n}$-pointer, then $\\alpha < \\beta$ holds.\n",
    "\n",
    "While this is somewhat complicated, the idea is very simple: Look at the list. Fix two arbitrary locations. Then the one later in the list stores a larger data value than the one earlier in the list. In other words, the list is sorted.\n",
    "\n",
    "In `sloth`, we can specify the sorted list with a very similar syntax. Note the additional `dpred`, though. This signifies that we're defining a data predicate rather than an ordinary list predicate. The `.next` corresponds to the $\\textsf{n}$ in $\\ls(x, (\\textsf{n}, \\alpha < \\beta))$. (It will become clear why it makes sense to specify a field when we're defining data predicates for trees.)"
   ]
  },
  {
   "cell_type": "code",
   "execution_count": 9,
   "metadata": {},
   "outputs": [
    {
     "data": {
      "text/plain": [
       "Model [\n",
       "  Struct sl.list [\n",
       "    locs = Integers(0, 1:[x])\n",
       "    null = 0\n",
       "    data = undefined\n",
       "    next = 1->0\n",
       "    footprints:\n",
       "    _Xnext=[1], _Xdata=[1]\n",
       "  ]\n",
       "  Data [undefined]\n",
       "]"
      ]
     },
     "execution_count": 9,
     "metadata": {},
     "output_type": "execute_result"
    }
   ],
   "source": [
    "sorted_list = sl.list.dpred.next(sl.alpha < sl.beta, x)\n",
    "model(sorted_list)"
   ]
  },
  {
   "cell_type": "markdown",
   "metadata": {},
   "source": [
    "Hurray, `sloth` found a sorted list! Which contains exactly one element! As you can see, Z3 did not even define the data function (`data = undefined`). This sometimes happens when the truth value of the formula does not depend on the interpretation of a function. This is the case here: No matter the data it contains, a list of length 1 is indeed sorted.\n",
    "\n",
    "So let's make things more interesting and force a minimum length. We will use an auxiliary function that makes it less cumbersome to specify data structures of fixed size."
   ]
  },
  {
   "cell_type": "code",
   "execution_count": 10,
   "metadata": {},
   "outputs": [
    {
     "data": {
      "text/plain": [
       "sl.sepcon(sl.sepcon(sl.sepcon(sl.sepcon(sl.list.next(x, a1),\n",
       "                                        sl.list.next(a1, a2)),\n",
       "                              sl.sepcon(sl.list.next(a2, a3),\n",
       "                                        sl.list.next(a3, a4))),\n",
       "                    sl.sepcon(sl.sepcon(sl.list.next(a4, a5),\n",
       "                                        sl.list.next(a5, a6)),\n",
       "                              sl.sepcon(sl.list.next(a6, a7),\n",
       "                                        sl.list.next(a7,\n",
       "                                        sl.list.null)))),\n",
       "          sl.sepcon(sl.sepcon(sl.sepcon(sl.list.data(x, d0),\n",
       "                                        sl.list.data(a1, d1)),\n",
       "                              sl.sepcon(sl.list.data(a2, d2),\n",
       "                                        sl.list.data(a3, d3))),\n",
       "                    sl.sepcon(sl.sepcon(sl.list.data(a4, d4),\n",
       "                                        sl.list.data(a5, d5)),\n",
       "                              sl.sepcon(sl.list.data(a6, d6),\n",
       "                                        sl.list.data(a7, d7)))))"
      ]
     },
     "execution_count": 10,
     "metadata": {},
     "output_type": "execute_result"
    }
   ],
   "source": [
    "from sloth.slbuilders import list_of_length\n",
    "length8 = list_of_length(8, x, sl.list.null); length8"
   ]
  },
  {
   "cell_type": "markdown",
   "metadata": {},
   "source": [
    "It would have been kind of annoying to write that by hand, wouldn't it?\n",
    "\n",
    "Next we simply conjoin `length8` and `sorted_list`. This is where it is really useful that the `sloth` API constructs `Z3` expression references: We can use all the features of the Z3 API together with our SL assertions. You can construct the conjunction of two $\\mathbf{SL}_\\mathsf{data}^{*}$ formulas by calling `Z3`'s `And` function."
   ]
  },
  {
   "cell_type": "code",
   "execution_count": 11,
   "metadata": {},
   "outputs": [
    {
     "data": {
      "text/plain": [
       "Model [\n",
       "  Struct sl.list [\n",
       "    locs = Integers(7:[x], 15:[a1], 16:[a2], 17:[a3], 18:[a4], 19:[a5], 20:[a6], 21:[a7], 22:[sl.list.null])\n",
       "    null = 22\n",
       "    data = 7->-5, 15->-4, 16->-3, 17->-2, 18->-1, 19->0, 20->1, 21->2\n",
       "    next = 7->15, 15->16, 16->17, 17->18, 18->19, 19->20, 20->21, 21->22\n",
       "    footprints:\n",
       "    _Xdata=[7, 15, 16, 17, 18, 19, 20, 21], _Xnext=[7, 15, 16, 17, 18, 19, 20\n",
       "    21]\n",
       "  ]\n",
       "  Data [\n",
       "    d0=-5, d1=-4, d2=-3, d3=-2, d4=-1, d5=0, d6=1, d7=2\n",
       "  ]\n",
       "]"
      ]
     },
     "execution_count": 11,
     "metadata": {},
     "output_type": "execute_result"
    }
   ],
   "source": [
    "sorted_length8 = And(sorted_list, length8)\n",
    "m = model(sorted_length8); m"
   ]
  },
  {
   "cell_type": "markdown",
   "metadata": {},
   "source": [
    "Let's plot the model to make it easier to figure out what's going on here!"
   ]
  },
  {
   "cell_type": "code",
   "execution_count": 12,
   "metadata": {},
   "outputs": [
    {
     "data": {
      "application/vnd.plotly.v1+json": {
       "data": [
        {
         "hoverinfo": "none",
         "line": {
          "color": "red",
          "width": 2
         },
         "mode": "lines+text",
         "text": "next",
         "textposition": "top",
         "type": "scatter",
         "x": [
          -0.5834248469968314,
          -0.5989833560640498,
          null,
          -0.6041695257531227,
          -0.364503654571822,
          null,
          -0.28461503084472173,
          -0.06354436204352903,
          null,
          0.010145860890201887,
          0.1525581812295621,
          null,
          0.2000289546760155,
          0.48320622584822837,
          null,
          0.5775986495722993,
          0.8943996623930748,
          null,
          -0.032153384532790985,
          -0.22059635389148508,
          null,
          -0.28341067701104977,
          -0.508421304500386,
          null
         ],
         "y": [
          0.044786722277398494,
          -0.20137867769716936,
          null,
          -0.2834338110220253,
          -0.312042619460311,
          null,
          -0.3215788889397395,
          -0.20066084609340704,
          null,
          -0.1603548318112962,
          0.013642122053399625,
          null,
          0.07164110667496489,
          0.15490022759889444,
          null,
          0.18265326790687098,
          0.263904975898495,
          null,
          -0.0035310522115224786,
          0.1332386933693541,
          null,
          0.17882860856297964,
          0.07829719384879377,
          null
         ]
        },
        {
         "hoverinfo": "none",
         "line": {
          "color": "red",
          "width": 7
         },
         "mode": "lines",
         "type": "scatter",
         "x": [
          -0.5989833560640498,
          -0.6041695257531227,
          null,
          -0.364503654571822,
          -0.28461503084472173,
          null,
          -0.06354436204352903,
          0.010145860890201887,
          null,
          0.1525581812295621,
          0.2000289546760155,
          null,
          0.48320622584822837,
          0.5775986495722993,
          null,
          0.8943996623930748,
          1,
          null,
          -0.22059635389148508,
          -0.28341067701104977,
          null,
          -0.508421304500386,
          -0.5834248469968314,
          null
         ],
         "y": [
          -0.20137867769716936,
          -0.2834338110220253,
          null,
          -0.312042619460311,
          -0.3215788889397395,
          null,
          -0.20066084609340704,
          -0.1603548318112962,
          null,
          0.013642122053399625,
          0.07164110667496489,
          null,
          0.15490022759889444,
          0.18265326790687098,
          null,
          0.263904975898495,
          0.29098887856236966,
          null,
          0.1332386933693541,
          0.17882860856297964,
          null,
          0.07829719384879377,
          0.044786722277398494,
          null
         ]
        },
        {
         "hoverinfo": "text",
         "marker": {
          "color": "rgb(127,127,255)",
          "line": {
           "color": "rgb(50,50,50)",
           "width": 2
          },
          "size": 25,
          "symbol": "dot"
         },
         "mode": "markers+text",
         "text": [
          "-3 / a2",
          "-2 / a3",
          "-1 / a4",
          "0 / a5",
          "1 / a6",
          "2 / a7",
          "sl.list.null",
          "-5 / x",
          "-4 / a1"
         ],
         "textposition": "top",
         "type": "scatter",
         "x": [
          -0.5834248469968314,
          -0.6041695257531227,
          -0.28461503084472173,
          0.010145860890201887,
          0.2000289546760155,
          0.5775986495722993,
          1,
          -0.032153384532790985,
          -0.28341067701104977
         ],
         "y": [
          0.044786722277398494,
          -0.2834338110220253,
          -0.3215788889397395,
          -0.1603548318112962,
          0.07164110667496489,
          0.18265326790687098,
          0.29098887856236966,
          -0.0035310522115224786,
          0.17882860856297964
         ]
        }
       ],
       "layout": {
        "font": {
         "size": 12
        },
        "hovermode": "closest",
        "showlegend": false,
        "title": "Model",
        "xaxis": {
         "showgrid": false,
         "showticklabels": false,
         "zeroline": false
        },
        "yaxis": {
         "showgrid": false,
         "showticklabels": false,
         "zeroline": false
        }
       }
      },
      "text/html": [
       "<div id=\"8bfd11ec-1ecd-4c59-a731-d5f4d2abfe2e\" style=\"height: 525px; width: 100%;\" class=\"plotly-graph-div\"></div><script type=\"text/javascript\">require([\"plotly\"], function(Plotly) { window.PLOTLYENV=window.PLOTLYENV || {};window.PLOTLYENV.BASE_URL=\"https://plot.ly\";Plotly.newPlot(\"8bfd11ec-1ecd-4c59-a731-d5f4d2abfe2e\", [{\"text\": \"next\", \"type\": \"scatter\", \"y\": [0.044786722277398494, -0.20137867769716936, null, -0.2834338110220253, -0.312042619460311, null, -0.3215788889397395, -0.20066084609340704, null, -0.1603548318112962, 0.013642122053399625, null, 0.07164110667496489, 0.15490022759889444, null, 0.18265326790687098, 0.263904975898495, null, -0.0035310522115224786, 0.1332386933693541, null, 0.17882860856297964, 0.07829719384879377, null], \"line\": {\"width\": 2, \"color\": \"red\"}, \"mode\": \"lines+text\", \"hoverinfo\": \"none\", \"x\": [-0.5834248469968314, -0.5989833560640498, null, -0.6041695257531227, -0.364503654571822, null, -0.28461503084472173, -0.06354436204352903, null, 0.010145860890201887, 0.1525581812295621, null, 0.2000289546760155, 0.48320622584822837, null, 0.5775986495722993, 0.8943996623930748, null, -0.032153384532790985, -0.22059635389148508, null, -0.28341067701104977, -0.508421304500386, null], \"textposition\": \"top\"}, {\"type\": \"scatter\", \"y\": [-0.20137867769716936, -0.2834338110220253, null, -0.312042619460311, -0.3215788889397395, null, -0.20066084609340704, -0.1603548318112962, null, 0.013642122053399625, 0.07164110667496489, null, 0.15490022759889444, 0.18265326790687098, null, 0.263904975898495, 0.29098887856236966, null, 0.1332386933693541, 0.17882860856297964, null, 0.07829719384879377, 0.044786722277398494, null], \"line\": {\"width\": 7, \"color\": \"red\"}, \"mode\": \"lines\", \"hoverinfo\": \"none\", \"x\": [-0.5989833560640498, -0.6041695257531227, null, -0.364503654571822, -0.28461503084472173, null, -0.06354436204352903, 0.010145860890201887, null, 0.1525581812295621, 0.2000289546760155, null, 0.48320622584822837, 0.5775986495722993, null, 0.8943996623930748, 1.0, null, -0.22059635389148508, -0.28341067701104977, null, -0.508421304500386, -0.5834248469968314, null]}, {\"text\": [\"-3 / a2\", \"-2 / a3\", \"-1 / a4\", \"0 / a5\", \"1 / a6\", \"2 / a7\", \"sl.list.null\", \"-5 / x\", \"-4 / a1\"], \"type\": \"scatter\", \"y\": [0.044786722277398494, -0.2834338110220253, -0.3215788889397395, -0.1603548318112962, 0.07164110667496489, 0.18265326790687098, 0.29098887856236966, -0.0035310522115224786, 0.17882860856297964], \"marker\": {\"line\": {\"width\": 2, \"color\": \"rgb(50,50,50)\"}, \"symbol\": \"dot\", \"size\": 25, \"color\": \"rgb(127,127,255)\"}, \"mode\": \"markers+text\", \"hoverinfo\": \"text\", \"x\": [-0.5834248469968314, -0.6041695257531227, -0.28461503084472173, 0.010145860890201887, 0.2000289546760155, 0.5775986495722993, 1.0, -0.032153384532790985, -0.28341067701104977], \"textposition\": \"top\"}], {\"xaxis\": {\"zeroline\": false, \"showticklabels\": false, \"showgrid\": false}, \"hovermode\": \"closest\", \"yaxis\": {\"zeroline\": false, \"showticklabels\": false, \"showgrid\": false}, \"font\": {\"size\": 12}, \"title\": \"Model\", \"showlegend\": false}, {\"linkText\": \"Export to plot.ly\", \"showLink\": true})});</script>"
      ],
      "text/vnd.plotly.v1+html": [
       "<div id=\"8bfd11ec-1ecd-4c59-a731-d5f4d2abfe2e\" style=\"height: 525px; width: 100%;\" class=\"plotly-graph-div\"></div><script type=\"text/javascript\">require([\"plotly\"], function(Plotly) { window.PLOTLYENV=window.PLOTLYENV || {};window.PLOTLYENV.BASE_URL=\"https://plot.ly\";Plotly.newPlot(\"8bfd11ec-1ecd-4c59-a731-d5f4d2abfe2e\", [{\"text\": \"next\", \"type\": \"scatter\", \"y\": [0.044786722277398494, -0.20137867769716936, null, -0.2834338110220253, -0.312042619460311, null, -0.3215788889397395, -0.20066084609340704, null, -0.1603548318112962, 0.013642122053399625, null, 0.07164110667496489, 0.15490022759889444, null, 0.18265326790687098, 0.263904975898495, null, -0.0035310522115224786, 0.1332386933693541, null, 0.17882860856297964, 0.07829719384879377, null], \"line\": {\"width\": 2, \"color\": \"red\"}, \"mode\": \"lines+text\", \"hoverinfo\": \"none\", \"x\": [-0.5834248469968314, -0.5989833560640498, null, -0.6041695257531227, -0.364503654571822, null, -0.28461503084472173, -0.06354436204352903, null, 0.010145860890201887, 0.1525581812295621, null, 0.2000289546760155, 0.48320622584822837, null, 0.5775986495722993, 0.8943996623930748, null, -0.032153384532790985, -0.22059635389148508, null, -0.28341067701104977, -0.508421304500386, null], \"textposition\": \"top\"}, {\"type\": \"scatter\", \"y\": [-0.20137867769716936, -0.2834338110220253, null, -0.312042619460311, -0.3215788889397395, null, -0.20066084609340704, -0.1603548318112962, null, 0.013642122053399625, 0.07164110667496489, null, 0.15490022759889444, 0.18265326790687098, null, 0.263904975898495, 0.29098887856236966, null, 0.1332386933693541, 0.17882860856297964, null, 0.07829719384879377, 0.044786722277398494, null], \"line\": {\"width\": 7, \"color\": \"red\"}, \"mode\": \"lines\", \"hoverinfo\": \"none\", \"x\": [-0.5989833560640498, -0.6041695257531227, null, -0.364503654571822, -0.28461503084472173, null, -0.06354436204352903, 0.010145860890201887, null, 0.1525581812295621, 0.2000289546760155, null, 0.48320622584822837, 0.5775986495722993, null, 0.8943996623930748, 1.0, null, -0.22059635389148508, -0.28341067701104977, null, -0.508421304500386, -0.5834248469968314, null]}, {\"text\": [\"-3 / a2\", \"-2 / a3\", \"-1 / a4\", \"0 / a5\", \"1 / a6\", \"2 / a7\", \"sl.list.null\", \"-5 / x\", \"-4 / a1\"], \"type\": \"scatter\", \"y\": [0.044786722277398494, -0.2834338110220253, -0.3215788889397395, -0.1603548318112962, 0.07164110667496489, 0.18265326790687098, 0.29098887856236966, -0.0035310522115224786, 0.17882860856297964], \"marker\": {\"line\": {\"width\": 2, \"color\": \"rgb(50,50,50)\"}, \"symbol\": \"dot\", \"size\": 25, \"color\": \"rgb(127,127,255)\"}, \"mode\": \"markers+text\", \"hoverinfo\": \"text\", \"x\": [-0.5834248469968314, -0.6041695257531227, -0.28461503084472173, 0.010145860890201887, 0.2000289546760155, 0.5775986495722993, 1.0, -0.032153384532790985, -0.28341067701104977], \"textposition\": \"top\"}], {\"xaxis\": {\"zeroline\": false, \"showticklabels\": false, \"showgrid\": false}, \"hovermode\": \"closest\", \"yaxis\": {\"zeroline\": false, \"showticklabels\": false, \"showgrid\": false}, \"font\": {\"size\": 12}, \"title\": \"Model\", \"showlegend\": false}, {\"linkText\": \"Export to plot.ly\", \"showLink\": true})});</script>"
      ]
     },
     "metadata": {},
     "output_type": "display_data"
    }
   ],
   "source": [
    "iplot(m)"
   ]
  },
  {
   "cell_type": "markdown",
   "metadata": {},
   "source": [
    "As you can see, the data stored in the nodes really are sorted.\n",
    "\n",
    "The per-field data predicates are really useful when we want to specify properties of trees. For example, the $\\SLstar$ formula $\\mathsf{tree}(t, \\{(\\mathsf{l}, \\alpha > \\beta), (\\mathsf{r}, \\alpha < \\beta)\\}$ specifies a binary search tree: Whenever I get to a location by first taking the left ($\\mathsf{l}$) field, the data value gets smaller; and whenever I go right first, the data value gets larger.\n",
    "\n",
    "Let's express this in the `sloth` API. We need to assert the predicates separately. I.e., we say that the heap contains both a tree where the first predicate holds and a tree where the second predicate holds. $\\mathbf{SL}_\\mathsf{data}^{*}$ semantics of conjunction forces that the footprints of these trees coincide, so the predicates in fact hold in the same tree! To get an interesting model, we again force a minimal size by conjoining a formula that allocates a few nodes. "
   ]
  },
  {
   "cell_type": "code",
   "execution_count": 13,
   "metadata": {},
   "outputs": [
    {
     "data": {
      "text/plain": [
       "Model [\n",
       "  Struct sl.tree [\n",
       "    locs = Integers(6:[a1], 7:[a2], 8:[a3], 9:[a4], 10:[a5], 11:[sl.tree.null], 12:[t])\n",
       "    null = 11\n",
       "    right = 6->9, 7->11, 8->11, 9->11, 10->11, 12->7\n",
       "    left = 6->8, 7->10, 8->11, 9->11, 10->11, 12->6\n",
       "    data = 6->-3, 7->1, 8->-4, 9->-2, 10->0, 12->-1\n",
       "    footprints:\n",
       "    _Xdata=[6, 7, 8, 9, 10, 12], _Xright=[6, 7, 8, 9, 10, 12], _Xleft=[6, 7, 8\n",
       "    9, 10, 12]\n",
       "  ]\n",
       "  Data [\n",
       "    d0=-1, d1=-3, d2=1, d3=-4, d4=-2, d5=0\n",
       "  ]\n",
       "]"
      ]
     },
     "execution_count": 13,
     "metadata": {},
     "output_type": "execute_result"
    }
   ],
   "source": [
    "from sloth.slbuilders import tree_of_size\n",
    "size5 = tree_of_size(6, t)\n",
    "binary_search_tree = And(sl.tree.dpred.left(sl.alpha > sl.beta, t),\n",
    "                        sl.tree.dpred.right(sl.alpha < sl.beta, t))\n",
    "m = model(And(size5, binary_search_tree)); m"
   ]
  },
  {
   "cell_type": "code",
   "execution_count": 14,
   "metadata": {},
   "outputs": [
    {
     "data": {
      "application/vnd.plotly.v1+json": {
       "data": [
        {
         "hoverinfo": "none",
         "line": {
          "color": "red",
          "width": 2
         },
         "mode": "lines+text",
         "text": "right",
         "textposition": "top",
         "type": "scatter",
         "x": [
          -0.5400548091231206,
          -0.8850137022807801,
          null,
          0.10907661727821405,
          0.5946463515043677,
          null
         ],
         "y": [
          0.020898645060096237,
          0.272604723483533,
          null,
          0.07445536109469193,
          0.09839724258174551,
          null
         ]
        },
        {
         "hoverinfo": "none",
         "line": {
          "color": "red",
          "width": 7
         },
         "mode": "lines",
         "type": "scatter",
         "x": [
          -0.8850137022807801,
          -1,
          null,
          0.5946463515043677,
          0.7565029295797523,
          null
         ],
         "y": [
          0.272604723483533,
          0.3565067496246786,
          null,
          0.09839724258174551,
          0.1063778697440967,
          null
         ]
        },
        {
         "hoverinfo": "none",
         "line": {
          "color": "green",
          "width": 2
         },
         "mode": "lines+text",
         "text": "left",
         "textposition": "top",
         "type": "scatter",
         "x": [
          -0.5400548091231206,
          -0.26460404388396985,
          null,
          0.7565029295797523,
          0.8245725206969936,
          null,
          0.10907661727821405,
          -0.37777195252278695,
          null
         ],
         "y": [
          0.020898645060096237,
          -0.30360609280903056,
          null,
          0.1063778697440967,
          -0.08325374763259367,
          null,
          0.07445536109469193,
          0.034287824068745164,
          null
         ]
        },
        {
         "hoverinfo": "none",
         "line": {
          "color": "green",
          "width": 7
         },
         "mode": "lines",
         "type": "scatter",
         "x": [
          -0.26460404388396985,
          -0.1727871221375863,
          null,
          0.8245725206969936,
          0.8472623844027407,
          null,
          -0.37777195252278695,
          -0.5400548091231206,
          null
         ],
         "y": [
          -0.30360609280903056,
          -0.4117743387654062,
          null,
          -0.08325374763259367,
          -0.14646428675815715,
          null,
          0.034287824068745164,
          0.020898645060096237,
          null
         ]
        },
        {
         "hoverinfo": "text",
         "marker": {
          "color": "rgb(127,127,255)",
          "line": {
           "color": "rgb(50,50,50)",
           "width": 2
          },
          "size": 25,
          "symbol": "dot"
         },
         "mode": "markers+text",
         "text": [
          "-3 / a1",
          "1 / a2",
          "-4 / a3",
          "-2 / a4",
          "0 / a5",
          "-1 / t"
         ],
         "textposition": "top",
         "type": "scatter",
         "x": [
          -0.5400548091231206,
          0.7565029295797523,
          -0.1727871221375863,
          -1,
          0.8472623844027407,
          0.10907661727821405
         ],
         "y": [
          0.020898645060096237,
          0.1063778697440967,
          -0.4117743387654062,
          0.3565067496246786,
          -0.14646428675815715,
          0.07445536109469193
         ]
        }
       ],
       "layout": {
        "font": {
         "size": 12
        },
        "hovermode": "closest",
        "showlegend": false,
        "title": "Model",
        "xaxis": {
         "showgrid": false,
         "showticklabels": false,
         "zeroline": false
        },
        "yaxis": {
         "showgrid": false,
         "showticklabels": false,
         "zeroline": false
        }
       }
      },
      "text/html": [
       "<div id=\"f0f07831-d0b6-4d82-a812-ce990c6bc266\" style=\"height: 525px; width: 100%;\" class=\"plotly-graph-div\"></div><script type=\"text/javascript\">require([\"plotly\"], function(Plotly) { window.PLOTLYENV=window.PLOTLYENV || {};window.PLOTLYENV.BASE_URL=\"https://plot.ly\";Plotly.newPlot(\"f0f07831-d0b6-4d82-a812-ce990c6bc266\", [{\"text\": \"right\", \"type\": \"scatter\", \"y\": [0.020898645060096237, 0.272604723483533, null, 0.07445536109469193, 0.09839724258174551, null], \"line\": {\"width\": 2, \"color\": \"red\"}, \"mode\": \"lines+text\", \"hoverinfo\": \"none\", \"x\": [-0.5400548091231206, -0.8850137022807801, null, 0.10907661727821405, 0.5946463515043677, null], \"textposition\": \"top\"}, {\"type\": \"scatter\", \"y\": [0.272604723483533, 0.3565067496246786, null, 0.09839724258174551, 0.1063778697440967, null], \"line\": {\"width\": 7, \"color\": \"red\"}, \"mode\": \"lines\", \"hoverinfo\": \"none\", \"x\": [-0.8850137022807801, -1.0, null, 0.5946463515043677, 0.7565029295797523, null]}, {\"text\": \"left\", \"type\": \"scatter\", \"y\": [0.020898645060096237, -0.30360609280903056, null, 0.1063778697440967, -0.08325374763259367, null, 0.07445536109469193, 0.034287824068745164, null], \"line\": {\"width\": 2, \"color\": \"green\"}, \"mode\": \"lines+text\", \"hoverinfo\": \"none\", \"x\": [-0.5400548091231206, -0.26460404388396985, null, 0.7565029295797523, 0.8245725206969936, null, 0.10907661727821405, -0.37777195252278695, null], \"textposition\": \"top\"}, {\"type\": \"scatter\", \"y\": [-0.30360609280903056, -0.4117743387654062, null, -0.08325374763259367, -0.14646428675815715, null, 0.034287824068745164, 0.020898645060096237, null], \"line\": {\"width\": 7, \"color\": \"green\"}, \"mode\": \"lines\", \"hoverinfo\": \"none\", \"x\": [-0.26460404388396985, -0.1727871221375863, null, 0.8245725206969936, 0.8472623844027407, null, -0.37777195252278695, -0.5400548091231206, null]}, {\"text\": [\"-3 / a1\", \"1 / a2\", \"-4 / a3\", \"-2 / a4\", \"0 / a5\", \"-1 / t\"], \"type\": \"scatter\", \"y\": [0.020898645060096237, 0.1063778697440967, -0.4117743387654062, 0.3565067496246786, -0.14646428675815715, 0.07445536109469193], \"marker\": {\"line\": {\"width\": 2, \"color\": \"rgb(50,50,50)\"}, \"symbol\": \"dot\", \"size\": 25, \"color\": \"rgb(127,127,255)\"}, \"mode\": \"markers+text\", \"hoverinfo\": \"text\", \"x\": [-0.5400548091231206, 0.7565029295797523, -0.1727871221375863, -1.0, 0.8472623844027407, 0.10907661727821405], \"textposition\": \"top\"}], {\"xaxis\": {\"zeroline\": false, \"showticklabels\": false, \"showgrid\": false}, \"hovermode\": \"closest\", \"yaxis\": {\"zeroline\": false, \"showticklabels\": false, \"showgrid\": false}, \"font\": {\"size\": 12}, \"title\": \"Model\", \"showlegend\": false}, {\"linkText\": \"Export to plot.ly\", \"showLink\": true})});</script>"
      ],
      "text/vnd.plotly.v1+html": [
       "<div id=\"f0f07831-d0b6-4d82-a812-ce990c6bc266\" style=\"height: 525px; width: 100%;\" class=\"plotly-graph-div\"></div><script type=\"text/javascript\">require([\"plotly\"], function(Plotly) { window.PLOTLYENV=window.PLOTLYENV || {};window.PLOTLYENV.BASE_URL=\"https://plot.ly\";Plotly.newPlot(\"f0f07831-d0b6-4d82-a812-ce990c6bc266\", [{\"text\": \"right\", \"type\": \"scatter\", \"y\": [0.020898645060096237, 0.272604723483533, null, 0.07445536109469193, 0.09839724258174551, null], \"line\": {\"width\": 2, \"color\": \"red\"}, \"mode\": \"lines+text\", \"hoverinfo\": \"none\", \"x\": [-0.5400548091231206, -0.8850137022807801, null, 0.10907661727821405, 0.5946463515043677, null], \"textposition\": \"top\"}, {\"type\": \"scatter\", \"y\": [0.272604723483533, 0.3565067496246786, null, 0.09839724258174551, 0.1063778697440967, null], \"line\": {\"width\": 7, \"color\": \"red\"}, \"mode\": \"lines\", \"hoverinfo\": \"none\", \"x\": [-0.8850137022807801, -1.0, null, 0.5946463515043677, 0.7565029295797523, null]}, {\"text\": \"left\", \"type\": \"scatter\", \"y\": [0.020898645060096237, -0.30360609280903056, null, 0.1063778697440967, -0.08325374763259367, null, 0.07445536109469193, 0.034287824068745164, null], \"line\": {\"width\": 2, \"color\": \"green\"}, \"mode\": \"lines+text\", \"hoverinfo\": \"none\", \"x\": [-0.5400548091231206, -0.26460404388396985, null, 0.7565029295797523, 0.8245725206969936, null, 0.10907661727821405, -0.37777195252278695, null], \"textposition\": \"top\"}, {\"type\": \"scatter\", \"y\": [-0.30360609280903056, -0.4117743387654062, null, -0.08325374763259367, -0.14646428675815715, null, 0.034287824068745164, 0.020898645060096237, null], \"line\": {\"width\": 7, \"color\": \"green\"}, \"mode\": \"lines\", \"hoverinfo\": \"none\", \"x\": [-0.26460404388396985, -0.1727871221375863, null, 0.8245725206969936, 0.8472623844027407, null, -0.37777195252278695, -0.5400548091231206, null]}, {\"text\": [\"-3 / a1\", \"1 / a2\", \"-4 / a3\", \"-2 / a4\", \"0 / a5\", \"-1 / t\"], \"type\": \"scatter\", \"y\": [0.020898645060096237, 0.1063778697440967, -0.4117743387654062, 0.3565067496246786, -0.14646428675815715, 0.07445536109469193], \"marker\": {\"line\": {\"width\": 2, \"color\": \"rgb(50,50,50)\"}, \"symbol\": \"dot\", \"size\": 25, \"color\": \"rgb(127,127,255)\"}, \"mode\": \"markers+text\", \"hoverinfo\": \"text\", \"x\": [-0.5400548091231206, 0.7565029295797523, -0.1727871221375863, -1.0, 0.8472623844027407, 0.10907661727821405], \"textposition\": \"top\"}], {\"xaxis\": {\"zeroline\": false, \"showticklabels\": false, \"showgrid\": false}, \"hovermode\": \"closest\", \"yaxis\": {\"zeroline\": false, \"showticklabels\": false, \"showgrid\": false}, \"font\": {\"size\": 12}, \"title\": \"Model\", \"showlegend\": false}, {\"linkText\": \"Export to plot.ly\", \"showLink\": true})});</script>"
      ]
     },
     "metadata": {},
     "output_type": "display_data"
    }
   ],
   "source": [
    "iplot(m)"
   ]
  },
  {
   "cell_type": "markdown",
   "metadata": {},
   "source": [
    "To make the plots somewhat easier to understand, tree edges to null are suppressed by default. You can have them added to the graph if you like."
   ]
  },
  {
   "cell_type": "code",
   "execution_count": 15,
   "metadata": {},
   "outputs": [
    {
     "data": {
      "application/vnd.plotly.v1+json": {
       "data": [
        {
         "hoverinfo": "none",
         "line": {
          "color": "red",
          "width": 2
         },
         "mode": "lines+text",
         "text": "right",
         "textposition": "top",
         "type": "scatter",
         "x": [
          -0.14776277316935962,
          0.5247678880614138,
          null,
          -0.05197666049604933,
          0.715825138811123,
          null,
          -0.8687223319395166,
          -0.2561630783569161,
          null
         ],
         "y": [
          0.6915580015148364,
          0.47166779261975994,
          null,
          -0.9624284786565479,
          -0.7198249785981572,
          null,
          0.013771494180728953,
          -0.7183784854472287,
          null
         ]
        },
        {
         "hoverinfo": "none",
         "line": {
          "color": "red",
          "width": 7
         },
         "mode": "lines",
         "type": "scatter",
         "x": [
          0.5247678880614138,
          0.7489447751383383,
          null,
          0.715825138811123,
          0.9717590719135137,
          null,
          -0.2561630783569161,
          -0.05197666049604933,
          null
         ],
         "y": [
          0.47166779261975994,
          0.39837105632140113,
          null,
          -0.7198249785981572,
          -0.6389571452453603,
          null,
          -0.7183784854472287,
          -0.9624284786565479,
          null
         ]
        },
        {
         "hoverinfo": "none",
         "line": {
          "color": "green",
          "width": 2
         },
         "mode": "lines+text",
         "text": "left",
         "textposition": "top",
         "type": "scatter",
         "x": [
          -0.14776277316935962,
          -0.08750064334737886,
          null,
          -0.05197666049604933,
          -0.4516157761541683,
          null,
          -0.06741326674005195,
          0.7119659872501223,
          null,
          0.7489447751383383,
          0.91605549771972,
          null,
          -0.5848288147068746,
          0.5826121002584167,
          null,
          -0.8687223319395166,
          -0.32800266286189883,
          null
         ],
         "y": [
          0.6915580015148364,
          0.9228895003787091,
          null,
          -0.9624284786565479,
          -0.6173433157504308,
          null,
          1,
          -0.22921785893402014,
          null,
          0.39837105632140113,
          -0.37962509485367,
          null,
          -0.5023149281150584,
          -0.6047965909627848,
          null,
          0.013771494180728953,
          0.5221113746813095,
          null
         ]
        },
        {
         "hoverinfo": "none",
         "line": {
          "color": "green",
          "width": 7
         },
         "mode": "lines",
         "type": "scatter",
         "x": [
          -0.08750064334737886,
          -0.06741326674005195,
          null,
          -0.4516157761541683,
          -0.5848288147068746,
          null,
          0.7119659872501223,
          0.9717590719135137,
          null,
          0.91605549771972,
          0.9717590719135137,
          null,
          0.5826121002584167,
          0.9717590719135137,
          null,
          -0.32800266286189883,
          -0.14776277316935962,
          null
         ],
         "y": [
          0.9228895003787091,
          1,
          null,
          -0.6173433157504308,
          -0.5023149281150584,
          null,
          -0.22921785893402014,
          -0.6389571452453603,
          null,
          -0.37962509485367,
          -0.6389571452453603,
          null,
          -0.6047965909627848,
          -0.6389571452453603,
          null,
          0.5221113746813095,
          0.6915580015148364,
          null
         ]
        },
        {
         "hoverinfo": "text",
         "marker": {
          "color": "rgb(127,127,255)",
          "line": {
           "color": "rgb(50,50,50)",
           "width": 2
          },
          "size": 25,
          "symbol": "dot"
         },
         "mode": "markers+text",
         "text": [
          "-3 / a1",
          "1 / a2",
          "-4 / a3",
          "-2 / a4",
          "0 / a5",
          "sl.tree.null",
          "-1 / t"
         ],
         "textposition": "top",
         "type": "scatter",
         "x": [
          -0.14776277316935962,
          -0.05197666049604933,
          -0.06741326674005195,
          0.7489447751383383,
          -0.5848288147068746,
          0.9717590719135137,
          -0.8687223319395166
         ],
         "y": [
          0.6915580015148364,
          -0.9624284786565479,
          1,
          0.39837105632140113,
          -0.5023149281150584,
          -0.6389571452453603,
          0.013771494180728953
         ]
        }
       ],
       "layout": {
        "font": {
         "size": 12
        },
        "hovermode": "closest",
        "showlegend": false,
        "title": "Model",
        "xaxis": {
         "showgrid": false,
         "showticklabels": false,
         "zeroline": false
        },
        "yaxis": {
         "showgrid": false,
         "showticklabels": false,
         "zeroline": false
        }
       }
      },
      "text/html": [
       "<div id=\"5dd1761b-fff0-4d52-b930-5c7c653ded27\" style=\"height: 525px; width: 100%;\" class=\"plotly-graph-div\"></div><script type=\"text/javascript\">require([\"plotly\"], function(Plotly) { window.PLOTLYENV=window.PLOTLYENV || {};window.PLOTLYENV.BASE_URL=\"https://plot.ly\";Plotly.newPlot(\"5dd1761b-fff0-4d52-b930-5c7c653ded27\", [{\"text\": \"right\", \"type\": \"scatter\", \"y\": [0.6915580015148364, 0.47166779261975994, null, -0.9624284786565479, -0.7198249785981572, null, 0.013771494180728953, -0.7183784854472287, null], \"line\": {\"width\": 2, \"color\": \"red\"}, \"mode\": \"lines+text\", \"hoverinfo\": \"none\", \"x\": [-0.14776277316935962, 0.5247678880614138, null, -0.05197666049604933, 0.715825138811123, null, -0.8687223319395166, -0.2561630783569161, null], \"textposition\": \"top\"}, {\"type\": \"scatter\", \"y\": [0.47166779261975994, 0.39837105632140113, null, -0.7198249785981572, -0.6389571452453603, null, -0.7183784854472287, -0.9624284786565479, null], \"line\": {\"width\": 7, \"color\": \"red\"}, \"mode\": \"lines\", \"hoverinfo\": \"none\", \"x\": [0.5247678880614138, 0.7489447751383383, null, 0.715825138811123, 0.9717590719135137, null, -0.2561630783569161, -0.05197666049604933, null]}, {\"text\": \"left\", \"type\": \"scatter\", \"y\": [0.6915580015148364, 0.9228895003787091, null, -0.9624284786565479, -0.6173433157504308, null, 1.0, -0.22921785893402014, null, 0.39837105632140113, -0.37962509485367, null, -0.5023149281150584, -0.6047965909627848, null, 0.013771494180728953, 0.5221113746813095, null], \"line\": {\"width\": 2, \"color\": \"green\"}, \"mode\": \"lines+text\", \"hoverinfo\": \"none\", \"x\": [-0.14776277316935962, -0.08750064334737886, null, -0.05197666049604933, -0.4516157761541683, null, -0.06741326674005195, 0.7119659872501223, null, 0.7489447751383383, 0.91605549771972, null, -0.5848288147068746, 0.5826121002584167, null, -0.8687223319395166, -0.32800266286189883, null], \"textposition\": \"top\"}, {\"type\": \"scatter\", \"y\": [0.9228895003787091, 1.0, null, -0.6173433157504308, -0.5023149281150584, null, -0.22921785893402014, -0.6389571452453603, null, -0.37962509485367, -0.6389571452453603, null, -0.6047965909627848, -0.6389571452453603, null, 0.5221113746813095, 0.6915580015148364, null], \"line\": {\"width\": 7, \"color\": \"green\"}, \"mode\": \"lines\", \"hoverinfo\": \"none\", \"x\": [-0.08750064334737886, -0.06741326674005195, null, -0.4516157761541683, -0.5848288147068746, null, 0.7119659872501223, 0.9717590719135137, null, 0.91605549771972, 0.9717590719135137, null, 0.5826121002584167, 0.9717590719135137, null, -0.32800266286189883, -0.14776277316935962, null]}, {\"text\": [\"-3 / a1\", \"1 / a2\", \"-4 / a3\", \"-2 / a4\", \"0 / a5\", \"sl.tree.null\", \"-1 / t\"], \"type\": \"scatter\", \"y\": [0.6915580015148364, -0.9624284786565479, 1.0, 0.39837105632140113, -0.5023149281150584, -0.6389571452453603, 0.013771494180728953], \"marker\": {\"line\": {\"width\": 2, \"color\": \"rgb(50,50,50)\"}, \"symbol\": \"dot\", \"size\": 25, \"color\": \"rgb(127,127,255)\"}, \"mode\": \"markers+text\", \"hoverinfo\": \"text\", \"x\": [-0.14776277316935962, -0.05197666049604933, -0.06741326674005195, 0.7489447751383383, -0.5848288147068746, 0.9717590719135137, -0.8687223319395166], \"textposition\": \"top\"}], {\"xaxis\": {\"zeroline\": false, \"showticklabels\": false, \"showgrid\": false}, \"hovermode\": \"closest\", \"yaxis\": {\"zeroline\": false, \"showticklabels\": false, \"showgrid\": false}, \"font\": {\"size\": 12}, \"title\": \"Model\", \"showlegend\": false}, {\"linkText\": \"Export to plot.ly\", \"showLink\": true})});</script>"
      ],
      "text/vnd.plotly.v1+html": [
       "<div id=\"5dd1761b-fff0-4d52-b930-5c7c653ded27\" style=\"height: 525px; width: 100%;\" class=\"plotly-graph-div\"></div><script type=\"text/javascript\">require([\"plotly\"], function(Plotly) { window.PLOTLYENV=window.PLOTLYENV || {};window.PLOTLYENV.BASE_URL=\"https://plot.ly\";Plotly.newPlot(\"5dd1761b-fff0-4d52-b930-5c7c653ded27\", [{\"text\": \"right\", \"type\": \"scatter\", \"y\": [0.6915580015148364, 0.47166779261975994, null, -0.9624284786565479, -0.7198249785981572, null, 0.013771494180728953, -0.7183784854472287, null], \"line\": {\"width\": 2, \"color\": \"red\"}, \"mode\": \"lines+text\", \"hoverinfo\": \"none\", \"x\": [-0.14776277316935962, 0.5247678880614138, null, -0.05197666049604933, 0.715825138811123, null, -0.8687223319395166, -0.2561630783569161, null], \"textposition\": \"top\"}, {\"type\": \"scatter\", \"y\": [0.47166779261975994, 0.39837105632140113, null, -0.7198249785981572, -0.6389571452453603, null, -0.7183784854472287, -0.9624284786565479, null], \"line\": {\"width\": 7, \"color\": \"red\"}, \"mode\": \"lines\", \"hoverinfo\": \"none\", \"x\": [0.5247678880614138, 0.7489447751383383, null, 0.715825138811123, 0.9717590719135137, null, -0.2561630783569161, -0.05197666049604933, null]}, {\"text\": \"left\", \"type\": \"scatter\", \"y\": [0.6915580015148364, 0.9228895003787091, null, -0.9624284786565479, -0.6173433157504308, null, 1.0, -0.22921785893402014, null, 0.39837105632140113, -0.37962509485367, null, -0.5023149281150584, -0.6047965909627848, null, 0.013771494180728953, 0.5221113746813095, null], \"line\": {\"width\": 2, \"color\": \"green\"}, \"mode\": \"lines+text\", \"hoverinfo\": \"none\", \"x\": [-0.14776277316935962, -0.08750064334737886, null, -0.05197666049604933, -0.4516157761541683, null, -0.06741326674005195, 0.7119659872501223, null, 0.7489447751383383, 0.91605549771972, null, -0.5848288147068746, 0.5826121002584167, null, -0.8687223319395166, -0.32800266286189883, null], \"textposition\": \"top\"}, {\"type\": \"scatter\", \"y\": [0.9228895003787091, 1.0, null, -0.6173433157504308, -0.5023149281150584, null, -0.22921785893402014, -0.6389571452453603, null, -0.37962509485367, -0.6389571452453603, null, -0.6047965909627848, -0.6389571452453603, null, 0.5221113746813095, 0.6915580015148364, null], \"line\": {\"width\": 7, \"color\": \"green\"}, \"mode\": \"lines\", \"hoverinfo\": \"none\", \"x\": [-0.08750064334737886, -0.06741326674005195, null, -0.4516157761541683, -0.5848288147068746, null, 0.7119659872501223, 0.9717590719135137, null, 0.91605549771972, 0.9717590719135137, null, 0.5826121002584167, 0.9717590719135137, null, -0.32800266286189883, -0.14776277316935962, null]}, {\"text\": [\"-3 / a1\", \"1 / a2\", \"-4 / a3\", \"-2 / a4\", \"0 / a5\", \"sl.tree.null\", \"-1 / t\"], \"type\": \"scatter\", \"y\": [0.6915580015148364, -0.9624284786565479, 1.0, 0.39837105632140113, -0.5023149281150584, -0.6389571452453603, 0.013771494180728953], \"marker\": {\"line\": {\"width\": 2, \"color\": \"rgb(50,50,50)\"}, \"symbol\": \"dot\", \"size\": 25, \"color\": \"rgb(127,127,255)\"}, \"mode\": \"markers+text\", \"hoverinfo\": \"text\", \"x\": [-0.14776277316935962, -0.05197666049604933, -0.06741326674005195, 0.7489447751383383, -0.5848288147068746, 0.9717590719135137, -0.8687223319395166], \"textposition\": \"top\"}], {\"xaxis\": {\"zeroline\": false, \"showticklabels\": false, \"showgrid\": false}, \"hovermode\": \"closest\", \"yaxis\": {\"zeroline\": false, \"showticklabels\": false, \"showgrid\": false}, \"font\": {\"size\": 12}, \"title\": \"Model\", \"showlegend\": false}, {\"linkText\": \"Export to plot.ly\", \"showLink\": true})});</script>"
      ]
     },
     "metadata": {},
     "output_type": "display_data"
    }
   ],
   "source": [
    "iplot(m, draw_tree_edges_to_null=True)"
   ]
  },
  {
   "cell_type": "markdown",
   "metadata": {},
   "source": [
    "## The Command-Line Interface & the `sloth` Input Format\n",
    "\n",
    "CLI input files use a custom extension of SMT-LIB. Let's look at an example. (The `benchmark` function looks for the file `overlaid-four-nodes.smt2` in the (subdirectories of the) `benchmarks` folder of the repository. `show` reads the file and dumps its contents to stdout.)"
   ]
  },
  {
   "cell_type": "code",
   "execution_count": 16,
   "metadata": {},
   "outputs": [
    {
     "data": {
      "text/plain": [
       "'benchmarks/list-boolean-closure/overlaid-four-nodes.smt2'"
      ]
     },
     "execution_count": 16,
     "metadata": {},
     "output_type": "execute_result"
    }
   ],
   "source": [
    "benchmark('overlaid-four-nodes.smt2')"
   ]
  },
  {
   "cell_type": "code",
   "execution_count": 17,
   "metadata": {},
   "outputs": [
    {
     "name": "stdout",
     "output_type": "stream",
     "text": [
      "(declare-const x sl.list.loc)\n",
      "(declare-const y sl.list.loc)\n",
      "(declare-const z sl.list.loc)\n",
      "(declare-const w sl.list.loc)\n",
      "(declare-const d Int)\n",
      "(declare-const e Int)\n",
      "(declare-const f Int)\n",
      "(declare-const g Int)\n",
      "(assert (and (sl.list x)\n",
      "             (sl.sepcon (sl.sepcon (sl.list.dpointsto x y d)\n",
      "                              (sl.list.dpointsto y z e))\n",
      "                   (sl.sepcon (sl.list.dpointsto z w f)\n",
      "                              (sl.list.dpointsto w sl.list.null g)))))\n",
      "\n"
     ]
    }
   ],
   "source": [
    "show(benchmark('overlaid-four-nodes.smt2'))"
   ]
  },
  {
   "cell_type": "markdown",
   "metadata": {},
   "source": [
    "Let's go through this example in detail.\n",
    "\n",
    "- All sorts, functions etc. in our custom extension begin with the prefix `sl.`, usually followed by the data structure to which they apply, e.g. `list` or `tree`.\n",
    "- As usual in SMT-LIB, all variables used must be declared before their use\n",
    "- List locations are declared to be of sort `sl.list.loc`; tree locations of sort `sl.tree.loc`\n",
    "- We assert a classical conjunction using the standard SMT-LIB `and`\n",
    "- We assert that the heap consists (exclusively) of a list starting in a, `(sl.list a)`\n",
    "- We assert that in the same heap (`and`), there are four separate allocated list nodes. Each node has a `next` and a `data` field. For example, `(sl.list.dpointsto a b e)` says that `a` is allocated, its next pointer is referenced by `b` and it's data field contains the value of the integer variable `e`.\n",
    "\n",
    "You can invoke `sloth` on the benchmark by calling\n",
    "\n",
    "```\n",
    "$ ./sloth.sh benchmarks/list-boolean-closure/overlaid-four-nodes.smt2\n",
    "```\n",
    "\n",
    "But you can also parse the benchmark via the API:"
   ]
  },
  {
   "cell_type": "code",
   "execution_count": 18,
   "metadata": {},
   "outputs": [
    {
     "data": {
      "text/plain": [
       "ParseResult(expr=And(sl.list(x),\n",
       "    sl.sepcon(sl.sepcon(sl.list.dpointsto(x, y, d),\n",
       "                        sl.list.dpointsto(y, z, e)),\n",
       "              sl.sepcon(sl.list.dpointsto(z, w, f),\n",
       "                        sl.list.dpointsto(w,\n",
       "                                        sl.list.null,\n",
       "                                        g)))), backend=Integer locations & lambdas)"
      ]
     },
     "execution_count": 18,
     "metadata": {},
     "output_type": "execute_result"
    }
   ],
   "source": [
    "expr = parse(benchmark('overlaid-four-nodes.smt2')); expr"
   ]
  },
  {
   "cell_type": "markdown",
   "metadata": {},
   "source": [
    "Ignore the part about the `backend`. What matters for now is that the parse result can serve as input for `encode`, `model`, `iplot` etc. just like any expression created via the API!"
   ]
  },
  {
   "cell_type": "code",
   "execution_count": 19,
   "metadata": {},
   "outputs": [
    {
     "data": {
      "application/vnd.plotly.v1+json": {
       "data": [
        {
         "hoverinfo": "none",
         "line": {
          "color": "red",
          "width": 2
         },
         "mode": "lines+text",
         "text": "next",
         "textposition": "top",
         "type": "scatter",
         "x": [
          -0.576531192704206,
          -0.645596268487074,
          null,
          -0.6686179604146967,
          -0.2974085534381936,
          null,
          -0.17367208444602591,
          0.2706979070621902,
          null,
          0.4188212375649289,
          0.8547053093912322,
          null
         ],
         "y": [
          0.9415412744804412,
          0.40393339211895674,
          null,
          0.22473076466512862,
          -0.08161237787545864,
          null,
          -0.18372675872232108,
          -0.14925111484465794,
          null,
          -0.13775923355210357,
          -0.6680293435413847,
          null
         ]
        },
        {
         "hoverinfo": "none",
         "line": {
          "color": "red",
          "width": 7
         },
         "mode": "lines",
         "type": "scatter",
         "x": [
          -0.645596268487074,
          -0.6686179604146967,
          null,
          -0.2974085534381936,
          -0.17367208444602591,
          null,
          0.2706979070621902,
          0.4188212375649289,
          null,
          0.8547053093912322,
          1,
          null
         ],
         "y": [
          0.40393339211895674,
          0.22473076466512862,
          null,
          -0.08161237787545864,
          -0.18372675872232108,
          null,
          -0.14925111484465794,
          -0.13775923355210357,
          null,
          -0.6680293435413847,
          -0.844786046871145,
          null
         ]
        },
        {
         "hoverinfo": "text",
         "marker": {
          "color": "rgb(127,127,255)",
          "line": {
           "color": "rgb(50,50,50)",
           "width": 2
          },
          "size": 25,
          "symbol": "dot"
         },
         "mode": "markers+text",
         "text": [
          "2 / x",
          "4 / y",
          "6 / z",
          "8 / w",
          "sl.list.null"
         ],
         "textposition": "top",
         "type": "scatter",
         "x": [
          -0.576531192704206,
          -0.6686179604146967,
          -0.17367208444602591,
          0.4188212375649289,
          1
         ],
         "y": [
          0.9415412744804412,
          0.22473076466512862,
          -0.18372675872232108,
          -0.13775923355210357,
          -0.844786046871145
         ]
        }
       ],
       "layout": {
        "font": {
         "size": 12
        },
        "hovermode": "closest",
        "showlegend": false,
        "title": "Model",
        "xaxis": {
         "showgrid": false,
         "showticklabels": false,
         "zeroline": false
        },
        "yaxis": {
         "showgrid": false,
         "showticklabels": false,
         "zeroline": false
        }
       }
      },
      "text/html": [
       "<div id=\"fc74afae-860a-4714-8cd9-3cb0208850f7\" style=\"height: 525px; width: 100%;\" class=\"plotly-graph-div\"></div><script type=\"text/javascript\">require([\"plotly\"], function(Plotly) { window.PLOTLYENV=window.PLOTLYENV || {};window.PLOTLYENV.BASE_URL=\"https://plot.ly\";Plotly.newPlot(\"fc74afae-860a-4714-8cd9-3cb0208850f7\", [{\"text\": \"next\", \"type\": \"scatter\", \"y\": [0.9415412744804412, 0.40393339211895674, null, 0.22473076466512862, -0.08161237787545864, null, -0.18372675872232108, -0.14925111484465794, null, -0.13775923355210357, -0.6680293435413847, null], \"line\": {\"width\": 2, \"color\": \"red\"}, \"mode\": \"lines+text\", \"hoverinfo\": \"none\", \"x\": [-0.576531192704206, -0.645596268487074, null, -0.6686179604146967, -0.2974085534381936, null, -0.17367208444602591, 0.2706979070621902, null, 0.4188212375649289, 0.8547053093912322, null], \"textposition\": \"top\"}, {\"type\": \"scatter\", \"y\": [0.40393339211895674, 0.22473076466512862, null, -0.08161237787545864, -0.18372675872232108, null, -0.14925111484465794, -0.13775923355210357, null, -0.6680293435413847, -0.844786046871145, null], \"line\": {\"width\": 7, \"color\": \"red\"}, \"mode\": \"lines\", \"hoverinfo\": \"none\", \"x\": [-0.645596268487074, -0.6686179604146967, null, -0.2974085534381936, -0.17367208444602591, null, 0.2706979070621902, 0.4188212375649289, null, 0.8547053093912322, 1.0, null]}, {\"text\": [\"2 / x\", \"4 / y\", \"6 / z\", \"8 / w\", \"sl.list.null\"], \"type\": \"scatter\", \"y\": [0.9415412744804412, 0.22473076466512862, -0.18372675872232108, -0.13775923355210357, -0.844786046871145], \"marker\": {\"line\": {\"width\": 2, \"color\": \"rgb(50,50,50)\"}, \"symbol\": \"dot\", \"size\": 25, \"color\": \"rgb(127,127,255)\"}, \"mode\": \"markers+text\", \"hoverinfo\": \"text\", \"x\": [-0.576531192704206, -0.6686179604146967, -0.17367208444602591, 0.4188212375649289, 1.0], \"textposition\": \"top\"}], {\"xaxis\": {\"zeroline\": false, \"showticklabels\": false, \"showgrid\": false}, \"hovermode\": \"closest\", \"yaxis\": {\"zeroline\": false, \"showticklabels\": false, \"showgrid\": false}, \"font\": {\"size\": 12}, \"title\": \"Model\", \"showlegend\": false}, {\"linkText\": \"Export to plot.ly\", \"showLink\": true})});</script>"
      ],
      "text/vnd.plotly.v1+html": [
       "<div id=\"fc74afae-860a-4714-8cd9-3cb0208850f7\" style=\"height: 525px; width: 100%;\" class=\"plotly-graph-div\"></div><script type=\"text/javascript\">require([\"plotly\"], function(Plotly) { window.PLOTLYENV=window.PLOTLYENV || {};window.PLOTLYENV.BASE_URL=\"https://plot.ly\";Plotly.newPlot(\"fc74afae-860a-4714-8cd9-3cb0208850f7\", [{\"text\": \"next\", \"type\": \"scatter\", \"y\": [0.9415412744804412, 0.40393339211895674, null, 0.22473076466512862, -0.08161237787545864, null, -0.18372675872232108, -0.14925111484465794, null, -0.13775923355210357, -0.6680293435413847, null], \"line\": {\"width\": 2, \"color\": \"red\"}, \"mode\": \"lines+text\", \"hoverinfo\": \"none\", \"x\": [-0.576531192704206, -0.645596268487074, null, -0.6686179604146967, -0.2974085534381936, null, -0.17367208444602591, 0.2706979070621902, null, 0.4188212375649289, 0.8547053093912322, null], \"textposition\": \"top\"}, {\"type\": \"scatter\", \"y\": [0.40393339211895674, 0.22473076466512862, null, -0.08161237787545864, -0.18372675872232108, null, -0.14925111484465794, -0.13775923355210357, null, -0.6680293435413847, -0.844786046871145, null], \"line\": {\"width\": 7, \"color\": \"red\"}, \"mode\": \"lines\", \"hoverinfo\": \"none\", \"x\": [-0.645596268487074, -0.6686179604146967, null, -0.2974085534381936, -0.17367208444602591, null, 0.2706979070621902, 0.4188212375649289, null, 0.8547053093912322, 1.0, null]}, {\"text\": [\"2 / x\", \"4 / y\", \"6 / z\", \"8 / w\", \"sl.list.null\"], \"type\": \"scatter\", \"y\": [0.9415412744804412, 0.22473076466512862, -0.18372675872232108, -0.13775923355210357, -0.844786046871145], \"marker\": {\"line\": {\"width\": 2, \"color\": \"rgb(50,50,50)\"}, \"symbol\": \"dot\", \"size\": 25, \"color\": \"rgb(127,127,255)\"}, \"mode\": \"markers+text\", \"hoverinfo\": \"text\", \"x\": [-0.576531192704206, -0.6686179604146967, -0.17367208444602591, 0.4188212375649289, 1.0], \"textposition\": \"top\"}], {\"xaxis\": {\"zeroline\": false, \"showticklabels\": false, \"showgrid\": false}, \"hovermode\": \"closest\", \"yaxis\": {\"zeroline\": false, \"showticklabels\": false, \"showgrid\": false}, \"font\": {\"size\": 12}, \"title\": \"Model\", \"showlegend\": false}, {\"linkText\": \"Export to plot.ly\", \"showLink\": true})});</script>"
      ]
     },
     "metadata": {},
     "output_type": "display_data"
    }
   ],
   "source": [
    "iplot(model(expr))"
   ]
  },
  {
   "cell_type": "markdown",
   "metadata": {},
   "source": [
    "Currently, no full specification of the input language exists. The best way to understand the language is to have a look at benchmarks that interest you. As we saw above, you can simply load them into your Python session."
   ]
  },
  {
   "cell_type": "code",
   "execution_count": 20,
   "metadata": {},
   "outputs": [
    {
     "data": {
      "text/plain": [
       "Model [\n",
       "  Struct sl.list [\n",
       "    locs = Integers(0:[x], 1:[y], 3:[z], 5:[w], 7:[sl.list.null])\n",
       "    null = 7\n",
       "    data = 0->2, 1->4, 3->6, 5->8\n",
       "    next = 0->1, 1->3, 3->5, 5->7\n",
       "    footprints:\n",
       "    _Xdata=[0, 1, 3, 5], _Xnext=[0, 1, 3, 5]\n",
       "  ]\n",
       "  Data [\n",
       "    d=2, e=4, f=6, g=8\n",
       "  ]\n",
       "]"
      ]
     },
     "execution_count": 20,
     "metadata": {},
     "output_type": "execute_result"
    }
   ],
   "source": [
    "expr = parse(benchmark('overlaid-four-nodes.smt2'))\n",
    "m = solve(expr); m"
   ]
  },
  {
   "cell_type": "markdown",
   "metadata": {},
   "source": [
    "## Advanced Features of the `sloth` API"
   ]
  },
  {
   "cell_type": "markdown",
   "metadata": {},
   "source": [
    "### Graph Representations\n",
    "Model plotting is based on a graph representation of the SMT model. The graph representation may be easier to understand than the result of `model` calls. You don't have to plot the model to get a hold of it:"
   ]
  },
  {
   "cell_type": "code",
   "execution_count": 21,
   "metadata": {},
   "outputs": [
    {
     "data": {
      "text/plain": [
       "Graph({0, 1, 3, 5, 7}, {(0, 'data'): 2, (0, 'next'): 1, (1, 'data'): 4, (1, 'next'): 3, (3, 'data'): 6, (3, 'next'): 5, (5, 'data'): 8, (5, 'next'): 7}, {'sl.list.null': 7, 'w': 5, 'x': 0, 'y': 1, 'z': 3}, {'d': 2, 'e': 4, 'f': 6, 'g': 8})"
      ]
     },
     "execution_count": 21,
     "metadata": {},
     "output_type": "execute_result"
    }
   ],
   "source": [
    "gm = model_to_graph(m); gm"
   ]
  },
  {
   "cell_type": "markdown",
   "metadata": {},
   "source": [
    "Graph models have a rich API themselves. This can further aid understanding the model. Here are some examples:"
   ]
  },
  {
   "cell_type": "code",
   "execution_count": 22,
   "metadata": {},
   "outputs": [
    {
     "data": {
      "text/plain": [
       "{'1.) The next-pointer of x is allocated': True,\n",
       " '2.) x points to the following location': 0,\n",
       " '3.) The next and data pointers of x point to': [1, 2],\n",
       " '4.) w is reachable from x': True,\n",
       " '5.) z is reachable from w': False}"
      ]
     },
     "execution_count": 22,
     "metadata": {},
     "output_type": "execute_result"
    }
   ],
   "source": [
    "{'1.) The next-pointer of x is allocated' : gm.is_alloced('x', 'next'),\n",
    "  '2.) x points to the following location' : gm.resolve('x'),\n",
    "  '3.) The next and data pointers of x point to' : gm.successors('x', ['next', 'data']), \n",
    "  '4.) w is reachable from x' : gm.reach(['next'], 'x', 'w'),\n",
    "  '5.) z is reachable from w' : gm.reach(['next'], 'w', 'z')\n",
    "}"
   ]
  },
  {
   "cell_type": "markdown",
   "metadata": {},
   "source": [
    "### Inspect the Encoding\n",
    "\n",
    "It's possible to look at the SMT encoding that `sloth` generates. It contains comments, but is both large and complicated, so without studying the IJCAR paper, you will likely have a large time understanding what's going on."
   ]
  },
  {
   "cell_type": "code",
   "execution_count": 23,
   "metadata": {},
   "outputs": [
    {
     "name": "stdout",
     "output_type": "stream",
     "text": [
      "(declare-fun _X () (Array Int Bool))\n",
      "(declare-fun _Xdata () (Array Int Bool))\n",
      "(declare-fun _Xnext () (Array Int Bool))\n",
      "(declare-fun _Y1data () (Array Int Bool))\n",
      "(declare-fun _Y1next () (Array Int Bool))\n",
      "(declare-fun _Z () (Array Int Bool))\n",
      "(declare-fun _x0 () Int)\n",
      "(declare-fun _x1 () Int)\n",
      "(declare-fun _x2 () Int)\n",
      "(declare-fun sl.list.null () Int)\n",
      "(declare-fun x () Int)\n",
      "(declare-fun y () Int)\n",
      "(declare-fun _r_1 (Int Int) Bool)\n",
      "(declare-fun _r_2 (Int Int) Bool)\n",
      "(declare-fun _r_3 (Int Int) Bool)\n",
      "(declare-fun sl.list.data (Int) Int)\n",
      "(declare-fun sl.list.next (Int) Int)\n",
      "(assert\n",
      "  (and\n",
      "    ;; ***** A (bound: 3) *****\n",
      "    (and\n",
      "      ;; Placing (sl.list.seg x y) in the global context\n",
      "      (and\n",
      "        ;; Structural encoding of list(x, [y]) of size 3 with data constraints None\n",
      "        (and\n",
      "          ;; structure: _Z : SET(Int) is an acyclic data structure rooted in x\n",
      "          (and\n",
      "            ;; The root is in _Z : SET(Int)\n",
      "            (=>\n",
      "              (not\n",
      "                ;; x is a stop node\n",
      "                (or \n",
      "                  (= x sl.list.null)\n",
      "                  (= x y))\n",
      "              )\n",
      "              (select _Z x)\n",
      "            )\n",
      "            ;; oneparent: Every non-null nodes has at most one incoming pointer\n",
      "            (and\n",
      "              ;; If two nodes share a successor it's null\n",
      "              (and\n",
      "                (implies \n",
      "                  (and \n",
      "                    (select _Z _x0)\n",
      "                    (select _Z _x1)\n",
      "                    (not (= _x0 _x1)))\n",
      "                  (implies \n",
      "                    (= \n",
      "                      (sl.list.next _x0)\n",
      "                      (sl.list.next _x1))\n",
      "                    (= \n",
      "                      (sl.list.next _x0)\n",
      "                      sl.list.null)))\n",
      "                (implies \n",
      "                  (and \n",
      "                    (select _Z _x0)\n",
      "                    (select _Z _x2)\n",
      "                    (not (= _x0 _x2)))\n",
      "                  (implies \n",
      "                    (= \n",
      "                      (sl.list.next _x0)\n",
      "                      (sl.list.next _x2))\n",
      "                    (= \n",
      "                      (sl.list.next _x0)\n",
      "                      sl.list.null)))\n",
      "                (implies \n",
      "                  (and \n",
      "                    (select _Z _x1)\n",
      "                    (select _Z _x2)\n",
      "                    (not (= _x1 _x2)))\n",
      "                  (implies \n",
      "                    (= \n",
      "                      (sl.list.next _x1)\n",
      "                      (sl.list.next _x2))\n",
      "                    (= \n",
      "                      (sl.list.next _x1)\n",
      "                      sl.list.null)))\n",
      "              )\n",
      "            )\n",
      "            ;; There is no cycle from the root to the root\n",
      "            (not\n",
      "              (_r_3 x x)\n",
      "            )\n",
      "          )\n",
      "          ;; The root x and stop points [y] aren't allocated in other structs\n",
      "          (and\n",
      "            true\n",
      "          )\n",
      "          ;; stops^sl.list: Combined stop node constraints\n",
      "          (and\n",
      "            ;; Stop nodes are pairwise different\n",
      "            (and\n",
      "              true\n",
      "            )\n",
      "            ;; If the root is a stop node, it's equal to all stop nodes\n",
      "            (=>\n",
      "              ;; x is a stop node\n",
      "              (or \n",
      "                (= x sl.list.null)\n",
      "                (= x y))\n",
      "              (and (= x y))\n",
      "            )\n",
      "            ;; If the root isn't a stop node then all stop nodes occur\n",
      "            (=>\n",
      "              (not\n",
      "                ;; x is a stop node\n",
      "                (or \n",
      "                  (= x sl.list.null)\n",
      "                  (= x y))\n",
      "              )\n",
      "              ;; All stop nodes occur\n",
      "              (and\n",
      "                ;; If the list is non-empty, it contains the node y\n",
      "                (or\n",
      "                  ;; _x0 is alloced and one of its descendants is node y\n",
      "                  (and\n",
      "                    (select _Z _x0)\n",
      "                    ;; y is a ['next']-successor of _x0\n",
      "                    (or\n",
      "                      (= \n",
      "                        (sl.list.next _x0)\n",
      "                        y)\n",
      "                    )\n",
      "                  )\n",
      "                  ;; _x1 is alloced and one of its descendants is node y\n",
      "                  (and\n",
      "                    (select _Z _x1)\n",
      "                    ;; y is a ['next']-successor of _x1\n",
      "                    (or\n",
      "                      (= \n",
      "                        (sl.list.next _x1)\n",
      "                        y)\n",
      "                    )\n",
      "                  )\n",
      "                  ;; _x2 is alloced and one of its descendants is node y\n",
      "                  (and\n",
      "                    (select _Z _x2)\n",
      "                    ;; y is a ['next']-successor of _x2\n",
      "                    (or\n",
      "                      (= \n",
      "                        (sl.list.next _x2)\n",
      "                        y)\n",
      "                    )\n",
      "                  )\n",
      "                )\n",
      "              )\n",
      "            )\n",
      "            ;; All leaves are stop nodes\n",
      "            (and\n",
      "              ;; If the next-successor of _x0 isn't alloced it's a stop node\n",
      "              (=>\n",
      "                (and \n",
      "                  (select _Z _x0)\n",
      "                  (not \n",
      "                    (select \n",
      "                      _Z\n",
      "                      (sl.list.next _x0))))\n",
      "                ;; sl.list.next(_x0) is a stop node\n",
      "                (or \n",
      "                  (= \n",
      "                    (sl.list.next _x0)\n",
      "                    sl.list.null)\n",
      "                  (= \n",
      "                    (sl.list.next _x0)\n",
      "                    y))\n",
      "              )\n",
      "              ;; If the next-successor of _x1 isn't alloced it's a stop node\n",
      "              (=>\n",
      "                (and \n",
      "                  (select _Z _x1)\n",
      "                  (not \n",
      "                    (select \n",
      "                      _Z\n",
      "                      (sl.list.next _x1))))\n",
      "                ;; sl.list.next(_x1) is a stop node\n",
      "                (or \n",
      "                  (= \n",
      "                    (sl.list.next _x1)\n",
      "                    sl.list.null)\n",
      "                  (= \n",
      "                    (sl.list.next _x1)\n",
      "                    y))\n",
      "              )\n",
      "              ;; If the next-successor of _x2 isn't alloced it's a stop node\n",
      "              (=>\n",
      "                (and \n",
      "                  (select _Z _x2)\n",
      "                  (not \n",
      "                    (select \n",
      "                      _Z\n",
      "                      (sl.list.next _x2))))\n",
      "                ;; sl.list.next(_x2) is a stop node\n",
      "                (or \n",
      "                  (= \n",
      "                    (sl.list.next _x2)\n",
      "                    sl.list.null)\n",
      "                  (= \n",
      "                    (sl.list.next _x2)\n",
      "                    y))\n",
      "              )\n",
      "            )\n",
      "          )\n",
      "        )\n",
      "        ;; Connecting spatial formula to global constraint\n",
      "        (and\n",
      "          (= _Y1data _Xdata)\n",
      "          (= _Y1next _Xnext)\n",
      "        )\n",
      "      )\n",
      "    )\n",
      "    ;; ***** B (bound: 3) *****\n",
      "    (and\n",
      "      ;; Footprint encoding of list(x, [y]) of size 3\n",
      "      (and\n",
      "        ;; Define reachability predicates\n",
      "        (and\n",
      "          ;; Interpret _r_1 as 1-step reachability\n",
      "          (and\n",
      "            ;; 1-step reachability from _x0 to _x0\n",
      "            (=\n",
      "              (_r_1 _x0 _x0)\n",
      "              (and\n",
      "                (select _Z _x0)\n",
      "                (not\n",
      "                  ;; _x0 is a stop node\n",
      "                  (or \n",
      "                    (= _x0 sl.list.null)\n",
      "                    (= _x0 y))\n",
      "                )\n",
      "                ;; _x0 is a ['next']-successor of _x0\n",
      "                (or\n",
      "                  (= \n",
      "                    (sl.list.next _x0)\n",
      "                    _x0)\n",
      "                )\n",
      "              )\n",
      "            )\n",
      "            ;; 1-step reachability from _x0 to _x1\n",
      "            (=\n",
      "              (_r_1 _x0 _x1)\n",
      "              (and\n",
      "                (select _Z _x0)\n",
      "                (not\n",
      "                  ;; _x1 is a stop node\n",
      "                  (or \n",
      "                    (= _x1 sl.list.null)\n",
      "                    (= _x1 y))\n",
      "                )\n",
      "                ;; _x1 is a ['next']-successor of _x0\n",
      "                (or\n",
      "                  (= \n",
      "                    (sl.list.next _x0)\n",
      "                    _x1)\n",
      "                )\n",
      "              )\n",
      "            )\n",
      "            ;; 1-step reachability from _x0 to _x2\n",
      "            (=\n",
      "              (_r_1 _x0 _x2)\n",
      "              (and\n",
      "                (select _Z _x0)\n",
      "                (not\n",
      "                  ;; _x2 is a stop node\n",
      "                  (or \n",
      "                    (= _x2 sl.list.null)\n",
      "                    (= _x2 y))\n",
      "                )\n",
      "                ;; _x2 is a ['next']-successor of _x0\n",
      "                (or\n",
      "                  (= \n",
      "                    (sl.list.next _x0)\n",
      "                    _x2)\n",
      "                )\n",
      "              )\n",
      "            )\n",
      "            ;; 1-step reachability from _x1 to _x0\n",
      "            (=\n",
      "              (_r_1 _x1 _x0)\n",
      "              (and\n",
      "                (select _Z _x1)\n",
      "                (not\n",
      "                  ;; _x0 is a stop node\n",
      "                  (or \n",
      "                    (= _x0 sl.list.null)\n",
      "                    (= _x0 y))\n",
      "                )\n",
      "                ;; _x0 is a ['next']-successor of _x1\n",
      "                (or\n",
      "                  (= \n",
      "                    (sl.list.next _x1)\n",
      "                    _x0)\n",
      "                )\n",
      "              )\n",
      "            )\n",
      "            ;; 1-step reachability from _x1 to _x1\n",
      "            (=\n",
      "              (_r_1 _x1 _x1)\n",
      "              (and\n",
      "                (select _Z _x1)\n",
      "                (not\n",
      "                  ;; _x1 is a stop node\n",
      "                  (or \n",
      "                    (= _x1 sl.list.null)\n",
      "                    (= _x1 y))\n",
      "                )\n",
      "                ;; _x1 is a ['next']-successor of _x1\n",
      "                (or\n",
      "                  (= \n",
      "                    (sl.list.next _x1)\n",
      "                    _x1)\n",
      "                )\n",
      "              )\n",
      "            )\n",
      "            ;; 1-step reachability from _x1 to _x2\n",
      "            (=\n",
      "              (_r_1 _x1 _x2)\n",
      "              (and\n",
      "                (select _Z _x1)\n",
      "                (not\n",
      "                  ;; _x2 is a stop node\n",
      "                  (or \n",
      "                    (= _x2 sl.list.null)\n",
      "                    (= _x2 y))\n",
      "                )\n",
      "                ;; _x2 is a ['next']-successor of _x1\n",
      "                (or\n",
      "                  (= \n",
      "                    (sl.list.next _x1)\n",
      "                    _x2)\n",
      "                )\n",
      "              )\n",
      "            )\n",
      "            ;; 1-step reachability from _x2 to _x0\n",
      "            (=\n",
      "              (_r_1 _x2 _x0)\n",
      "              (and\n",
      "                (select _Z _x2)\n",
      "                (not\n",
      "                  ;; _x0 is a stop node\n",
      "                  (or \n",
      "                    (= _x0 sl.list.null)\n",
      "                    (= _x0 y))\n",
      "                )\n",
      "                ;; _x0 is a ['next']-successor of _x2\n",
      "                (or\n",
      "                  (= \n",
      "                    (sl.list.next _x2)\n",
      "                    _x0)\n",
      "                )\n",
      "              )\n",
      "            )\n",
      "            ;; 1-step reachability from _x2 to _x1\n",
      "            (=\n",
      "              (_r_1 _x2 _x1)\n",
      "              (and\n",
      "                (select _Z _x2)\n",
      "                (not\n",
      "                  ;; _x1 is a stop node\n",
      "                  (or \n",
      "                    (= _x1 sl.list.null)\n",
      "                    (= _x1 y))\n",
      "                )\n",
      "                ;; _x1 is a ['next']-successor of _x2\n",
      "                (or\n",
      "                  (= \n",
      "                    (sl.list.next _x2)\n",
      "                    _x1)\n",
      "                )\n",
      "              )\n",
      "            )\n",
      "            ;; 1-step reachability from _x2 to _x2\n",
      "            (=\n",
      "              (_r_1 _x2 _x2)\n",
      "              (and\n",
      "                (select _Z _x2)\n",
      "                (not\n",
      "                  ;; _x2 is a stop node\n",
      "                  (or \n",
      "                    (= _x2 sl.list.null)\n",
      "                    (= _x2 y))\n",
      "                )\n",
      "                ;; _x2 is a ['next']-successor of _x2\n",
      "                (or\n",
      "                  (= \n",
      "                    (sl.list.next _x2)\n",
      "                    _x2)\n",
      "                )\n",
      "              )\n",
      "            )\n",
      "          )\n",
      "          ;; Interpret _r_2 as 2-step reachability\n",
      "          (and\n",
      "            ;; 2-step reachability from _x0 to _x0\n",
      "            (=\n",
      "              (_r_2 _x0 _x0)\n",
      "              (or \n",
      "                (_r_1 _x0 _x0)\n",
      "                (or \n",
      "                  (and \n",
      "                    (_r_1 _x0 _x0)\n",
      "                    (_r_1 _x0 _x0))\n",
      "                  (and \n",
      "                    (_r_1 _x0 _x1)\n",
      "                    (_r_1 _x1 _x0))\n",
      "                  (and \n",
      "                    (_r_1 _x0 _x2)\n",
      "                    (_r_1 _x2 _x0))))\n",
      "            )\n",
      "            ;; 2-step reachability from _x0 to _x1\n",
      "            (=\n",
      "              (_r_2 _x0 _x1)\n",
      "              (or \n",
      "                (_r_1 _x0 _x1)\n",
      "                (or \n",
      "                  (and \n",
      "                    (_r_1 _x0 _x0)\n",
      "                    (_r_1 _x0 _x1))\n",
      "                  (and \n",
      "                    (_r_1 _x0 _x1)\n",
      "                    (_r_1 _x1 _x1))\n",
      "                  (and \n",
      "                    (_r_1 _x0 _x2)\n",
      "                    (_r_1 _x2 _x1))))\n",
      "            )\n",
      "            ;; 2-step reachability from _x0 to _x2\n",
      "            (=\n",
      "              (_r_2 _x0 _x2)\n",
      "              (or \n",
      "                (_r_1 _x0 _x2)\n",
      "                (or \n",
      "                  (and \n",
      "                    (_r_1 _x0 _x0)\n",
      "                    (_r_1 _x0 _x2))\n",
      "                  (and \n",
      "                    (_r_1 _x0 _x1)\n",
      "                    (_r_1 _x1 _x2))\n",
      "                  (and \n",
      "                    (_r_1 _x0 _x2)\n",
      "                    (_r_1 _x2 _x2))))\n",
      "            )\n",
      "            ;; 2-step reachability from _x1 to _x0\n",
      "            (=\n",
      "              (_r_2 _x1 _x0)\n",
      "              (or \n",
      "                (_r_1 _x1 _x0)\n",
      "                (or \n",
      "                  (and \n",
      "                    (_r_1 _x1 _x0)\n",
      "                    (_r_1 _x0 _x0))\n",
      "                  (and \n",
      "                    (_r_1 _x1 _x1)\n",
      "                    (_r_1 _x1 _x0))\n",
      "                  (and \n",
      "                    (_r_1 _x1 _x2)\n",
      "                    (_r_1 _x2 _x0))))\n",
      "            )\n",
      "            ;; 2-step reachability from _x1 to _x1\n",
      "            (=\n",
      "              (_r_2 _x1 _x1)\n",
      "              (or \n",
      "                (_r_1 _x1 _x1)\n",
      "                (or \n",
      "                  (and \n",
      "                    (_r_1 _x1 _x0)\n",
      "                    (_r_1 _x0 _x1))\n",
      "                  (and \n",
      "                    (_r_1 _x1 _x1)\n",
      "                    (_r_1 _x1 _x1))\n",
      "                  (and \n",
      "                    (_r_1 _x1 _x2)\n",
      "                    (_r_1 _x2 _x1))))\n",
      "            )\n",
      "            ;; 2-step reachability from _x1 to _x2\n",
      "            (=\n",
      "              (_r_2 _x1 _x2)\n",
      "              (or \n",
      "                (_r_1 _x1 _x2)\n",
      "                (or \n",
      "                  (and \n",
      "                    (_r_1 _x1 _x0)\n",
      "                    (_r_1 _x0 _x2))\n",
      "                  (and \n",
      "                    (_r_1 _x1 _x1)\n",
      "                    (_r_1 _x1 _x2))\n",
      "                  (and \n",
      "                    (_r_1 _x1 _x2)\n",
      "                    (_r_1 _x2 _x2))))\n",
      "            )\n",
      "            ;; 2-step reachability from _x2 to _x0\n",
      "            (=\n",
      "              (_r_2 _x2 _x0)\n",
      "              (or \n",
      "                (_r_1 _x2 _x0)\n",
      "                (or \n",
      "                  (and \n",
      "                    (_r_1 _x2 _x0)\n",
      "                    (_r_1 _x0 _x0))\n",
      "                  (and \n",
      "                    (_r_1 _x2 _x1)\n",
      "                    (_r_1 _x1 _x0))\n",
      "                  (and \n",
      "                    (_r_1 _x2 _x2)\n",
      "                    (_r_1 _x2 _x0))))\n",
      "            )\n",
      "            ;; 2-step reachability from _x2 to _x1\n",
      "            (=\n",
      "              (_r_2 _x2 _x1)\n",
      "              (or \n",
      "                (_r_1 _x2 _x1)\n",
      "                (or \n",
      "                  (and \n",
      "                    (_r_1 _x2 _x0)\n",
      "                    (_r_1 _x0 _x1))\n",
      "                  (and \n",
      "                    (_r_1 _x2 _x1)\n",
      "                    (_r_1 _x1 _x1))\n",
      "                  (and \n",
      "                    (_r_1 _x2 _x2)\n",
      "                    (_r_1 _x2 _x1))))\n",
      "            )\n",
      "            ;; 2-step reachability from _x2 to _x2\n",
      "            (=\n",
      "              (_r_2 _x2 _x2)\n",
      "              (or \n",
      "                (_r_1 _x2 _x2)\n",
      "                (or \n",
      "                  (and \n",
      "                    (_r_1 _x2 _x0)\n",
      "                    (_r_1 _x0 _x2))\n",
      "                  (and \n",
      "                    (_r_1 _x2 _x1)\n",
      "                    (_r_1 _x1 _x2))\n",
      "                  (and \n",
      "                    (_r_1 _x2 _x2)\n",
      "                    (_r_1 _x2 _x2))))\n",
      "            )\n",
      "          )\n",
      "          ;; Interpret _r_3 as 3-step reachability\n",
      "          (and\n",
      "            ;; 3-step reachability from _x0 to _x0\n",
      "            (=\n",
      "              (_r_3 _x0 _x0)\n",
      "              (or \n",
      "                (_r_2 _x0 _x0)\n",
      "                (or \n",
      "                  (and \n",
      "                    (_r_2 _x0 _x0)\n",
      "                    (_r_1 _x0 _x0))\n",
      "                  (and \n",
      "                    (_r_2 _x0 _x1)\n",
      "                    (_r_1 _x1 _x0))\n",
      "                  (and \n",
      "                    (_r_2 _x0 _x2)\n",
      "                    (_r_1 _x2 _x0))))\n",
      "            )\n",
      "            ;; 3-step reachability from _x0 to _x1\n",
      "            (=\n",
      "              (_r_3 _x0 _x1)\n",
      "              (or \n",
      "                (_r_2 _x0 _x1)\n",
      "                (or \n",
      "                  (and \n",
      "                    (_r_2 _x0 _x0)\n",
      "                    (_r_1 _x0 _x1))\n",
      "                  (and \n",
      "                    (_r_2 _x0 _x1)\n",
      "                    (_r_1 _x1 _x1))\n",
      "                  (and \n",
      "                    (_r_2 _x0 _x2)\n",
      "                    (_r_1 _x2 _x1))))\n",
      "            )\n",
      "            ;; 3-step reachability from _x0 to _x2\n",
      "            (=\n",
      "              (_r_3 _x0 _x2)\n",
      "              (or \n",
      "                (_r_2 _x0 _x2)\n",
      "                (or \n",
      "                  (and \n",
      "                    (_r_2 _x0 _x0)\n",
      "                    (_r_1 _x0 _x2))\n",
      "                  (and \n",
      "                    (_r_2 _x0 _x1)\n",
      "                    (_r_1 _x1 _x2))\n",
      "                  (and \n",
      "                    (_r_2 _x0 _x2)\n",
      "                    (_r_1 _x2 _x2))))\n",
      "            )\n",
      "            ;; 3-step reachability from _x1 to _x0\n",
      "            (=\n",
      "              (_r_3 _x1 _x0)\n",
      "              (or \n",
      "                (_r_2 _x1 _x0)\n",
      "                (or \n",
      "                  (and \n",
      "                    (_r_2 _x1 _x0)\n",
      "                    (_r_1 _x0 _x0))\n",
      "                  (and \n",
      "                    (_r_2 _x1 _x1)\n",
      "                    (_r_1 _x1 _x0))\n",
      "                  (and \n",
      "                    (_r_2 _x1 _x2)\n",
      "                    (_r_1 _x2 _x0))))\n",
      "            )\n",
      "            ;; 3-step reachability from _x1 to _x1\n",
      "            (=\n",
      "              (_r_3 _x1 _x1)\n",
      "              (or \n",
      "                (_r_2 _x1 _x1)\n",
      "                (or \n",
      "                  (and \n",
      "                    (_r_2 _x1 _x0)\n",
      "                    (_r_1 _x0 _x1))\n",
      "                  (and \n",
      "                    (_r_2 _x1 _x1)\n",
      "                    (_r_1 _x1 _x1))\n",
      "                  (and \n",
      "                    (_r_2 _x1 _x2)\n",
      "                    (_r_1 _x2 _x1))))\n",
      "            )\n",
      "            ;; 3-step reachability from _x1 to _x2\n",
      "            (=\n",
      "              (_r_3 _x1 _x2)\n",
      "              (or \n",
      "                (_r_2 _x1 _x2)\n",
      "                (or \n",
      "                  (and \n",
      "                    (_r_2 _x1 _x0)\n",
      "                    (_r_1 _x0 _x2))\n",
      "                  (and \n",
      "                    (_r_2 _x1 _x1)\n",
      "                    (_r_1 _x1 _x2))\n",
      "                  (and \n",
      "                    (_r_2 _x1 _x2)\n",
      "                    (_r_1 _x2 _x2))))\n",
      "            )\n",
      "            ;; 3-step reachability from _x2 to _x0\n",
      "            (=\n",
      "              (_r_3 _x2 _x0)\n",
      "              (or \n",
      "                (_r_2 _x2 _x0)\n",
      "                (or \n",
      "                  (and \n",
      "                    (_r_2 _x2 _x0)\n",
      "                    (_r_1 _x0 _x0))\n",
      "                  (and \n",
      "                    (_r_2 _x2 _x1)\n",
      "                    (_r_1 _x1 _x0))\n",
      "                  (and \n",
      "                    (_r_2 _x2 _x2)\n",
      "                    (_r_1 _x2 _x0))))\n",
      "            )\n",
      "            ;; 3-step reachability from _x2 to _x1\n",
      "            (=\n",
      "              (_r_3 _x2 _x1)\n",
      "              (or \n",
      "                (_r_2 _x2 _x1)\n",
      "                (or \n",
      "                  (and \n",
      "                    (_r_2 _x2 _x0)\n",
      "                    (_r_1 _x0 _x1))\n",
      "                  (and \n",
      "                    (_r_2 _x2 _x1)\n",
      "                    (_r_1 _x1 _x1))\n",
      "                  (and \n",
      "                    (_r_2 _x2 _x2)\n",
      "                    (_r_1 _x2 _x1))))\n",
      "            )\n",
      "            ;; 3-step reachability from _x2 to _x2\n",
      "            (=\n",
      "              (_r_3 _x2 _x2)\n",
      "              (or \n",
      "                (_r_2 _x2 _x2)\n",
      "                (or \n",
      "                  (and \n",
      "                    (_r_2 _x2 _x0)\n",
      "                    (_r_1 _x0 _x2))\n",
      "                  (and \n",
      "                    (_r_2 _x2 _x1)\n",
      "                    (_r_1 _x1 _x2))\n",
      "                  (and \n",
      "                    (_r_2 _x2 _x2)\n",
      "                    (_r_1 _x2 _x2))))\n",
      "            )\n",
      "          )\n",
      "        )\n",
      "        ;; footprint: Define the set _Z : SET(Int) for root x and nodes _x0,...,_x2\n",
      "        (and\n",
      "          ;; _Z : SET(Int) is a subset of {_x0,...,_x2}\n",
      "          (= \n",
      "            ((_ map implies) \n",
      "              _Z\n",
      "              (store \n",
      "                (store \n",
      "                  (store \n",
      "                    ((as const (Array Int Bool)) false)\n",
      "                    _x0\n",
      "                    true)\n",
      "                  _x1\n",
      "                  true)\n",
      "                _x2\n",
      "                true))\n",
      "            ((as const (Array Int Bool)) true))\n",
      "          ;; Define when _Z : SET(Int) is empty\n",
      "          (=>\n",
      "            ;; The root is such that _Z : SET(Int) must be empty\n",
      "            (or\n",
      "              ;; x is a stop node\n",
      "              (or \n",
      "                (= x sl.list.null)\n",
      "                (= x y))\n",
      "              (and \n",
      "                (not (= _x0 x))\n",
      "                (not (= _x1 x))\n",
      "                (not (= _x2 x)))\n",
      "            )\n",
      "            (= \n",
      "              _Z\n",
      "              ((as const (Array Int Bool)) false))\n",
      "          )\n",
      "          ;; If the root is allocated, _Z : SET(Int) contains exactly what's reachable from the root\n",
      "          (=>\n",
      "            (not\n",
      "              ;; The root is such that _Z : SET(Int) must be empty\n",
      "              (or\n",
      "                ;; x is a stop node\n",
      "                (or \n",
      "                  (= x sl.list.null)\n",
      "                  (= x y))\n",
      "                (and \n",
      "                  (not (= _x0 x))\n",
      "                  (not (= _x1 x))\n",
      "                  (not (= _x2 x)))\n",
      "              )\n",
      "            )\n",
      "            ;; Everything in _Z : SET(Int) is reachable from the root x\n",
      "            (and\n",
      "              (=\n",
      "                (select _Z _x0)\n",
      "                (or \n",
      "                  (= x _x0)\n",
      "                  (_r_3 x _x0))\n",
      "              )\n",
      "              (=\n",
      "                (select _Z _x1)\n",
      "                (or \n",
      "                  (= x _x1)\n",
      "                  (_r_3 x _x1))\n",
      "              )\n",
      "              (=\n",
      "                (select _Z _x2)\n",
      "                (or \n",
      "                  (= x _x2)\n",
      "                  (_r_3 x _x2))\n",
      "              )\n",
      "            )\n",
      "          )\n",
      "        )\n",
      "        ;; defineY: _Z : SET(Int) equals the footprint parameters _Y1 for sl.list\n",
      "        (and\n",
      "          ;; All sl.list footprints equal _Z : SET(Int)\n",
      "          (and\n",
      "            (= _Z _Y1data)\n",
      "            (= _Z _Y1next)\n",
      "          )\n",
      "        )\n",
      "        ;; The predicate root is among _x0..._x2\n",
      "        (select \n",
      "          (store \n",
      "            (store \n",
      "              (store \n",
      "                ((as const (Array Int Bool)) false)\n",
      "                _x0\n",
      "                true)\n",
      "              _x1\n",
      "              true)\n",
      "            _x2\n",
      "            true)\n",
      "          x)\n",
      "      )\n",
      "    )\n",
      "    ;; Delta_SL(3)\n",
      "    (and\n",
      "      ;; Global FP is the union of all field FPs\n",
      "      (= \n",
      "        _X\n",
      "        ((_ map or) _Xdata _Xnext))\n",
      "      ;; Global FP is subset of {x_1,...x_n}\n",
      "      (= \n",
      "        ((_ map implies) \n",
      "          _X\n",
      "          (store \n",
      "            (store \n",
      "              (store \n",
      "                ((as const (Array Int Bool)) false)\n",
      "                _x0\n",
      "                true)\n",
      "              _x1\n",
      "              true)\n",
      "            _x2\n",
      "            true))\n",
      "        ((as const (Array Int Bool)) true))\n",
      "      ;; Null is not allocated\n",
      "      (not \n",
      "        (select _X sl.list.null))\n",
      "    )\n",
      "  )\n",
      ")\n",
      "(check-sat)\n",
      "(get-model)\n",
      "\n"
     ]
    }
   ],
   "source": [
    "z3input = encode(sl.list.seg(x, y))\n",
    "print(z3input.to_smt2_string())"
   ]
  },
  {
   "cell_type": "markdown",
   "metadata": {},
   "source": [
    "It's perhaps more useful to write the encoding to a file that you can inspect in an editor and also directly feed to `Z3` if you like."
   ]
  },
  {
   "cell_type": "code",
   "execution_count": 24,
   "metadata": {},
   "outputs": [
    {
     "name": "stdout",
     "output_type": "stream",
     "text": [
      "Wrote encoding to \"encoding.smt2\".\n"
     ]
    }
   ],
   "source": [
    "z3input.to_file('encoding.smt2', verbose = True)"
   ]
  }
 ],
 "metadata": {
  "kernelspec": {
   "display_name": "Python 3",
   "language": "python",
   "name": "python3"
  },
  "language_info": {
   "codemirror_mode": {
    "name": "ipython",
    "version": 3
   },
   "file_extension": ".py",
   "mimetype": "text/x-python",
   "name": "python",
   "nbconvert_exporter": "python",
   "pygments_lexer": "ipython3",
   "version": "3.5.2"
  }
 },
 "nbformat": 4,
 "nbformat_minor": 2
}
